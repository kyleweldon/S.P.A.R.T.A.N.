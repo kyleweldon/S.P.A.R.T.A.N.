{
 "cells": [
  {
   "metadata": {},
   "cell_type": "markdown",
   "source": [
    "### **By Kyle Weldon**\n",
    "Everything in this file is writen and maintained by Kyle Weldon."
   ],
   "id": "c13a7f046945b0a4"
  },
  {
   "metadata": {},
   "cell_type": "markdown",
   "source": [
    "### **Importing needed packages**\n",
    "Versions used are dysplayed below the code."
   ],
   "id": "e1a9a655294d43d6"
  },
  {
   "metadata": {
    "ExecuteTime": {
     "end_time": "2024-07-16T22:58:16.573140Z",
     "start_time": "2024-07-16T22:58:16.567161Z"
    }
   },
   "cell_type": "code",
   "source": [
    "import pip\n",
    "import os\n",
    "# Supress TensorFlow messages\n",
    "os.environ['TF_ENABLE_ONEDNN_OPTS'] = '0'\n",
    "os.environ['TF_CPP_MIN_LOG_LEVEL'] = '2'\n",
    "import numpy as np\n",
    "import pandas as pd\n",
    "\n",
    "import warnings\n",
    "# Ignore the specific TensorFlow warning\n",
    "warnings.filterwarnings('ignore', category=UserWarning, message=\"Your TensorFlow version is newer than 2.4.0 and so graph support has been removed in eager mode and some static graphs may not be supported. See PR #1483 for discussion.\")\n",
    "\n",
    "import tensorflow as tf\n",
    "from tensorflow.keras.layers import Input,Dense, Concatenate, Reshape\n",
    "from tensorflow.keras.models import Model\n",
    "from tensorflow.keras import layers\n",
    "from tensorflow.keras.utils import to_categorical\n",
    "from tensorflow.keras.regularizers import l2\n",
    "\n",
    "import shap\n",
    "\n",
    "import sklearn\n",
    "from sklearn.tree import DecisionTreeClassifier, plot_tree\n",
    "from sklearn.metrics import accuracy_score\n",
    "\n",
    "print('pip version:', pip.__version__)\n",
    "print('NumPy version:', np.__version__)\n",
    "print('Pandas version:', pd.__version__)\n",
    "print('Scikit-learn version:', sklearn.__version__)\n",
    "print('Tensorflow version:', tf.__version__)\n",
    "print('shap version:', shap.__version__)"
   ],
   "id": "d7d3136effefefc",
   "outputs": [
    {
     "name": "stdout",
     "output_type": "stream",
     "text": [
      "pip version: 24.1.2\n",
      "NumPy version: 1.26.4\n",
      "Pandas version: 2.2.2\n",
      "Scikit-learn version: 1.5.1\n",
      "Tensorflow version: 2.17.0\n",
      "shap version: 0.46.0\n"
     ]
    }
   ],
   "execution_count": 25
  },
  {
   "metadata": {},
   "cell_type": "markdown",
   "source": [
    "### **Filtering raw data given:** \n",
    "\n",
    "The data that was given had incomplete data in a '.xlsx' file. The code below is what was used to remove all of the uncomplete samples and save the result as a '.csv' file."
   ],
   "id": "2a66ca22a3791e59"
  },
  {
   "metadata": {
    "ExecuteTime": {
     "end_time": "2024-07-16T22:58:17.443861Z",
     "start_time": "2024-07-16T22:58:16.617929Z"
    }
   },
   "cell_type": "code",
   "source": [
    "def filter_data(excel_file, output_csv):\n",
    "    try:\n",
    "        df = pd.read_excel(excel_file)\n",
    "    except FileNotFoundError:\n",
    "        print(f\"Error: The file '{excel_file}' was not found.\")\n",
    "        return\n",
    "    except Exception as e:\n",
    "        print(f\"Error occurred while reading '{excel_file}': {str(e)}\")\n",
    "        return\n",
    "\n",
    "    complete_rows = []\n",
    "    for index, row in df.iterrows():\n",
    "        if is_row_complete(row):\n",
    "            complete_rows.append(row)\n",
    "\n",
    "    cleaned_df = pd.DataFrame(complete_rows, columns=df.columns)\n",
    "\n",
    "    try:\n",
    "        cleaned_df.to_csv(output_csv, index=False)\n",
    "        print(f\"Cleaned data saved to '{output_csv}' successfully.\")\n",
    "        print(f\"There are {len(cleaned_df)} samples in the cleaned data.\")\n",
    "    except Exception as e:\n",
    "        print(f\"Error occurred while saving to '{output_csv}': {str(e)}\")\n",
    "        return\n",
    "\n",
    "def is_row_complete(row):\n",
    "    for cell in row:\n",
    "        if pd.isna(cell) or str(cell).strip() == '':\n",
    "            return False\n",
    "    return True\n",
    "\n",
    "filter_data('Data/RawData.xlsx', 'Data/FilteredData.csv')"
   ],
   "id": "a1c15883f79fde38",
   "outputs": [
    {
     "name": "stdout",
     "output_type": "stream",
     "text": [
      "Cleaned data saved to 'Data/FilteredData.csv' successfully.\n",
      "There are 881 samples in the cleaned data.\n"
     ]
    }
   ],
   "execution_count": 26
  },
  {
   "metadata": {},
   "cell_type": "markdown",
   "source": [
    "### **How to use the data:**\n",
    " There are 10 different 'senerios' or 'decisions' made by each sample (each sample represents one person). When making a decision they were able to choose between 0-10 based on how sure they are. This gives 11 possible choices per situation per sample. Given the fact there are only 881 samples attempting to accruetly predict 11 possible choices will likely not be accurate due to the limited data. To account for this The decisions are going to be split into three catagories. Anyone that chose a 0, 1, 2, or 3 will be a part of catagory one. Anyone that chose either 4, 5, or 6 will be a part of catagory two and anyone that chose 7, 8, 9, or 10 will be a part of catagory three. This gives a 4-3-4 catigorical split. Below is the code that completes this. It is also essential to remember to split the data into training and validating data. "
   ],
   "id": "87bec6f9bee166a3"
  },
  {
   "metadata": {
    "ExecuteTime": {
     "end_time": "2024-07-16T22:58:17.469994Z",
     "start_time": "2024-07-16T22:58:17.444872Z"
    }
   },
   "cell_type": "code",
   "source": [
    "df = pd.read_csv('Data/FilteredData.csv')\n",
    "# Column tites for all the output data\n",
    "output_columns = ['Scenario 1 ',\n",
    "                  'Unnamed: 40',\n",
    "                  'Scenario 2 ',\n",
    "                  'Unnamed: 42',\n",
    "                  'Scenario 3 ',\n",
    "                  'Unnamed: 44',\n",
    "                  'Scenario 4',\n",
    "                  'Unnamed: 46',\n",
    "                  'Scenario 5 ',\n",
    "                  'Unnamed: 48']\n",
    "\n",
    "def classiy_and_catigorize(column):\n",
    "    return to_categorical([0 if x <= 3 else 1 if x <= 6 else 2 for x in column])\n",
    "\n",
    "columns = df[output_columns].to_numpy().T # The 'T' is to transpose the array\n",
    "\n",
    "S1P1, S1P2, S2P1, S2P2, S3P1, S3P2, S4P1, S4P2, S5P1, S5P2 = [classiy_and_catigorize(col) for col in columns]\n",
    "all_situations = [S1P1, S1P2, S2P1, S2P2, S3P1, S3P2, S4P1, S4P2, S5P1, S5P2]\n",
    "\n",
    "for situation in all_situations:\n",
    "    print(situation.shape)"
   ],
   "id": "50f878445ec38803",
   "outputs": [
    {
     "name": "stdout",
     "output_type": "stream",
     "text": [
      "(881, 3)\n",
      "(881, 3)\n",
      "(881, 3)\n",
      "(881, 3)\n",
      "(881, 3)\n",
      "(881, 3)\n",
      "(881, 3)\n",
      "(881, 3)\n",
      "(881, 3)\n",
      "(881, 3)\n"
     ]
    }
   ],
   "execution_count": 27
  },
  {
   "metadata": {},
   "cell_type": "markdown",
   "source": [
    "### **Splitting into training and validating:**\n",
    "Before this data can be used to train a model it first needs to be split into traning and validating data. Below is the code that does that. The first 800 samples (people) are going to be used train the model while the last 81 are going to be for validation."
   ],
   "id": "bb8c17bd9ba3e59a"
  },
  {
   "metadata": {
    "ExecuteTime": {
     "end_time": "2024-07-16T22:58:17.476835Z",
     "start_time": "2024-07-16T22:58:17.471Z"
    }
   },
   "cell_type": "code",
   "source": [
    "def split(array):\n",
    "    return array[:800], array[800:]\n",
    "\n",
    "S1P1_train, S1P1_val = split(S1P1)\n",
    "S1P2_train, S1P2_val = split(S1P2)\n",
    "S2P1_train, S2P1_val = split(S2P1)\n",
    "S2P2_train, S2P2_val = split(S2P2)\n",
    "S3P1_train, S3P1_val = split(S3P1)\n",
    "S3P2_train, S3P2_val = split(S3P2)\n",
    "S4P1_train, S4P1_val = split(S4P1)\n",
    "S4P2_train, S4P2_val = split(S4P2)\n",
    "S5P1_train, S5P1_val = split(S5P1)\n",
    "S5P2_train, S5P2_val = split(S5P2)\n",
    "\n",
    "print(f\"S1P1 training shape: {S1P1_train.shape}\")\n",
    "print(f\"Validation set length: {len(S1P1_val)}\")"
   ],
   "id": "3d8f9cfa5328e181",
   "outputs": [
    {
     "name": "stdout",
     "output_type": "stream",
     "text": [
      "S1P1 training shape: (800, 3)\n",
      "Validation set length: 81\n"
     ]
    }
   ],
   "execution_count": 28
  },
  {
   "metadata": {},
   "cell_type": "markdown",
   "source": [
    "### **Prepare input data:**\n",
    "Now that the output data is fully prepared and ready for training it is time to prepare the coresponding input data. Simalar to the multiple outputs there our also miltiple inputs. Below is the code to complete this."
   ],
   "id": "ea27990777d9159a"
  },
  {
   "metadata": {
    "ExecuteTime": {
     "end_time": "2024-07-16T22:58:17.487163Z",
     "start_time": "2024-07-16T22:58:17.478177Z"
    }
   },
   "cell_type": "code",
   "source": [
    "# Column titles used for this input set\n",
    "input_columns1 = ['MAx1', 'Max2', 'Max3']\n",
    "input_columns2 = ['Q105_1','Q105_2','Q105_3','Q105_4','Q105_5','Q105_6','Q105_7','Q105_8','Q105_9','Q105_10','Q105_11','Q105_12','Q105_13','Q105_14','Q105_15','Q105_16','Q105_17','Q105_18','Q105_19','Q105_20','Q105_21','Q105_22','Q105_23','Q105_24','Q105_25','Q105_26','Q105_27','Q105_28','Q105_29','Q105_30','Q105_31','Q105_32','Q105_33','Q105_34']\n",
    "\n",
    "input_df1 = df[input_columns1]\n",
    "input1_X_values = input_df1.to_numpy()\n",
    "input_df2 = df[input_columns2]\n",
    "input2_X_values = input_df2.to_numpy()\n",
    "\n",
    "layer1_X_train = input1_X_values[:800]\n",
    "layer1_X_val = input1_X_values[800:]\n",
    "layer2_X_train = input2_X_values[:800]\n",
    "layer2_X_val = input2_X_values[800:]\n",
    "\n",
    "print(f\"Layer1 training shape: {layer1_X_train.shape} -> validating shape: {layer1_X_val.shape}\")\n",
    "print(f\"Layer2 training shape: {layer2_X_train.shape} -> validating shape: {layer2_X_val.shape}\")"
   ],
   "id": "ec3869e379f057ae",
   "outputs": [
    {
     "name": "stdout",
     "output_type": "stream",
     "text": [
      "Layer1 training shape: (800, 3) -> validating shape: (81, 3)\n",
      "Layer2 training shape: (800, 34) -> validating shape: (81, 34)\n"
     ]
    }
   ],
   "execution_count": 29
  },
  {
   "metadata": {},
   "cell_type": "markdown",
   "source": [
    "### **Building model archetecture:**\n",
    "First instinct is build a deep neural network. Because this initial model will predict all 10 different decisions for each sample a multi-output model is need. There was some adjustment needed to the output layers so they are the correct shape. The functional API from Keras is used for this."
   ],
   "id": "26fd5ebda408f77d"
  },
  {
   "metadata": {
    "ExecuteTime": {
     "end_time": "2024-07-16T22:58:17.600172Z",
     "start_time": "2024-07-16T22:58:17.488571Z"
    }
   },
   "cell_type": "code",
   "source": [
    "input1 = Input(shape=(3,), name='InputLayer1')\n",
    "\n",
    "hidden1_input1 = Dense(256, activation='relu', kernel_regularizer=l2(0.01), name='DenseOne_Input1')(input1)\n",
    "hidden2_input1 = Dense(128, activation='relu', kernel_regularizer=l2(0.01), name='DenseTwo_Input1')(hidden1_input1)\n",
    "hidden3_input1 = Dense(64, activation='relu', kernel_regularizer=l2(0.01), name='DenseThree_Input1')(hidden2_input1)\n",
    "hidden4_input1 = Dense(32, activation='relu', kernel_regularizer=l2(0.01), name='DenseFour_Input1')(hidden3_input1)\n",
    "hidden5_input1 = Dense(16, activation='relu', kernel_regularizer=l2(0.01), name='DenseFive_Input1')(hidden4_input1)\n",
    "\n",
    "input2 = Input(shape=(34,), name='InputLayer2')\n",
    "\n",
    "hidden1_input2 = Dense(256, activation='relu', kernel_regularizer=l2(0.01), name='DenseOne_Input2')(input2)\n",
    "hidden2_input2 = Dense(128, activation='relu', kernel_regularizer=l2(0.01), name='DenseTwo_Input2')(hidden1_input2)\n",
    "hidden3_input2 = Dense(64, activation='relu', kernel_regularizer=l2(0.01), name='DenseThree_Input2')(hidden2_input2)\n",
    "hidden4_input2 = Dense(32, activation='relu', kernel_regularizer=l2(0.01), name='DenseFour_Input2')(hidden3_input2)\n",
    "hidden5_input2 = Dense(16, activation='relu', kernel_regularizer=l2(0.01), name='DenseFive_Input2')(hidden4_input2)\n",
    "\n",
    "concatenated = Concatenate(name='ConcatinatedInput')([hidden5_input1, hidden5_input2])\n",
    "\n",
    "def create_output_layer(name, input_layer):\n",
    "    return Dense(3, activation='softmax', name=name)(input_layer)\n",
    "def itterate_situations_and_parts(num_itts=10):\n",
    "    scenerio = 1\n",
    "    sittos = []\n",
    "    for i in range(num_itts):\n",
    "        part = 1 if i % 2 == 0 else 2\n",
    "        sittos.append(f\"S{scenerio}P{part}\")\n",
    "        if part == 2: scenerio += 1\n",
    "    return sittos\n",
    "\n",
    "outputs = [create_output_layer(name, concatenated) for name in itterate_situations_and_parts()]\n",
    "\n",
    "model = Model(inputs=[input1, input2], outputs=outputs, name='CustomizedDeepNeuralNetwork')\n",
    "\n",
    "metrics = ['accuracy'] * 10  \n",
    "\n",
    "model.compile(loss='categorical_crossentropy',\n",
    "              optimizer='adam',\n",
    "              metrics=metrics)\n",
    "\n",
    "print(model.summary())"
   ],
   "id": "dbf81f727d4d6890",
   "outputs": [
    {
     "data": {
      "text/plain": [
       "\u001B[1mModel: \"CustomizedDeepNeuralNetwork\"\u001B[0m\n"
      ],
      "text/html": [
       "<pre style=\"white-space:pre;overflow-x:auto;line-height:normal;font-family:Menlo,'DejaVu Sans Mono',consolas,'Courier New',monospace\"><span style=\"font-weight: bold\">Model: \"CustomizedDeepNeuralNetwork\"</span>\n",
       "</pre>\n"
      ]
     },
     "metadata": {},
     "output_type": "display_data"
    },
    {
     "data": {
      "text/plain": [
       "┏━━━━━━━━━━━━━━━━━━━━━┳━━━━━━━━━━━━━━━━━━━┳━━━━━━━━━━━━┳━━━━━━━━━━━━━━━━━━━┓\n",
       "┃\u001B[1m \u001B[0m\u001B[1mLayer (type)       \u001B[0m\u001B[1m \u001B[0m┃\u001B[1m \u001B[0m\u001B[1mOutput Shape     \u001B[0m\u001B[1m \u001B[0m┃\u001B[1m \u001B[0m\u001B[1m   Param #\u001B[0m\u001B[1m \u001B[0m┃\u001B[1m \u001B[0m\u001B[1mConnected to     \u001B[0m\u001B[1m \u001B[0m┃\n",
       "┡━━━━━━━━━━━━━━━━━━━━━╇━━━━━━━━━━━━━━━━━━━╇━━━━━━━━━━━━╇━━━━━━━━━━━━━━━━━━━┩\n",
       "│ InputLayer1         │ (\u001B[38;5;45mNone\u001B[0m, \u001B[38;5;34m3\u001B[0m)         │          \u001B[38;5;34m0\u001B[0m │ -                 │\n",
       "│ (\u001B[38;5;33mInputLayer\u001B[0m)        │                   │            │                   │\n",
       "├─────────────────────┼───────────────────┼────────────┼───────────────────┤\n",
       "│ InputLayer2         │ (\u001B[38;5;45mNone\u001B[0m, \u001B[38;5;34m34\u001B[0m)        │          \u001B[38;5;34m0\u001B[0m │ -                 │\n",
       "│ (\u001B[38;5;33mInputLayer\u001B[0m)        │                   │            │                   │\n",
       "├─────────────────────┼───────────────────┼────────────┼───────────────────┤\n",
       "│ DenseOne_Input1     │ (\u001B[38;5;45mNone\u001B[0m, \u001B[38;5;34m256\u001B[0m)       │      \u001B[38;5;34m1,024\u001B[0m │ InputLayer1[\u001B[38;5;34m0\u001B[0m][\u001B[38;5;34m0\u001B[0m] │\n",
       "│ (\u001B[38;5;33mDense\u001B[0m)             │                   │            │                   │\n",
       "├─────────────────────┼───────────────────┼────────────┼───────────────────┤\n",
       "│ DenseOne_Input2     │ (\u001B[38;5;45mNone\u001B[0m, \u001B[38;5;34m256\u001B[0m)       │      \u001B[38;5;34m8,960\u001B[0m │ InputLayer2[\u001B[38;5;34m0\u001B[0m][\u001B[38;5;34m0\u001B[0m] │\n",
       "│ (\u001B[38;5;33mDense\u001B[0m)             │                   │            │                   │\n",
       "├─────────────────────┼───────────────────┼────────────┼───────────────────┤\n",
       "│ DenseTwo_Input1     │ (\u001B[38;5;45mNone\u001B[0m, \u001B[38;5;34m128\u001B[0m)       │     \u001B[38;5;34m32,896\u001B[0m │ DenseOne_Input1[\u001B[38;5;34m…\u001B[0m │\n",
       "│ (\u001B[38;5;33mDense\u001B[0m)             │                   │            │                   │\n",
       "├─────────────────────┼───────────────────┼────────────┼───────────────────┤\n",
       "│ DenseTwo_Input2     │ (\u001B[38;5;45mNone\u001B[0m, \u001B[38;5;34m128\u001B[0m)       │     \u001B[38;5;34m32,896\u001B[0m │ DenseOne_Input2[\u001B[38;5;34m…\u001B[0m │\n",
       "│ (\u001B[38;5;33mDense\u001B[0m)             │                   │            │                   │\n",
       "├─────────────────────┼───────────────────┼────────────┼───────────────────┤\n",
       "│ DenseThree_Input1   │ (\u001B[38;5;45mNone\u001B[0m, \u001B[38;5;34m64\u001B[0m)        │      \u001B[38;5;34m8,256\u001B[0m │ DenseTwo_Input1[\u001B[38;5;34m…\u001B[0m │\n",
       "│ (\u001B[38;5;33mDense\u001B[0m)             │                   │            │                   │\n",
       "├─────────────────────┼───────────────────┼────────────┼───────────────────┤\n",
       "│ DenseThree_Input2   │ (\u001B[38;5;45mNone\u001B[0m, \u001B[38;5;34m64\u001B[0m)        │      \u001B[38;5;34m8,256\u001B[0m │ DenseTwo_Input2[\u001B[38;5;34m…\u001B[0m │\n",
       "│ (\u001B[38;5;33mDense\u001B[0m)             │                   │            │                   │\n",
       "├─────────────────────┼───────────────────┼────────────┼───────────────────┤\n",
       "│ DenseFour_Input1    │ (\u001B[38;5;45mNone\u001B[0m, \u001B[38;5;34m32\u001B[0m)        │      \u001B[38;5;34m2,080\u001B[0m │ DenseThree_Input… │\n",
       "│ (\u001B[38;5;33mDense\u001B[0m)             │                   │            │                   │\n",
       "├─────────────────────┼───────────────────┼────────────┼───────────────────┤\n",
       "│ DenseFour_Input2    │ (\u001B[38;5;45mNone\u001B[0m, \u001B[38;5;34m32\u001B[0m)        │      \u001B[38;5;34m2,080\u001B[0m │ DenseThree_Input… │\n",
       "│ (\u001B[38;5;33mDense\u001B[0m)             │                   │            │                   │\n",
       "├─────────────────────┼───────────────────┼────────────┼───────────────────┤\n",
       "│ DenseFive_Input1    │ (\u001B[38;5;45mNone\u001B[0m, \u001B[38;5;34m16\u001B[0m)        │        \u001B[38;5;34m528\u001B[0m │ DenseFour_Input1… │\n",
       "│ (\u001B[38;5;33mDense\u001B[0m)             │                   │            │                   │\n",
       "├─────────────────────┼───────────────────┼────────────┼───────────────────┤\n",
       "│ DenseFive_Input2    │ (\u001B[38;5;45mNone\u001B[0m, \u001B[38;5;34m16\u001B[0m)        │        \u001B[38;5;34m528\u001B[0m │ DenseFour_Input2… │\n",
       "│ (\u001B[38;5;33mDense\u001B[0m)             │                   │            │                   │\n",
       "├─────────────────────┼───────────────────┼────────────┼───────────────────┤\n",
       "│ ConcatinatedInput   │ (\u001B[38;5;45mNone\u001B[0m, \u001B[38;5;34m32\u001B[0m)        │          \u001B[38;5;34m0\u001B[0m │ DenseFive_Input1… │\n",
       "│ (\u001B[38;5;33mConcatenate\u001B[0m)       │                   │            │ DenseFive_Input2… │\n",
       "├─────────────────────┼───────────────────┼────────────┼───────────────────┤\n",
       "│ S1P1 (\u001B[38;5;33mDense\u001B[0m)        │ (\u001B[38;5;45mNone\u001B[0m, \u001B[38;5;34m3\u001B[0m)         │         \u001B[38;5;34m99\u001B[0m │ ConcatinatedInpu… │\n",
       "├─────────────────────┼───────────────────┼────────────┼───────────────────┤\n",
       "│ S1P2 (\u001B[38;5;33mDense\u001B[0m)        │ (\u001B[38;5;45mNone\u001B[0m, \u001B[38;5;34m3\u001B[0m)         │         \u001B[38;5;34m99\u001B[0m │ ConcatinatedInpu… │\n",
       "├─────────────────────┼───────────────────┼────────────┼───────────────────┤\n",
       "│ S2P1 (\u001B[38;5;33mDense\u001B[0m)        │ (\u001B[38;5;45mNone\u001B[0m, \u001B[38;5;34m3\u001B[0m)         │         \u001B[38;5;34m99\u001B[0m │ ConcatinatedInpu… │\n",
       "├─────────────────────┼───────────────────┼────────────┼───────────────────┤\n",
       "│ S2P2 (\u001B[38;5;33mDense\u001B[0m)        │ (\u001B[38;5;45mNone\u001B[0m, \u001B[38;5;34m3\u001B[0m)         │         \u001B[38;5;34m99\u001B[0m │ ConcatinatedInpu… │\n",
       "├─────────────────────┼───────────────────┼────────────┼───────────────────┤\n",
       "│ S3P1 (\u001B[38;5;33mDense\u001B[0m)        │ (\u001B[38;5;45mNone\u001B[0m, \u001B[38;5;34m3\u001B[0m)         │         \u001B[38;5;34m99\u001B[0m │ ConcatinatedInpu… │\n",
       "├─────────────────────┼───────────────────┼────────────┼───────────────────┤\n",
       "│ S3P2 (\u001B[38;5;33mDense\u001B[0m)        │ (\u001B[38;5;45mNone\u001B[0m, \u001B[38;5;34m3\u001B[0m)         │         \u001B[38;5;34m99\u001B[0m │ ConcatinatedInpu… │\n",
       "├─────────────────────┼───────────────────┼────────────┼───────────────────┤\n",
       "│ S4P1 (\u001B[38;5;33mDense\u001B[0m)        │ (\u001B[38;5;45mNone\u001B[0m, \u001B[38;5;34m3\u001B[0m)         │         \u001B[38;5;34m99\u001B[0m │ ConcatinatedInpu… │\n",
       "├─────────────────────┼───────────────────┼────────────┼───────────────────┤\n",
       "│ S4P2 (\u001B[38;5;33mDense\u001B[0m)        │ (\u001B[38;5;45mNone\u001B[0m, \u001B[38;5;34m3\u001B[0m)         │         \u001B[38;5;34m99\u001B[0m │ ConcatinatedInpu… │\n",
       "├─────────────────────┼───────────────────┼────────────┼───────────────────┤\n",
       "│ S5P1 (\u001B[38;5;33mDense\u001B[0m)        │ (\u001B[38;5;45mNone\u001B[0m, \u001B[38;5;34m3\u001B[0m)         │         \u001B[38;5;34m99\u001B[0m │ ConcatinatedInpu… │\n",
       "├─────────────────────┼───────────────────┼────────────┼───────────────────┤\n",
       "│ S5P2 (\u001B[38;5;33mDense\u001B[0m)        │ (\u001B[38;5;45mNone\u001B[0m, \u001B[38;5;34m3\u001B[0m)         │         \u001B[38;5;34m99\u001B[0m │ ConcatinatedInpu… │\n",
       "└─────────────────────┴───────────────────┴────────────┴───────────────────┘\n"
      ],
      "text/html": [
       "<pre style=\"white-space:pre;overflow-x:auto;line-height:normal;font-family:Menlo,'DejaVu Sans Mono',consolas,'Courier New',monospace\">┏━━━━━━━━━━━━━━━━━━━━━┳━━━━━━━━━━━━━━━━━━━┳━━━━━━━━━━━━┳━━━━━━━━━━━━━━━━━━━┓\n",
       "┃<span style=\"font-weight: bold\"> Layer (type)        </span>┃<span style=\"font-weight: bold\"> Output Shape      </span>┃<span style=\"font-weight: bold\">    Param # </span>┃<span style=\"font-weight: bold\"> Connected to      </span>┃\n",
       "┡━━━━━━━━━━━━━━━━━━━━━╇━━━━━━━━━━━━━━━━━━━╇━━━━━━━━━━━━╇━━━━━━━━━━━━━━━━━━━┩\n",
       "│ InputLayer1         │ (<span style=\"color: #00d7ff; text-decoration-color: #00d7ff\">None</span>, <span style=\"color: #00af00; text-decoration-color: #00af00\">3</span>)         │          <span style=\"color: #00af00; text-decoration-color: #00af00\">0</span> │ -                 │\n",
       "│ (<span style=\"color: #0087ff; text-decoration-color: #0087ff\">InputLayer</span>)        │                   │            │                   │\n",
       "├─────────────────────┼───────────────────┼────────────┼───────────────────┤\n",
       "│ InputLayer2         │ (<span style=\"color: #00d7ff; text-decoration-color: #00d7ff\">None</span>, <span style=\"color: #00af00; text-decoration-color: #00af00\">34</span>)        │          <span style=\"color: #00af00; text-decoration-color: #00af00\">0</span> │ -                 │\n",
       "│ (<span style=\"color: #0087ff; text-decoration-color: #0087ff\">InputLayer</span>)        │                   │            │                   │\n",
       "├─────────────────────┼───────────────────┼────────────┼───────────────────┤\n",
       "│ DenseOne_Input1     │ (<span style=\"color: #00d7ff; text-decoration-color: #00d7ff\">None</span>, <span style=\"color: #00af00; text-decoration-color: #00af00\">256</span>)       │      <span style=\"color: #00af00; text-decoration-color: #00af00\">1,024</span> │ InputLayer1[<span style=\"color: #00af00; text-decoration-color: #00af00\">0</span>][<span style=\"color: #00af00; text-decoration-color: #00af00\">0</span>] │\n",
       "│ (<span style=\"color: #0087ff; text-decoration-color: #0087ff\">Dense</span>)             │                   │            │                   │\n",
       "├─────────────────────┼───────────────────┼────────────┼───────────────────┤\n",
       "│ DenseOne_Input2     │ (<span style=\"color: #00d7ff; text-decoration-color: #00d7ff\">None</span>, <span style=\"color: #00af00; text-decoration-color: #00af00\">256</span>)       │      <span style=\"color: #00af00; text-decoration-color: #00af00\">8,960</span> │ InputLayer2[<span style=\"color: #00af00; text-decoration-color: #00af00\">0</span>][<span style=\"color: #00af00; text-decoration-color: #00af00\">0</span>] │\n",
       "│ (<span style=\"color: #0087ff; text-decoration-color: #0087ff\">Dense</span>)             │                   │            │                   │\n",
       "├─────────────────────┼───────────────────┼────────────┼───────────────────┤\n",
       "│ DenseTwo_Input1     │ (<span style=\"color: #00d7ff; text-decoration-color: #00d7ff\">None</span>, <span style=\"color: #00af00; text-decoration-color: #00af00\">128</span>)       │     <span style=\"color: #00af00; text-decoration-color: #00af00\">32,896</span> │ DenseOne_Input1[<span style=\"color: #00af00; text-decoration-color: #00af00\">…</span> │\n",
       "│ (<span style=\"color: #0087ff; text-decoration-color: #0087ff\">Dense</span>)             │                   │            │                   │\n",
       "├─────────────────────┼───────────────────┼────────────┼───────────────────┤\n",
       "│ DenseTwo_Input2     │ (<span style=\"color: #00d7ff; text-decoration-color: #00d7ff\">None</span>, <span style=\"color: #00af00; text-decoration-color: #00af00\">128</span>)       │     <span style=\"color: #00af00; text-decoration-color: #00af00\">32,896</span> │ DenseOne_Input2[<span style=\"color: #00af00; text-decoration-color: #00af00\">…</span> │\n",
       "│ (<span style=\"color: #0087ff; text-decoration-color: #0087ff\">Dense</span>)             │                   │            │                   │\n",
       "├─────────────────────┼───────────────────┼────────────┼───────────────────┤\n",
       "│ DenseThree_Input1   │ (<span style=\"color: #00d7ff; text-decoration-color: #00d7ff\">None</span>, <span style=\"color: #00af00; text-decoration-color: #00af00\">64</span>)        │      <span style=\"color: #00af00; text-decoration-color: #00af00\">8,256</span> │ DenseTwo_Input1[<span style=\"color: #00af00; text-decoration-color: #00af00\">…</span> │\n",
       "│ (<span style=\"color: #0087ff; text-decoration-color: #0087ff\">Dense</span>)             │                   │            │                   │\n",
       "├─────────────────────┼───────────────────┼────────────┼───────────────────┤\n",
       "│ DenseThree_Input2   │ (<span style=\"color: #00d7ff; text-decoration-color: #00d7ff\">None</span>, <span style=\"color: #00af00; text-decoration-color: #00af00\">64</span>)        │      <span style=\"color: #00af00; text-decoration-color: #00af00\">8,256</span> │ DenseTwo_Input2[<span style=\"color: #00af00; text-decoration-color: #00af00\">…</span> │\n",
       "│ (<span style=\"color: #0087ff; text-decoration-color: #0087ff\">Dense</span>)             │                   │            │                   │\n",
       "├─────────────────────┼───────────────────┼────────────┼───────────────────┤\n",
       "│ DenseFour_Input1    │ (<span style=\"color: #00d7ff; text-decoration-color: #00d7ff\">None</span>, <span style=\"color: #00af00; text-decoration-color: #00af00\">32</span>)        │      <span style=\"color: #00af00; text-decoration-color: #00af00\">2,080</span> │ DenseThree_Input… │\n",
       "│ (<span style=\"color: #0087ff; text-decoration-color: #0087ff\">Dense</span>)             │                   │            │                   │\n",
       "├─────────────────────┼───────────────────┼────────────┼───────────────────┤\n",
       "│ DenseFour_Input2    │ (<span style=\"color: #00d7ff; text-decoration-color: #00d7ff\">None</span>, <span style=\"color: #00af00; text-decoration-color: #00af00\">32</span>)        │      <span style=\"color: #00af00; text-decoration-color: #00af00\">2,080</span> │ DenseThree_Input… │\n",
       "│ (<span style=\"color: #0087ff; text-decoration-color: #0087ff\">Dense</span>)             │                   │            │                   │\n",
       "├─────────────────────┼───────────────────┼────────────┼───────────────────┤\n",
       "│ DenseFive_Input1    │ (<span style=\"color: #00d7ff; text-decoration-color: #00d7ff\">None</span>, <span style=\"color: #00af00; text-decoration-color: #00af00\">16</span>)        │        <span style=\"color: #00af00; text-decoration-color: #00af00\">528</span> │ DenseFour_Input1… │\n",
       "│ (<span style=\"color: #0087ff; text-decoration-color: #0087ff\">Dense</span>)             │                   │            │                   │\n",
       "├─────────────────────┼───────────────────┼────────────┼───────────────────┤\n",
       "│ DenseFive_Input2    │ (<span style=\"color: #00d7ff; text-decoration-color: #00d7ff\">None</span>, <span style=\"color: #00af00; text-decoration-color: #00af00\">16</span>)        │        <span style=\"color: #00af00; text-decoration-color: #00af00\">528</span> │ DenseFour_Input2… │\n",
       "│ (<span style=\"color: #0087ff; text-decoration-color: #0087ff\">Dense</span>)             │                   │            │                   │\n",
       "├─────────────────────┼───────────────────┼────────────┼───────────────────┤\n",
       "│ ConcatinatedInput   │ (<span style=\"color: #00d7ff; text-decoration-color: #00d7ff\">None</span>, <span style=\"color: #00af00; text-decoration-color: #00af00\">32</span>)        │          <span style=\"color: #00af00; text-decoration-color: #00af00\">0</span> │ DenseFive_Input1… │\n",
       "│ (<span style=\"color: #0087ff; text-decoration-color: #0087ff\">Concatenate</span>)       │                   │            │ DenseFive_Input2… │\n",
       "├─────────────────────┼───────────────────┼────────────┼───────────────────┤\n",
       "│ S1P1 (<span style=\"color: #0087ff; text-decoration-color: #0087ff\">Dense</span>)        │ (<span style=\"color: #00d7ff; text-decoration-color: #00d7ff\">None</span>, <span style=\"color: #00af00; text-decoration-color: #00af00\">3</span>)         │         <span style=\"color: #00af00; text-decoration-color: #00af00\">99</span> │ ConcatinatedInpu… │\n",
       "├─────────────────────┼───────────────────┼────────────┼───────────────────┤\n",
       "│ S1P2 (<span style=\"color: #0087ff; text-decoration-color: #0087ff\">Dense</span>)        │ (<span style=\"color: #00d7ff; text-decoration-color: #00d7ff\">None</span>, <span style=\"color: #00af00; text-decoration-color: #00af00\">3</span>)         │         <span style=\"color: #00af00; text-decoration-color: #00af00\">99</span> │ ConcatinatedInpu… │\n",
       "├─────────────────────┼───────────────────┼────────────┼───────────────────┤\n",
       "│ S2P1 (<span style=\"color: #0087ff; text-decoration-color: #0087ff\">Dense</span>)        │ (<span style=\"color: #00d7ff; text-decoration-color: #00d7ff\">None</span>, <span style=\"color: #00af00; text-decoration-color: #00af00\">3</span>)         │         <span style=\"color: #00af00; text-decoration-color: #00af00\">99</span> │ ConcatinatedInpu… │\n",
       "├─────────────────────┼───────────────────┼────────────┼───────────────────┤\n",
       "│ S2P2 (<span style=\"color: #0087ff; text-decoration-color: #0087ff\">Dense</span>)        │ (<span style=\"color: #00d7ff; text-decoration-color: #00d7ff\">None</span>, <span style=\"color: #00af00; text-decoration-color: #00af00\">3</span>)         │         <span style=\"color: #00af00; text-decoration-color: #00af00\">99</span> │ ConcatinatedInpu… │\n",
       "├─────────────────────┼───────────────────┼────────────┼───────────────────┤\n",
       "│ S3P1 (<span style=\"color: #0087ff; text-decoration-color: #0087ff\">Dense</span>)        │ (<span style=\"color: #00d7ff; text-decoration-color: #00d7ff\">None</span>, <span style=\"color: #00af00; text-decoration-color: #00af00\">3</span>)         │         <span style=\"color: #00af00; text-decoration-color: #00af00\">99</span> │ ConcatinatedInpu… │\n",
       "├─────────────────────┼───────────────────┼────────────┼───────────────────┤\n",
       "│ S3P2 (<span style=\"color: #0087ff; text-decoration-color: #0087ff\">Dense</span>)        │ (<span style=\"color: #00d7ff; text-decoration-color: #00d7ff\">None</span>, <span style=\"color: #00af00; text-decoration-color: #00af00\">3</span>)         │         <span style=\"color: #00af00; text-decoration-color: #00af00\">99</span> │ ConcatinatedInpu… │\n",
       "├─────────────────────┼───────────────────┼────────────┼───────────────────┤\n",
       "│ S4P1 (<span style=\"color: #0087ff; text-decoration-color: #0087ff\">Dense</span>)        │ (<span style=\"color: #00d7ff; text-decoration-color: #00d7ff\">None</span>, <span style=\"color: #00af00; text-decoration-color: #00af00\">3</span>)         │         <span style=\"color: #00af00; text-decoration-color: #00af00\">99</span> │ ConcatinatedInpu… │\n",
       "├─────────────────────┼───────────────────┼────────────┼───────────────────┤\n",
       "│ S4P2 (<span style=\"color: #0087ff; text-decoration-color: #0087ff\">Dense</span>)        │ (<span style=\"color: #00d7ff; text-decoration-color: #00d7ff\">None</span>, <span style=\"color: #00af00; text-decoration-color: #00af00\">3</span>)         │         <span style=\"color: #00af00; text-decoration-color: #00af00\">99</span> │ ConcatinatedInpu… │\n",
       "├─────────────────────┼───────────────────┼────────────┼───────────────────┤\n",
       "│ S5P1 (<span style=\"color: #0087ff; text-decoration-color: #0087ff\">Dense</span>)        │ (<span style=\"color: #00d7ff; text-decoration-color: #00d7ff\">None</span>, <span style=\"color: #00af00; text-decoration-color: #00af00\">3</span>)         │         <span style=\"color: #00af00; text-decoration-color: #00af00\">99</span> │ ConcatinatedInpu… │\n",
       "├─────────────────────┼───────────────────┼────────────┼───────────────────┤\n",
       "│ S5P2 (<span style=\"color: #0087ff; text-decoration-color: #0087ff\">Dense</span>)        │ (<span style=\"color: #00d7ff; text-decoration-color: #00d7ff\">None</span>, <span style=\"color: #00af00; text-decoration-color: #00af00\">3</span>)         │         <span style=\"color: #00af00; text-decoration-color: #00af00\">99</span> │ ConcatinatedInpu… │\n",
       "└─────────────────────┴───────────────────┴────────────┴───────────────────┘\n",
       "</pre>\n"
      ]
     },
     "metadata": {},
     "output_type": "display_data"
    },
    {
     "data": {
      "text/plain": [
       "\u001B[1m Total params: \u001B[0m\u001B[38;5;34m98,494\u001B[0m (384.74 KB)\n"
      ],
      "text/html": [
       "<pre style=\"white-space:pre;overflow-x:auto;line-height:normal;font-family:Menlo,'DejaVu Sans Mono',consolas,'Courier New',monospace\"><span style=\"font-weight: bold\"> Total params: </span><span style=\"color: #00af00; text-decoration-color: #00af00\">98,494</span> (384.74 KB)\n",
       "</pre>\n"
      ]
     },
     "metadata": {},
     "output_type": "display_data"
    },
    {
     "data": {
      "text/plain": [
       "\u001B[1m Trainable params: \u001B[0m\u001B[38;5;34m98,494\u001B[0m (384.74 KB)\n"
      ],
      "text/html": [
       "<pre style=\"white-space:pre;overflow-x:auto;line-height:normal;font-family:Menlo,'DejaVu Sans Mono',consolas,'Courier New',monospace\"><span style=\"font-weight: bold\"> Trainable params: </span><span style=\"color: #00af00; text-decoration-color: #00af00\">98,494</span> (384.74 KB)\n",
       "</pre>\n"
      ]
     },
     "metadata": {},
     "output_type": "display_data"
    },
    {
     "data": {
      "text/plain": [
       "\u001B[1m Non-trainable params: \u001B[0m\u001B[38;5;34m0\u001B[0m (0.00 B)\n"
      ],
      "text/html": [
       "<pre style=\"white-space:pre;overflow-x:auto;line-height:normal;font-family:Menlo,'DejaVu Sans Mono',consolas,'Courier New',monospace\"><span style=\"font-weight: bold\"> Non-trainable params: </span><span style=\"color: #00af00; text-decoration-color: #00af00\">0</span> (0.00 B)\n",
       "</pre>\n"
      ]
     },
     "metadata": {},
     "output_type": "display_data"
    },
    {
     "name": "stdout",
     "output_type": "stream",
     "text": [
      "None\n"
     ]
    }
   ],
   "execution_count": 30
  },
  {
   "metadata": {},
   "cell_type": "markdown",
   "source": [
    "### **Training the model:**\n",
    "Now that the model has been built and compiled it is ready for the training data that has been previously prepared. Below is the code for training the model."
   ],
   "id": "89638488cad30d29"
  },
  {
   "metadata": {
    "ExecuteTime": {
     "end_time": "2024-07-16T22:58:26.158523Z",
     "start_time": "2024-07-16T22:58:17.601202Z"
    }
   },
   "cell_type": "code",
   "source": [
    "model.fit([layer1_X_train, layer2_X_train], [S1P1_train, S1P2_train, S2P1_train,\n",
    "                    S2P2_train, S3P1_train, S3P2_train, S4P1_train,\n",
    "                    S4P2_train, S5P1_train, S5P2_train],\n",
    "          epochs=10,\n",
    "          batch_size=32,\n",
    "          validation_data=([layer1_X_val, layer2_X_val], [S1P1_val, S1P2_val, S2P1_val,\n",
    "                                                          S2P2_val, S3P1_val, S3P2_val, S4P1_val,\n",
    "                                                          S4P2_val, S5P1_val, S5P2_val]))"
   ],
   "id": "a0ca90e787428e3b",
   "outputs": [
    {
     "name": "stdout",
     "output_type": "stream",
     "text": [
      "Epoch 1/10\n",
      "\u001B[1m25/25\u001B[0m \u001B[32m━━━━━━━━━━━━━━━━━━━━\u001B[0m\u001B[37m\u001B[0m \u001B[1m7s\u001B[0m 41ms/step - S1P1_accuracy: 0.1341 - S1P2_accuracy: 0.4188 - S2P1_accuracy: 0.2602 - S2P2_accuracy: 0.6191 - S3P1_accuracy: 0.5262 - S3P2_accuracy: 0.3560 - S4P1_accuracy: 0.3877 - S4P2_accuracy: 0.4369 - S5P1_accuracy: 0.7120 - S5P2_accuracy: 0.6360 - loss: 18.4647 - val_S1P1_accuracy: 0.8642 - val_S1P2_accuracy: 0.7654 - val_S2P1_accuracy: 0.7901 - val_S2P2_accuracy: 0.7654 - val_S3P1_accuracy: 0.7160 - val_S3P2_accuracy: 0.2222 - val_S4P1_accuracy: 0.8889 - val_S4P2_accuracy: 0.8272 - val_S5P1_accuracy: 0.7531 - val_S5P2_accuracy: 0.7654 - val_loss: 13.0960\n",
      "Epoch 2/10\n",
      "\u001B[1m25/25\u001B[0m \u001B[32m━━━━━━━━━━━━━━━━━━━━\u001B[0m\u001B[37m\u001B[0m \u001B[1m0s\u001B[0m 5ms/step - S1P1_accuracy: 0.8288 - S1P2_accuracy: 0.7471 - S2P1_accuracy: 0.7930 - S2P2_accuracy: 0.6781 - S3P1_accuracy: 0.6589 - S3P2_accuracy: 0.5254 - S4P1_accuracy: 0.8779 - S4P2_accuracy: 0.6000 - S5P1_accuracy: 0.7785 - S5P2_accuracy: 0.7082 - loss: 13.0331 - val_S1P1_accuracy: 0.8642 - val_S1P2_accuracy: 0.7654 - val_S2P1_accuracy: 0.7901 - val_S2P2_accuracy: 0.7654 - val_S3P1_accuracy: 0.7284 - val_S3P2_accuracy: 0.7037 - val_S4P1_accuracy: 0.8889 - val_S4P2_accuracy: 0.8272 - val_S5P1_accuracy: 0.7531 - val_S5P2_accuracy: 0.7654 - val_loss: 11.1525\n",
      "Epoch 3/10\n",
      "\u001B[1m25/25\u001B[0m \u001B[32m━━━━━━━━━━━━━━━━━━━━\u001B[0m\u001B[37m\u001B[0m \u001B[1m0s\u001B[0m 5ms/step - S1P1_accuracy: 0.8193 - S1P2_accuracy: 0.7254 - S2P1_accuracy: 0.7853 - S2P2_accuracy: 0.6683 - S3P1_accuracy: 0.7095 - S3P2_accuracy: 0.5983 - S4P1_accuracy: 0.8917 - S4P2_accuracy: 0.6109 - S5P1_accuracy: 0.7559 - S5P2_accuracy: 0.6989 - loss: 11.5978 - val_S1P1_accuracy: 0.8642 - val_S1P2_accuracy: 0.7654 - val_S2P1_accuracy: 0.7901 - val_S2P2_accuracy: 0.7778 - val_S3P1_accuracy: 0.7407 - val_S3P2_accuracy: 0.6914 - val_S4P1_accuracy: 0.8889 - val_S4P2_accuracy: 0.8148 - val_S5P1_accuracy: 0.7531 - val_S5P2_accuracy: 0.7778 - val_loss: 10.3216\n",
      "Epoch 4/10\n",
      "\u001B[1m25/25\u001B[0m \u001B[32m━━━━━━━━━━━━━━━━━━━━\u001B[0m\u001B[37m\u001B[0m \u001B[1m0s\u001B[0m 5ms/step - S1P1_accuracy: 0.8336 - S1P2_accuracy: 0.7460 - S2P1_accuracy: 0.7930 - S2P2_accuracy: 0.7239 - S3P1_accuracy: 0.7112 - S3P2_accuracy: 0.6316 - S4P1_accuracy: 0.8866 - S4P2_accuracy: 0.6294 - S5P1_accuracy: 0.7767 - S5P2_accuracy: 0.7134 - loss: 10.6247 - val_S1P1_accuracy: 0.8642 - val_S1P2_accuracy: 0.7654 - val_S2P1_accuracy: 0.7901 - val_S2P2_accuracy: 0.7778 - val_S3P1_accuracy: 0.7531 - val_S3P2_accuracy: 0.5802 - val_S4P1_accuracy: 0.8889 - val_S4P2_accuracy: 0.8272 - val_S5P1_accuracy: 0.7531 - val_S5P2_accuracy: 0.7778 - val_loss: 9.7110\n",
      "Epoch 5/10\n",
      "\u001B[1m25/25\u001B[0m \u001B[32m━━━━━━━━━━━━━━━━━━━━\u001B[0m\u001B[37m\u001B[0m \u001B[1m0s\u001B[0m 5ms/step - S1P1_accuracy: 0.8395 - S1P2_accuracy: 0.7489 - S2P1_accuracy: 0.7872 - S2P2_accuracy: 0.7020 - S3P1_accuracy: 0.7276 - S3P2_accuracy: 0.6429 - S4P1_accuracy: 0.8950 - S4P2_accuracy: 0.6415 - S5P1_accuracy: 0.7794 - S5P2_accuracy: 0.7166 - loss: 10.0512 - val_S1P1_accuracy: 0.8642 - val_S1P2_accuracy: 0.7654 - val_S2P1_accuracy: 0.7901 - val_S2P2_accuracy: 0.7654 - val_S3P1_accuracy: 0.7531 - val_S3P2_accuracy: 0.7160 - val_S4P1_accuracy: 0.8889 - val_S4P2_accuracy: 0.8395 - val_S5P1_accuracy: 0.7531 - val_S5P2_accuracy: 0.7654 - val_loss: 9.3138\n",
      "Epoch 6/10\n",
      "\u001B[1m25/25\u001B[0m \u001B[32m━━━━━━━━━━━━━━━━━━━━\u001B[0m\u001B[37m\u001B[0m \u001B[1m0s\u001B[0m 5ms/step - S1P1_accuracy: 0.8236 - S1P2_accuracy: 0.7323 - S2P1_accuracy: 0.7860 - S2P2_accuracy: 0.6837 - S3P1_accuracy: 0.7266 - S3P2_accuracy: 0.6769 - S4P1_accuracy: 0.8803 - S4P2_accuracy: 0.6232 - S5P1_accuracy: 0.7647 - S5P2_accuracy: 0.6718 - loss: 9.9577 - val_S1P1_accuracy: 0.8642 - val_S1P2_accuracy: 0.7654 - val_S2P1_accuracy: 0.7901 - val_S2P2_accuracy: 0.7778 - val_S3P1_accuracy: 0.7407 - val_S3P2_accuracy: 0.7160 - val_S4P1_accuracy: 0.8889 - val_S4P2_accuracy: 0.8148 - val_S5P1_accuracy: 0.7531 - val_S5P2_accuracy: 0.7654 - val_loss: 8.9939\n",
      "Epoch 7/10\n",
      "\u001B[1m25/25\u001B[0m \u001B[32m━━━━━━━━━━━━━━━━━━━━\u001B[0m\u001B[37m\u001B[0m \u001B[1m0s\u001B[0m 5ms/step - S1P1_accuracy: 0.8211 - S1P2_accuracy: 0.7370 - S2P1_accuracy: 0.7952 - S2P2_accuracy: 0.6943 - S3P1_accuracy: 0.7242 - S3P2_accuracy: 0.6485 - S4P1_accuracy: 0.8844 - S4P2_accuracy: 0.6363 - S5P1_accuracy: 0.7876 - S5P2_accuracy: 0.6937 - loss: 9.5420 - val_S1P1_accuracy: 0.8642 - val_S1P2_accuracy: 0.7654 - val_S2P1_accuracy: 0.7901 - val_S2P2_accuracy: 0.7654 - val_S3P1_accuracy: 0.7407 - val_S3P2_accuracy: 0.7407 - val_S4P1_accuracy: 0.8889 - val_S4P2_accuracy: 0.8025 - val_S5P1_accuracy: 0.7531 - val_S5P2_accuracy: 0.7654 - val_loss: 8.8758\n",
      "Epoch 8/10\n",
      "\u001B[1m25/25\u001B[0m \u001B[32m━━━━━━━━━━━━━━━━━━━━\u001B[0m\u001B[37m\u001B[0m \u001B[1m0s\u001B[0m 5ms/step - S1P1_accuracy: 0.8299 - S1P2_accuracy: 0.7193 - S2P1_accuracy: 0.7836 - S2P2_accuracy: 0.6711 - S3P1_accuracy: 0.7360 - S3P2_accuracy: 0.6606 - S4P1_accuracy: 0.8708 - S4P2_accuracy: 0.6579 - S5P1_accuracy: 0.7878 - S5P2_accuracy: 0.7345 - loss: 9.4432 - val_S1P1_accuracy: 0.8642 - val_S1P2_accuracy: 0.7654 - val_S2P1_accuracy: 0.7901 - val_S2P2_accuracy: 0.7654 - val_S3P1_accuracy: 0.7531 - val_S3P2_accuracy: 0.7160 - val_S4P1_accuracy: 0.8889 - val_S4P2_accuracy: 0.8272 - val_S5P1_accuracy: 0.7531 - val_S5P2_accuracy: 0.7654 - val_loss: 8.6199\n",
      "Epoch 9/10\n",
      "\u001B[1m25/25\u001B[0m \u001B[32m━━━━━━━━━━━━━━━━━━━━\u001B[0m\u001B[37m\u001B[0m \u001B[1m0s\u001B[0m 5ms/step - S1P1_accuracy: 0.8280 - S1P2_accuracy: 0.7650 - S2P1_accuracy: 0.8099 - S2P2_accuracy: 0.6970 - S3P1_accuracy: 0.7233 - S3P2_accuracy: 0.6634 - S4P1_accuracy: 0.8732 - S4P2_accuracy: 0.6457 - S5P1_accuracy: 0.7733 - S5P2_accuracy: 0.6947 - loss: 9.1759 - val_S1P1_accuracy: 0.8642 - val_S1P2_accuracy: 0.7654 - val_S2P1_accuracy: 0.7901 - val_S2P2_accuracy: 0.7901 - val_S3P1_accuracy: 0.7531 - val_S3P2_accuracy: 0.7160 - val_S4P1_accuracy: 0.8889 - val_S4P2_accuracy: 0.8519 - val_S5P1_accuracy: 0.7531 - val_S5P2_accuracy: 0.7654 - val_loss: 8.5157\n",
      "Epoch 10/10\n",
      "\u001B[1m25/25\u001B[0m \u001B[32m━━━━━━━━━━━━━━━━━━━━\u001B[0m\u001B[37m\u001B[0m \u001B[1m0s\u001B[0m 5ms/step - S1P1_accuracy: 0.8196 - S1P2_accuracy: 0.7547 - S2P1_accuracy: 0.7948 - S2P2_accuracy: 0.7054 - S3P1_accuracy: 0.7094 - S3P2_accuracy: 0.6504 - S4P1_accuracy: 0.8711 - S4P2_accuracy: 0.6508 - S5P1_accuracy: 0.8304 - S5P2_accuracy: 0.7354 - loss: 8.9808 - val_S1P1_accuracy: 0.8642 - val_S1P2_accuracy: 0.7654 - val_S2P1_accuracy: 0.7901 - val_S2P2_accuracy: 0.7654 - val_S3P1_accuracy: 0.7407 - val_S3P2_accuracy: 0.7160 - val_S4P1_accuracy: 0.8889 - val_S4P2_accuracy: 0.8148 - val_S5P1_accuracy: 0.7531 - val_S5P2_accuracy: 0.7654 - val_loss: 8.3919\n"
     ]
    },
    {
     "data": {
      "text/plain": [
       "<keras.src.callbacks.history.History at 0x1b6075fe240>"
      ]
     },
     "execution_count": 31,
     "metadata": {},
     "output_type": "execute_result"
    }
   ],
   "execution_count": 31
  },
  {
   "metadata": {},
   "cell_type": "markdown",
   "source": [
    "### **Attempts made to improve output:**\n",
    "The loss calculation is high as seen in this output. The closer a loss is to 0 the better, but the above calculations are far from 0. Simplifying the model's complexity, adjusting the L2 regularzation penalties, and changing the number of epochs but none seemed to have any effect on the loss of the model."
   ],
   "id": "79acb190fe39401a"
  },
  {
   "metadata": {},
   "cell_type": "markdown",
   "source": [
    "### **Explaining the output with SHAP (SHapley Additive exPlanations):**\n",
    "Currently unable to get this to work due to unexplained reasons."
   ],
   "id": "393818324070ad4e"
  },
  {
   "metadata": {
    "ExecuteTime": {
     "end_time": "2024-07-16T22:58:36.387430Z",
     "start_time": "2024-07-16T22:58:26.159710Z"
    }
   },
   "cell_type": "code",
   "source": [
    "separate_models = []\n",
    "\n",
    "for i, output in enumerate(model.outputs):\n",
    "    separate_model = Model(inputs=model.inputs, outputs=output)\n",
    "    separate_models.append(separate_model)\n",
    "\n",
    "background = [layer1_X_train[:50], layer2_X_train[:50]]\n",
    "\n",
    "X1_sample = layer1_X_train[50:60]\n",
    "X2_sample = layer2_X_train[50:60]\n",
    "\n",
    "shap_values = []\n",
    "\n",
    "for separate_model in separate_models:\n",
    "    explainer = shap.DeepExplainer(separate_model, background)\n",
    "    shap_values.append(explainer.shap_values([X1_sample, X2_sample]))"
   ],
   "id": "93c069fa0afa26fc",
   "outputs": [],
   "execution_count": 32
  },
  {
   "metadata": {
    "ExecuteTime": {
     "end_time": "2024-07-16T22:58:36.391078Z",
     "start_time": "2024-07-16T22:58:36.388847Z"
    }
   },
   "cell_type": "code",
   "source": "",
   "id": "f9fe5d08e870201a",
   "outputs": [],
   "execution_count": 32
  }
 ],
 "metadata": {
  "kernelspec": {
   "display_name": "Python 3",
   "language": "python",
   "name": "python3"
  },
  "language_info": {
   "codemirror_mode": {
    "name": "ipython",
    "version": 2
   },
   "file_extension": ".py",
   "mimetype": "text/x-python",
   "name": "python",
   "nbconvert_exporter": "python",
   "pygments_lexer": "ipython2",
   "version": "2.7.6"
  }
 },
 "nbformat": 4,
 "nbformat_minor": 5
}
