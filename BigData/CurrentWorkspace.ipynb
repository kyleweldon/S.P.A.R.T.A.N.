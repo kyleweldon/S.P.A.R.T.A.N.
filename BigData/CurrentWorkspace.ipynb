{
 "cells": [
  {
   "metadata": {},
   "cell_type": "markdown",
   "source": [
    "### **By Kyle Weldon**\n",
    "Everything in this file is writen and maintained by Kyle Weldon."
   ],
   "id": "c13a7f046945b0a4"
  },
  {
   "metadata": {},
   "cell_type": "markdown",
   "source": [
    "### **Importing needed packages**\n",
    "Versions used are dysplayed below the code."
   ],
   "id": "e1a9a655294d43d6"
  },
  {
   "metadata": {
    "ExecuteTime": {
     "end_time": "2024-08-01T00:18:10.393922Z",
     "start_time": "2024-08-01T00:18:10.360013Z"
    }
   },
   "cell_type": "code",
   "source": [
    "import pip\n",
    "import os\n",
    "# Supress TensorFlow messages\n",
    "os.environ['TF_ENABLE_ONEDNN_OPTS'] = '0'\n",
    "os.environ['TF_CPP_MIN_LOG_LEVEL'] = '2'\n",
    "import numpy as np\n",
    "import pandas as pd\n",
    "\n",
    "import warnings\n",
    "# Supress a specific TensorFlow warning (Warning not to use a feature I do not use)\n",
    "warnings.filterwarnings('ignore', category=UserWarning, message=\"Your TensorFlow version is newer than 2.4.0 and so graph support has been removed in eager mode and some static graphs may not be supported. See PR #1483 for discussion.\")\n",
    "\n",
    "import tensorflow as tf\n",
    "from tensorflow.keras.layers import Input,Dense, Concatenate, Reshape\n",
    "from tensorflow.keras.models import Model\n",
    "from tensorflow.keras import layers\n",
    "from tensorflow.keras.utils import to_categorical\n",
    "from tensorflow.keras.regularizers import l2\n",
    "\n",
    "import shap\n",
    "\n",
    "from tabulate import tabulate\n",
    "\n",
    "import sklearn\n",
    "from sklearn.tree import DecisionTreeClassifier\n",
    "from sklearn.ensemble import RandomForestClassifier, GradientBoostingClassifier\n",
    "from sklearn.metrics import accuracy_score\n",
    "\n",
    "import simple_colors  \n",
    "\n",
    "print(simple_colors.red('VERSIONS USESD:', ['bold', 'underlined', 'italic']))\n",
    "print('pip version:', pip.__version__)\n",
    "print('NumPy version:', np.__version__)\n",
    "print('Pandas version:', pd.__version__)\n",
    "print('Scikit-learn version:', sklearn.__version__)\n",
    "print('Tensorflow version:', tf.__version__)\n",
    "print('shap version:', shap.__version__)"
   ],
   "id": "d7d3136effefefc",
   "outputs": [
    {
     "name": "stdout",
     "output_type": "stream",
     "text": [
      "\u001B[1;4;3;31mVERSIONS USESD:\u001B[0m\n",
      "pip version: 24.1.2\n",
      "NumPy version: 1.26.4\n",
      "Pandas version: 2.2.2\n",
      "Scikit-learn version: 1.5.1\n",
      "Tensorflow version: 2.17.0\n",
      "shap version: 0.46.0\n"
     ]
    }
   ],
   "execution_count": 24
  },
  {
   "metadata": {},
   "cell_type": "markdown",
   "source": [
    "### **Filtering raw data given:** \n",
    "\n",
    "The data that was given had incomplete data in a '.xlsx' file. The code below is what was used to remove all of the uncomplete samples and save the result as a '.csv' file."
   ],
   "id": "2a66ca22a3791e59"
  },
  {
   "metadata": {
    "ExecuteTime": {
     "end_time": "2024-07-31T23:33:13.185729Z",
     "start_time": "2024-07-31T23:33:11.851581Z"
    }
   },
   "cell_type": "code",
   "source": [
    "def filter_data(excel_file, output_csv):\n",
    "    try:\n",
    "        df = pd.read_excel(excel_file)\n",
    "    except FileNotFoundError:\n",
    "        print(f\"Error: The file '{excel_file}' was not found.\")\n",
    "        return\n",
    "    except Exception as e:\n",
    "        print(f\"Error occurred while reading '{excel_file}': {str(e)}\")\n",
    "        return\n",
    "\n",
    "    complete_rows = []\n",
    "    for index, row in df.iterrows():\n",
    "        if is_row_complete(row):\n",
    "            complete_rows.append(row)\n",
    "\n",
    "    cleaned_df = pd.DataFrame(complete_rows, columns=df.columns)\n",
    "\n",
    "    try:\n",
    "        cleaned_df.to_csv(output_csv, index=False)\n",
    "        print(f\"Cleaned data saved to '{output_csv}' successfully.\")\n",
    "        print(f\"There are {len(cleaned_df)} samples in the cleaned data.\")\n",
    "    except Exception as e:\n",
    "        print(f\"Error occurred while saving to '{output_csv}': {str(e)}\")\n",
    "        return\n",
    "\n",
    "def is_row_complete(row):\n",
    "    for cell in row:\n",
    "        if pd.isna(cell) or str(cell).strip() == '':\n",
    "            return False\n",
    "    return True\n",
    "\n",
    "filter_data('Data/RawData.xlsx', 'Data/FilteredData.csv')"
   ],
   "id": "a1c15883f79fde38",
   "outputs": [
    {
     "name": "stdout",
     "output_type": "stream",
     "text": [
      "Cleaned data saved to 'Data/FilteredData.csv' successfully.\n",
      "There are 881 samples in the cleaned data.\n"
     ]
    }
   ],
   "execution_count": 2
  },
  {
   "metadata": {},
   "cell_type": "markdown",
   "source": [
    "### **How to use the data:**\n",
    " There are 10 different 'senerios' or 'decisions' made by each sample (each sample represents one person). When making a decision they were able to choose between 0-10 based on how sure they are. This gives 11 possible choices per situation per sample. Given the fact there are only 881 samples attempting to accruetly predict 11 possible choices will likely not be accurate due to the limited data. To account for this The decisions are going to be split into three catagories. Anyone that chose a 0, 1, 2, or 3 will be a part of catagory one. Anyone that chose either 4, 5, or 6 will be a part of catagory two and anyone that chose 7, 8, 9, or 10 will be a part of catagory three. This gives a 4-3-4 catigorical split. Below is the code that completes this. It is also essential to remember to split the data into training and validating data. "
   ],
   "id": "87bec6f9bee166a3"
  },
  {
   "metadata": {
    "ExecuteTime": {
     "end_time": "2024-07-31T23:33:13.214168Z",
     "start_time": "2024-07-31T23:33:13.187226Z"
    }
   },
   "cell_type": "code",
   "source": [
    "df = pd.read_csv('Data/FilteredData.csv')\n",
    "# Column tites for all the output data\n",
    "output_columns = ['Scenario 1 ',\n",
    "                  'Unnamed: 40',\n",
    "                  'Scenario 2 ',\n",
    "                  'Unnamed: 42',\n",
    "                  'Scenario 3 ',\n",
    "                  'Unnamed: 44',\n",
    "                  'Scenario 4',\n",
    "                  'Unnamed: 46',\n",
    "                  'Scenario 5 ',\n",
    "                  'Unnamed: 48']\n",
    "\n",
    "def classiy_and_catigorize(column):\n",
    "    return to_categorical([0 if x <= 3 else 1 if x <= 6 else 2 for x in column])\n",
    "\n",
    "columns = df[output_columns].to_numpy().T # The 'T' is to transpose the array\n",
    "\n",
    "S1P1, S1P2, S2P1, S2P2, S3P1, S3P2, S4P1, S4P2, S5P1, S5P2 = [classiy_and_catigorize(col) for col in columns]\n",
    "all_situations = [S1P1, S1P2, S2P1, S2P2, S3P1, S3P2, S4P1, S4P2, S5P1, S5P2]\n",
    "\n",
    "for situation in all_situations:\n",
    "    print(situation.shape)"
   ],
   "id": "50f878445ec38803",
   "outputs": [
    {
     "name": "stdout",
     "output_type": "stream",
     "text": [
      "(881, 3)\n",
      "(881, 3)\n",
      "(881, 3)\n",
      "(881, 3)\n",
      "(881, 3)\n",
      "(881, 3)\n",
      "(881, 3)\n",
      "(881, 3)\n",
      "(881, 3)\n",
      "(881, 3)\n"
     ]
    }
   ],
   "execution_count": 3
  },
  {
   "metadata": {},
   "cell_type": "markdown",
   "source": [
    "### **Splitting into training and validating:**\n",
    "Before this data can be used to train a model it first needs to be split into traning and validating data. Below is the code that does that. The first 800 samples (people) are going to be used train the model while the last 81 are going to be for validation."
   ],
   "id": "bb8c17bd9ba3e59a"
  },
  {
   "metadata": {
    "ExecuteTime": {
     "end_time": "2024-07-31T23:33:13.221575Z",
     "start_time": "2024-07-31T23:33:13.215841Z"
    }
   },
   "cell_type": "code",
   "source": [
    "def split(array):\n",
    "    return array[:800], array[800:]\n",
    "\n",
    "S1P1_train, S1P1_val = split(S1P1)\n",
    "S1P2_train, S1P2_val = split(S1P2)\n",
    "S2P1_train, S2P1_val = split(S2P1)\n",
    "S2P2_train, S2P2_val = split(S2P2)\n",
    "S3P1_train, S3P1_val = split(S3P1)\n",
    "S3P2_train, S3P2_val = split(S3P2)\n",
    "S4P1_train, S4P1_val = split(S4P1)\n",
    "S4P2_train, S4P2_val = split(S4P2)\n",
    "S5P1_train, S5P1_val = split(S5P1)\n",
    "S5P2_train, S5P2_val = split(S5P2)\n",
    "\n",
    "print(f\"S1P1 training shape: {S1P1_train.shape}\")\n",
    "print(f\"Validation set length: {len(S1P1_val)}\")"
   ],
   "id": "3d8f9cfa5328e181",
   "outputs": [
    {
     "name": "stdout",
     "output_type": "stream",
     "text": [
      "S1P1 training shape: (800, 3)\n",
      "Validation set length: 81\n"
     ]
    }
   ],
   "execution_count": 4
  },
  {
   "metadata": {},
   "cell_type": "markdown",
   "source": [
    "### **Prepare input data:**\n",
    "Now that the output data is fully prepared and ready for training it is time to prepare the coresponding input data. Simalar to the multiple outputs there our also miltiple inputs. Below is the code to complete this."
   ],
   "id": "ea27990777d9159a"
  },
  {
   "metadata": {
    "ExecuteTime": {
     "end_time": "2024-07-31T23:33:13.232811Z",
     "start_time": "2024-07-31T23:33:13.222581Z"
    }
   },
   "cell_type": "code",
   "source": [
    "# Column titles used for this input set\n",
    "input_columns1 = ['MAx1', 'Max2', 'Max3']\n",
    "input_columns2 = ['Q105_1','Q105_2','Q105_3','Q105_4','Q105_5','Q105_6','Q105_7','Q105_8','Q105_9','Q105_10','Q105_11','Q105_12','Q105_13','Q105_14','Q105_15','Q105_16','Q105_17','Q105_18','Q105_19','Q105_20','Q105_21','Q105_22','Q105_23','Q105_24','Q105_25','Q105_26','Q105_27','Q105_28','Q105_29','Q105_30','Q105_31','Q105_32','Q105_33','Q105_34']\n",
    "\n",
    "input_df1 = df[input_columns1]\n",
    "input1_X_values = input_df1.to_numpy()\n",
    "input_df2 = df[input_columns2]\n",
    "input2_X_values = input_df2.to_numpy()\n",
    "\n",
    "layer1_X_train = input1_X_values[:800]\n",
    "layer1_X_val = input1_X_values[800:]\n",
    "layer2_X_train = input2_X_values[:800]\n",
    "layer2_X_val = input2_X_values[800:]\n",
    "\n",
    "print(f\"Layer1 training shape: {layer1_X_train.shape} -> validating shape: {layer1_X_val.shape}\")\n",
    "print(f\"Layer2 training shape: {layer2_X_train.shape} -> validating shape: {layer2_X_val.shape}\")"
   ],
   "id": "ec3869e379f057ae",
   "outputs": [
    {
     "name": "stdout",
     "output_type": "stream",
     "text": [
      "Layer1 training shape: (800, 3) -> validating shape: (81, 3)\n",
      "Layer2 training shape: (800, 34) -> validating shape: (81, 34)\n"
     ]
    }
   ],
   "execution_count": 5
  },
  {
   "metadata": {},
   "cell_type": "markdown",
   "source": [
    "### **Building model archetecture:**\n",
    "First instinct is build a deep neural network. Because this initial model will predict all 10 different decisions for each sample a multi-output model is need. There was some adjustment needed to the output layers so they are the correct shape. The functional API from Keras is used for this."
   ],
   "id": "26fd5ebda408f77d"
  },
  {
   "metadata": {
    "ExecuteTime": {
     "end_time": "2024-07-31T23:33:13.483666Z",
     "start_time": "2024-07-31T23:33:13.234156Z"
    }
   },
   "cell_type": "code",
   "source": [
    "input1 = Input(shape=(3,), name='InputLayer1')\n",
    "\n",
    "hidden1_input1 = Dense(256, activation='relu', kernel_regularizer=l2(0.01), name='DenseOne_Input1')(input1)\n",
    "hidden2_input1 = Dense(128, activation='relu', kernel_regularizer=l2(0.01), name='DenseTwo_Input1')(hidden1_input1)\n",
    "hidden3_input1 = Dense(64, activation='relu', kernel_regularizer=l2(0.01), name='DenseThree_Input1')(hidden2_input1)\n",
    "hidden4_input1 = Dense(32, activation='relu', kernel_regularizer=l2(0.01), name='DenseFour_Input1')(hidden3_input1)\n",
    "hidden5_input1 = Dense(16, activation='relu', kernel_regularizer=l2(0.01), name='DenseFive_Input1')(hidden4_input1)\n",
    "\n",
    "input2 = Input(shape=(34,), name='InputLayer2')\n",
    "\n",
    "hidden1_input2 = Dense(256, activation='relu', kernel_regularizer=l2(0.01), name='DenseOne_Input2')(input2)\n",
    "hidden2_input2 = Dense(128, activation='relu', kernel_regularizer=l2(0.01), name='DenseTwo_Input2')(hidden1_input2)\n",
    "hidden3_input2 = Dense(64, activation='relu', kernel_regularizer=l2(0.01), name='DenseThree_Input2')(hidden2_input2)\n",
    "hidden4_input2 = Dense(32, activation='relu', kernel_regularizer=l2(0.01), name='DenseFour_Input2')(hidden3_input2)\n",
    "hidden5_input2 = Dense(16, activation='relu', kernel_regularizer=l2(0.01), name='DenseFive_Input2')(hidden4_input2)\n",
    "\n",
    "concatenated = Concatenate(name='ConcatinatedInput')([hidden5_input1, hidden5_input2])\n",
    "\n",
    "def create_output_layer(name, input_layer):\n",
    "    return Dense(3, activation='softmax', name=name)(input_layer)\n",
    "def itterate_situations_and_parts(num_itts=10):\n",
    "    scenerio = 1\n",
    "    sittos = []\n",
    "    for i in range(num_itts):\n",
    "        part = 1 if i % 2 == 0 else 2\n",
    "        sittos.append(f\"S{scenerio}P{part}\")\n",
    "        if part == 2: scenerio += 1\n",
    "    return sittos\n",
    "\n",
    "outputs = [create_output_layer(name, concatenated) for name in itterate_situations_and_parts()]\n",
    "\n",
    "model = Model(inputs=[input1, input2], outputs=outputs, name='CustomizedDeepNeuralNetwork')\n",
    "\n",
    "metrics = ['accuracy'] * 10  \n",
    "\n",
    "model.compile(loss='categorical_crossentropy',\n",
    "              optimizer='adam',\n",
    "              metrics=metrics)\n",
    "\n",
    "print(model.summary())"
   ],
   "id": "dbf81f727d4d6890",
   "outputs": [
    {
     "data": {
      "text/plain": [
       "\u001B[1mModel: \"CustomizedDeepNeuralNetwork\"\u001B[0m\n"
      ],
      "text/html": [
       "<pre style=\"white-space:pre;overflow-x:auto;line-height:normal;font-family:Menlo,'DejaVu Sans Mono',consolas,'Courier New',monospace\"><span style=\"font-weight: bold\">Model: \"CustomizedDeepNeuralNetwork\"</span>\n",
       "</pre>\n"
      ]
     },
     "metadata": {},
     "output_type": "display_data"
    },
    {
     "data": {
      "text/plain": [
       "┏━━━━━━━━━━━━━━━━━━━━━┳━━━━━━━━━━━━━━━━━━━┳━━━━━━━━━━━━┳━━━━━━━━━━━━━━━━━━━┓\n",
       "┃\u001B[1m \u001B[0m\u001B[1mLayer (type)       \u001B[0m\u001B[1m \u001B[0m┃\u001B[1m \u001B[0m\u001B[1mOutput Shape     \u001B[0m\u001B[1m \u001B[0m┃\u001B[1m \u001B[0m\u001B[1m   Param #\u001B[0m\u001B[1m \u001B[0m┃\u001B[1m \u001B[0m\u001B[1mConnected to     \u001B[0m\u001B[1m \u001B[0m┃\n",
       "┡━━━━━━━━━━━━━━━━━━━━━╇━━━━━━━━━━━━━━━━━━━╇━━━━━━━━━━━━╇━━━━━━━━━━━━━━━━━━━┩\n",
       "│ InputLayer1         │ (\u001B[38;5;45mNone\u001B[0m, \u001B[38;5;34m3\u001B[0m)         │          \u001B[38;5;34m0\u001B[0m │ -                 │\n",
       "│ (\u001B[38;5;33mInputLayer\u001B[0m)        │                   │            │                   │\n",
       "├─────────────────────┼───────────────────┼────────────┼───────────────────┤\n",
       "│ InputLayer2         │ (\u001B[38;5;45mNone\u001B[0m, \u001B[38;5;34m34\u001B[0m)        │          \u001B[38;5;34m0\u001B[0m │ -                 │\n",
       "│ (\u001B[38;5;33mInputLayer\u001B[0m)        │                   │            │                   │\n",
       "├─────────────────────┼───────────────────┼────────────┼───────────────────┤\n",
       "│ DenseOne_Input1     │ (\u001B[38;5;45mNone\u001B[0m, \u001B[38;5;34m256\u001B[0m)       │      \u001B[38;5;34m1,024\u001B[0m │ InputLayer1[\u001B[38;5;34m0\u001B[0m][\u001B[38;5;34m0\u001B[0m] │\n",
       "│ (\u001B[38;5;33mDense\u001B[0m)             │                   │            │                   │\n",
       "├─────────────────────┼───────────────────┼────────────┼───────────────────┤\n",
       "│ DenseOne_Input2     │ (\u001B[38;5;45mNone\u001B[0m, \u001B[38;5;34m256\u001B[0m)       │      \u001B[38;5;34m8,960\u001B[0m │ InputLayer2[\u001B[38;5;34m0\u001B[0m][\u001B[38;5;34m0\u001B[0m] │\n",
       "│ (\u001B[38;5;33mDense\u001B[0m)             │                   │            │                   │\n",
       "├─────────────────────┼───────────────────┼────────────┼───────────────────┤\n",
       "│ DenseTwo_Input1     │ (\u001B[38;5;45mNone\u001B[0m, \u001B[38;5;34m128\u001B[0m)       │     \u001B[38;5;34m32,896\u001B[0m │ DenseOne_Input1[\u001B[38;5;34m…\u001B[0m │\n",
       "│ (\u001B[38;5;33mDense\u001B[0m)             │                   │            │                   │\n",
       "├─────────────────────┼───────────────────┼────────────┼───────────────────┤\n",
       "│ DenseTwo_Input2     │ (\u001B[38;5;45mNone\u001B[0m, \u001B[38;5;34m128\u001B[0m)       │     \u001B[38;5;34m32,896\u001B[0m │ DenseOne_Input2[\u001B[38;5;34m…\u001B[0m │\n",
       "│ (\u001B[38;5;33mDense\u001B[0m)             │                   │            │                   │\n",
       "├─────────────────────┼───────────────────┼────────────┼───────────────────┤\n",
       "│ DenseThree_Input1   │ (\u001B[38;5;45mNone\u001B[0m, \u001B[38;5;34m64\u001B[0m)        │      \u001B[38;5;34m8,256\u001B[0m │ DenseTwo_Input1[\u001B[38;5;34m…\u001B[0m │\n",
       "│ (\u001B[38;5;33mDense\u001B[0m)             │                   │            │                   │\n",
       "├─────────────────────┼───────────────────┼────────────┼───────────────────┤\n",
       "│ DenseThree_Input2   │ (\u001B[38;5;45mNone\u001B[0m, \u001B[38;5;34m64\u001B[0m)        │      \u001B[38;5;34m8,256\u001B[0m │ DenseTwo_Input2[\u001B[38;5;34m…\u001B[0m │\n",
       "│ (\u001B[38;5;33mDense\u001B[0m)             │                   │            │                   │\n",
       "├─────────────────────┼───────────────────┼────────────┼───────────────────┤\n",
       "│ DenseFour_Input1    │ (\u001B[38;5;45mNone\u001B[0m, \u001B[38;5;34m32\u001B[0m)        │      \u001B[38;5;34m2,080\u001B[0m │ DenseThree_Input… │\n",
       "│ (\u001B[38;5;33mDense\u001B[0m)             │                   │            │                   │\n",
       "├─────────────────────┼───────────────────┼────────────┼───────────────────┤\n",
       "│ DenseFour_Input2    │ (\u001B[38;5;45mNone\u001B[0m, \u001B[38;5;34m32\u001B[0m)        │      \u001B[38;5;34m2,080\u001B[0m │ DenseThree_Input… │\n",
       "│ (\u001B[38;5;33mDense\u001B[0m)             │                   │            │                   │\n",
       "├─────────────────────┼───────────────────┼────────────┼───────────────────┤\n",
       "│ DenseFive_Input1    │ (\u001B[38;5;45mNone\u001B[0m, \u001B[38;5;34m16\u001B[0m)        │        \u001B[38;5;34m528\u001B[0m │ DenseFour_Input1… │\n",
       "│ (\u001B[38;5;33mDense\u001B[0m)             │                   │            │                   │\n",
       "├─────────────────────┼───────────────────┼────────────┼───────────────────┤\n",
       "│ DenseFive_Input2    │ (\u001B[38;5;45mNone\u001B[0m, \u001B[38;5;34m16\u001B[0m)        │        \u001B[38;5;34m528\u001B[0m │ DenseFour_Input2… │\n",
       "│ (\u001B[38;5;33mDense\u001B[0m)             │                   │            │                   │\n",
       "├─────────────────────┼───────────────────┼────────────┼───────────────────┤\n",
       "│ ConcatinatedInput   │ (\u001B[38;5;45mNone\u001B[0m, \u001B[38;5;34m32\u001B[0m)        │          \u001B[38;5;34m0\u001B[0m │ DenseFive_Input1… │\n",
       "│ (\u001B[38;5;33mConcatenate\u001B[0m)       │                   │            │ DenseFive_Input2… │\n",
       "├─────────────────────┼───────────────────┼────────────┼───────────────────┤\n",
       "│ S1P1 (\u001B[38;5;33mDense\u001B[0m)        │ (\u001B[38;5;45mNone\u001B[0m, \u001B[38;5;34m3\u001B[0m)         │         \u001B[38;5;34m99\u001B[0m │ ConcatinatedInpu… │\n",
       "├─────────────────────┼───────────────────┼────────────┼───────────────────┤\n",
       "│ S1P2 (\u001B[38;5;33mDense\u001B[0m)        │ (\u001B[38;5;45mNone\u001B[0m, \u001B[38;5;34m3\u001B[0m)         │         \u001B[38;5;34m99\u001B[0m │ ConcatinatedInpu… │\n",
       "├─────────────────────┼───────────────────┼────────────┼───────────────────┤\n",
       "│ S2P1 (\u001B[38;5;33mDense\u001B[0m)        │ (\u001B[38;5;45mNone\u001B[0m, \u001B[38;5;34m3\u001B[0m)         │         \u001B[38;5;34m99\u001B[0m │ ConcatinatedInpu… │\n",
       "├─────────────────────┼───────────────────┼────────────┼───────────────────┤\n",
       "│ S2P2 (\u001B[38;5;33mDense\u001B[0m)        │ (\u001B[38;5;45mNone\u001B[0m, \u001B[38;5;34m3\u001B[0m)         │         \u001B[38;5;34m99\u001B[0m │ ConcatinatedInpu… │\n",
       "├─────────────────────┼───────────────────┼────────────┼───────────────────┤\n",
       "│ S3P1 (\u001B[38;5;33mDense\u001B[0m)        │ (\u001B[38;5;45mNone\u001B[0m, \u001B[38;5;34m3\u001B[0m)         │         \u001B[38;5;34m99\u001B[0m │ ConcatinatedInpu… │\n",
       "├─────────────────────┼───────────────────┼────────────┼───────────────────┤\n",
       "│ S3P2 (\u001B[38;5;33mDense\u001B[0m)        │ (\u001B[38;5;45mNone\u001B[0m, \u001B[38;5;34m3\u001B[0m)         │         \u001B[38;5;34m99\u001B[0m │ ConcatinatedInpu… │\n",
       "├─────────────────────┼───────────────────┼────────────┼───────────────────┤\n",
       "│ S4P1 (\u001B[38;5;33mDense\u001B[0m)        │ (\u001B[38;5;45mNone\u001B[0m, \u001B[38;5;34m3\u001B[0m)         │         \u001B[38;5;34m99\u001B[0m │ ConcatinatedInpu… │\n",
       "├─────────────────────┼───────────────────┼────────────┼───────────────────┤\n",
       "│ S4P2 (\u001B[38;5;33mDense\u001B[0m)        │ (\u001B[38;5;45mNone\u001B[0m, \u001B[38;5;34m3\u001B[0m)         │         \u001B[38;5;34m99\u001B[0m │ ConcatinatedInpu… │\n",
       "├─────────────────────┼───────────────────┼────────────┼───────────────────┤\n",
       "│ S5P1 (\u001B[38;5;33mDense\u001B[0m)        │ (\u001B[38;5;45mNone\u001B[0m, \u001B[38;5;34m3\u001B[0m)         │         \u001B[38;5;34m99\u001B[0m │ ConcatinatedInpu… │\n",
       "├─────────────────────┼───────────────────┼────────────┼───────────────────┤\n",
       "│ S5P2 (\u001B[38;5;33mDense\u001B[0m)        │ (\u001B[38;5;45mNone\u001B[0m, \u001B[38;5;34m3\u001B[0m)         │         \u001B[38;5;34m99\u001B[0m │ ConcatinatedInpu… │\n",
       "└─────────────────────┴───────────────────┴────────────┴───────────────────┘\n"
      ],
      "text/html": [
       "<pre style=\"white-space:pre;overflow-x:auto;line-height:normal;font-family:Menlo,'DejaVu Sans Mono',consolas,'Courier New',monospace\">┏━━━━━━━━━━━━━━━━━━━━━┳━━━━━━━━━━━━━━━━━━━┳━━━━━━━━━━━━┳━━━━━━━━━━━━━━━━━━━┓\n",
       "┃<span style=\"font-weight: bold\"> Layer (type)        </span>┃<span style=\"font-weight: bold\"> Output Shape      </span>┃<span style=\"font-weight: bold\">    Param # </span>┃<span style=\"font-weight: bold\"> Connected to      </span>┃\n",
       "┡━━━━━━━━━━━━━━━━━━━━━╇━━━━━━━━━━━━━━━━━━━╇━━━━━━━━━━━━╇━━━━━━━━━━━━━━━━━━━┩\n",
       "│ InputLayer1         │ (<span style=\"color: #00d7ff; text-decoration-color: #00d7ff\">None</span>, <span style=\"color: #00af00; text-decoration-color: #00af00\">3</span>)         │          <span style=\"color: #00af00; text-decoration-color: #00af00\">0</span> │ -                 │\n",
       "│ (<span style=\"color: #0087ff; text-decoration-color: #0087ff\">InputLayer</span>)        │                   │            │                   │\n",
       "├─────────────────────┼───────────────────┼────────────┼───────────────────┤\n",
       "│ InputLayer2         │ (<span style=\"color: #00d7ff; text-decoration-color: #00d7ff\">None</span>, <span style=\"color: #00af00; text-decoration-color: #00af00\">34</span>)        │          <span style=\"color: #00af00; text-decoration-color: #00af00\">0</span> │ -                 │\n",
       "│ (<span style=\"color: #0087ff; text-decoration-color: #0087ff\">InputLayer</span>)        │                   │            │                   │\n",
       "├─────────────────────┼───────────────────┼────────────┼───────────────────┤\n",
       "│ DenseOne_Input1     │ (<span style=\"color: #00d7ff; text-decoration-color: #00d7ff\">None</span>, <span style=\"color: #00af00; text-decoration-color: #00af00\">256</span>)       │      <span style=\"color: #00af00; text-decoration-color: #00af00\">1,024</span> │ InputLayer1[<span style=\"color: #00af00; text-decoration-color: #00af00\">0</span>][<span style=\"color: #00af00; text-decoration-color: #00af00\">0</span>] │\n",
       "│ (<span style=\"color: #0087ff; text-decoration-color: #0087ff\">Dense</span>)             │                   │            │                   │\n",
       "├─────────────────────┼───────────────────┼────────────┼───────────────────┤\n",
       "│ DenseOne_Input2     │ (<span style=\"color: #00d7ff; text-decoration-color: #00d7ff\">None</span>, <span style=\"color: #00af00; text-decoration-color: #00af00\">256</span>)       │      <span style=\"color: #00af00; text-decoration-color: #00af00\">8,960</span> │ InputLayer2[<span style=\"color: #00af00; text-decoration-color: #00af00\">0</span>][<span style=\"color: #00af00; text-decoration-color: #00af00\">0</span>] │\n",
       "│ (<span style=\"color: #0087ff; text-decoration-color: #0087ff\">Dense</span>)             │                   │            │                   │\n",
       "├─────────────────────┼───────────────────┼────────────┼───────────────────┤\n",
       "│ DenseTwo_Input1     │ (<span style=\"color: #00d7ff; text-decoration-color: #00d7ff\">None</span>, <span style=\"color: #00af00; text-decoration-color: #00af00\">128</span>)       │     <span style=\"color: #00af00; text-decoration-color: #00af00\">32,896</span> │ DenseOne_Input1[<span style=\"color: #00af00; text-decoration-color: #00af00\">…</span> │\n",
       "│ (<span style=\"color: #0087ff; text-decoration-color: #0087ff\">Dense</span>)             │                   │            │                   │\n",
       "├─────────────────────┼───────────────────┼────────────┼───────────────────┤\n",
       "│ DenseTwo_Input2     │ (<span style=\"color: #00d7ff; text-decoration-color: #00d7ff\">None</span>, <span style=\"color: #00af00; text-decoration-color: #00af00\">128</span>)       │     <span style=\"color: #00af00; text-decoration-color: #00af00\">32,896</span> │ DenseOne_Input2[<span style=\"color: #00af00; text-decoration-color: #00af00\">…</span> │\n",
       "│ (<span style=\"color: #0087ff; text-decoration-color: #0087ff\">Dense</span>)             │                   │            │                   │\n",
       "├─────────────────────┼───────────────────┼────────────┼───────────────────┤\n",
       "│ DenseThree_Input1   │ (<span style=\"color: #00d7ff; text-decoration-color: #00d7ff\">None</span>, <span style=\"color: #00af00; text-decoration-color: #00af00\">64</span>)        │      <span style=\"color: #00af00; text-decoration-color: #00af00\">8,256</span> │ DenseTwo_Input1[<span style=\"color: #00af00; text-decoration-color: #00af00\">…</span> │\n",
       "│ (<span style=\"color: #0087ff; text-decoration-color: #0087ff\">Dense</span>)             │                   │            │                   │\n",
       "├─────────────────────┼───────────────────┼────────────┼───────────────────┤\n",
       "│ DenseThree_Input2   │ (<span style=\"color: #00d7ff; text-decoration-color: #00d7ff\">None</span>, <span style=\"color: #00af00; text-decoration-color: #00af00\">64</span>)        │      <span style=\"color: #00af00; text-decoration-color: #00af00\">8,256</span> │ DenseTwo_Input2[<span style=\"color: #00af00; text-decoration-color: #00af00\">…</span> │\n",
       "│ (<span style=\"color: #0087ff; text-decoration-color: #0087ff\">Dense</span>)             │                   │            │                   │\n",
       "├─────────────────────┼───────────────────┼────────────┼───────────────────┤\n",
       "│ DenseFour_Input1    │ (<span style=\"color: #00d7ff; text-decoration-color: #00d7ff\">None</span>, <span style=\"color: #00af00; text-decoration-color: #00af00\">32</span>)        │      <span style=\"color: #00af00; text-decoration-color: #00af00\">2,080</span> │ DenseThree_Input… │\n",
       "│ (<span style=\"color: #0087ff; text-decoration-color: #0087ff\">Dense</span>)             │                   │            │                   │\n",
       "├─────────────────────┼───────────────────┼────────────┼───────────────────┤\n",
       "│ DenseFour_Input2    │ (<span style=\"color: #00d7ff; text-decoration-color: #00d7ff\">None</span>, <span style=\"color: #00af00; text-decoration-color: #00af00\">32</span>)        │      <span style=\"color: #00af00; text-decoration-color: #00af00\">2,080</span> │ DenseThree_Input… │\n",
       "│ (<span style=\"color: #0087ff; text-decoration-color: #0087ff\">Dense</span>)             │                   │            │                   │\n",
       "├─────────────────────┼───────────────────┼────────────┼───────────────────┤\n",
       "│ DenseFive_Input1    │ (<span style=\"color: #00d7ff; text-decoration-color: #00d7ff\">None</span>, <span style=\"color: #00af00; text-decoration-color: #00af00\">16</span>)        │        <span style=\"color: #00af00; text-decoration-color: #00af00\">528</span> │ DenseFour_Input1… │\n",
       "│ (<span style=\"color: #0087ff; text-decoration-color: #0087ff\">Dense</span>)             │                   │            │                   │\n",
       "├─────────────────────┼───────────────────┼────────────┼───────────────────┤\n",
       "│ DenseFive_Input2    │ (<span style=\"color: #00d7ff; text-decoration-color: #00d7ff\">None</span>, <span style=\"color: #00af00; text-decoration-color: #00af00\">16</span>)        │        <span style=\"color: #00af00; text-decoration-color: #00af00\">528</span> │ DenseFour_Input2… │\n",
       "│ (<span style=\"color: #0087ff; text-decoration-color: #0087ff\">Dense</span>)             │                   │            │                   │\n",
       "├─────────────────────┼───────────────────┼────────────┼───────────────────┤\n",
       "│ ConcatinatedInput   │ (<span style=\"color: #00d7ff; text-decoration-color: #00d7ff\">None</span>, <span style=\"color: #00af00; text-decoration-color: #00af00\">32</span>)        │          <span style=\"color: #00af00; text-decoration-color: #00af00\">0</span> │ DenseFive_Input1… │\n",
       "│ (<span style=\"color: #0087ff; text-decoration-color: #0087ff\">Concatenate</span>)       │                   │            │ DenseFive_Input2… │\n",
       "├─────────────────────┼───────────────────┼────────────┼───────────────────┤\n",
       "│ S1P1 (<span style=\"color: #0087ff; text-decoration-color: #0087ff\">Dense</span>)        │ (<span style=\"color: #00d7ff; text-decoration-color: #00d7ff\">None</span>, <span style=\"color: #00af00; text-decoration-color: #00af00\">3</span>)         │         <span style=\"color: #00af00; text-decoration-color: #00af00\">99</span> │ ConcatinatedInpu… │\n",
       "├─────────────────────┼───────────────────┼────────────┼───────────────────┤\n",
       "│ S1P2 (<span style=\"color: #0087ff; text-decoration-color: #0087ff\">Dense</span>)        │ (<span style=\"color: #00d7ff; text-decoration-color: #00d7ff\">None</span>, <span style=\"color: #00af00; text-decoration-color: #00af00\">3</span>)         │         <span style=\"color: #00af00; text-decoration-color: #00af00\">99</span> │ ConcatinatedInpu… │\n",
       "├─────────────────────┼───────────────────┼────────────┼───────────────────┤\n",
       "│ S2P1 (<span style=\"color: #0087ff; text-decoration-color: #0087ff\">Dense</span>)        │ (<span style=\"color: #00d7ff; text-decoration-color: #00d7ff\">None</span>, <span style=\"color: #00af00; text-decoration-color: #00af00\">3</span>)         │         <span style=\"color: #00af00; text-decoration-color: #00af00\">99</span> │ ConcatinatedInpu… │\n",
       "├─────────────────────┼───────────────────┼────────────┼───────────────────┤\n",
       "│ S2P2 (<span style=\"color: #0087ff; text-decoration-color: #0087ff\">Dense</span>)        │ (<span style=\"color: #00d7ff; text-decoration-color: #00d7ff\">None</span>, <span style=\"color: #00af00; text-decoration-color: #00af00\">3</span>)         │         <span style=\"color: #00af00; text-decoration-color: #00af00\">99</span> │ ConcatinatedInpu… │\n",
       "├─────────────────────┼───────────────────┼────────────┼───────────────────┤\n",
       "│ S3P1 (<span style=\"color: #0087ff; text-decoration-color: #0087ff\">Dense</span>)        │ (<span style=\"color: #00d7ff; text-decoration-color: #00d7ff\">None</span>, <span style=\"color: #00af00; text-decoration-color: #00af00\">3</span>)         │         <span style=\"color: #00af00; text-decoration-color: #00af00\">99</span> │ ConcatinatedInpu… │\n",
       "├─────────────────────┼───────────────────┼────────────┼───────────────────┤\n",
       "│ S3P2 (<span style=\"color: #0087ff; text-decoration-color: #0087ff\">Dense</span>)        │ (<span style=\"color: #00d7ff; text-decoration-color: #00d7ff\">None</span>, <span style=\"color: #00af00; text-decoration-color: #00af00\">3</span>)         │         <span style=\"color: #00af00; text-decoration-color: #00af00\">99</span> │ ConcatinatedInpu… │\n",
       "├─────────────────────┼───────────────────┼────────────┼───────────────────┤\n",
       "│ S4P1 (<span style=\"color: #0087ff; text-decoration-color: #0087ff\">Dense</span>)        │ (<span style=\"color: #00d7ff; text-decoration-color: #00d7ff\">None</span>, <span style=\"color: #00af00; text-decoration-color: #00af00\">3</span>)         │         <span style=\"color: #00af00; text-decoration-color: #00af00\">99</span> │ ConcatinatedInpu… │\n",
       "├─────────────────────┼───────────────────┼────────────┼───────────────────┤\n",
       "│ S4P2 (<span style=\"color: #0087ff; text-decoration-color: #0087ff\">Dense</span>)        │ (<span style=\"color: #00d7ff; text-decoration-color: #00d7ff\">None</span>, <span style=\"color: #00af00; text-decoration-color: #00af00\">3</span>)         │         <span style=\"color: #00af00; text-decoration-color: #00af00\">99</span> │ ConcatinatedInpu… │\n",
       "├─────────────────────┼───────────────────┼────────────┼───────────────────┤\n",
       "│ S5P1 (<span style=\"color: #0087ff; text-decoration-color: #0087ff\">Dense</span>)        │ (<span style=\"color: #00d7ff; text-decoration-color: #00d7ff\">None</span>, <span style=\"color: #00af00; text-decoration-color: #00af00\">3</span>)         │         <span style=\"color: #00af00; text-decoration-color: #00af00\">99</span> │ ConcatinatedInpu… │\n",
       "├─────────────────────┼───────────────────┼────────────┼───────────────────┤\n",
       "│ S5P2 (<span style=\"color: #0087ff; text-decoration-color: #0087ff\">Dense</span>)        │ (<span style=\"color: #00d7ff; text-decoration-color: #00d7ff\">None</span>, <span style=\"color: #00af00; text-decoration-color: #00af00\">3</span>)         │         <span style=\"color: #00af00; text-decoration-color: #00af00\">99</span> │ ConcatinatedInpu… │\n",
       "└─────────────────────┴───────────────────┴────────────┴───────────────────┘\n",
       "</pre>\n"
      ]
     },
     "metadata": {},
     "output_type": "display_data"
    },
    {
     "data": {
      "text/plain": [
       "\u001B[1m Total params: \u001B[0m\u001B[38;5;34m98,494\u001B[0m (384.74 KB)\n"
      ],
      "text/html": [
       "<pre style=\"white-space:pre;overflow-x:auto;line-height:normal;font-family:Menlo,'DejaVu Sans Mono',consolas,'Courier New',monospace\"><span style=\"font-weight: bold\"> Total params: </span><span style=\"color: #00af00; text-decoration-color: #00af00\">98,494</span> (384.74 KB)\n",
       "</pre>\n"
      ]
     },
     "metadata": {},
     "output_type": "display_data"
    },
    {
     "data": {
      "text/plain": [
       "\u001B[1m Trainable params: \u001B[0m\u001B[38;5;34m98,494\u001B[0m (384.74 KB)\n"
      ],
      "text/html": [
       "<pre style=\"white-space:pre;overflow-x:auto;line-height:normal;font-family:Menlo,'DejaVu Sans Mono',consolas,'Courier New',monospace\"><span style=\"font-weight: bold\"> Trainable params: </span><span style=\"color: #00af00; text-decoration-color: #00af00\">98,494</span> (384.74 KB)\n",
       "</pre>\n"
      ]
     },
     "metadata": {},
     "output_type": "display_data"
    },
    {
     "data": {
      "text/plain": [
       "\u001B[1m Non-trainable params: \u001B[0m\u001B[38;5;34m0\u001B[0m (0.00 B)\n"
      ],
      "text/html": [
       "<pre style=\"white-space:pre;overflow-x:auto;line-height:normal;font-family:Menlo,'DejaVu Sans Mono',consolas,'Courier New',monospace\"><span style=\"font-weight: bold\"> Non-trainable params: </span><span style=\"color: #00af00; text-decoration-color: #00af00\">0</span> (0.00 B)\n",
       "</pre>\n"
      ]
     },
     "metadata": {},
     "output_type": "display_data"
    },
    {
     "name": "stdout",
     "output_type": "stream",
     "text": [
      "None\n"
     ]
    }
   ],
   "execution_count": 6
  },
  {
   "metadata": {},
   "cell_type": "markdown",
   "source": [
    "### **Training the model:**\n",
    "Now that the model has been built and compiled it is ready for the training data that has been previously prepared. Below is the code for training the model."
   ],
   "id": "89638488cad30d29"
  },
  {
   "metadata": {
    "ExecuteTime": {
     "end_time": "2024-07-31T23:33:24.270792Z",
     "start_time": "2024-07-31T23:33:13.483666Z"
    }
   },
   "cell_type": "code",
   "source": [
    "model.fit([layer1_X_train, layer2_X_train], [S1P1_train, S1P2_train, S2P1_train,\n",
    "                    S2P2_train, S3P1_train, S3P2_train, S4P1_train,\n",
    "                    S4P2_train, S5P1_train, S5P2_train],\n",
    "          epochs=10,\n",
    "          batch_size=32,\n",
    "          validation_data=([layer1_X_val, layer2_X_val], [S1P1_val, S1P2_val, S2P1_val,\n",
    "                                                          S2P2_val, S3P1_val, S3P2_val, S4P1_val,\n",
    "                                                          S4P2_val, S5P1_val, S5P2_val]))"
   ],
   "id": "a0ca90e787428e3b",
   "outputs": [
    {
     "name": "stdout",
     "output_type": "stream",
     "text": [
      "Epoch 1/10\n",
      "\u001B[1m25/25\u001B[0m \u001B[32m━━━━━━━━━━━━━━━━━━━━\u001B[0m\u001B[37m\u001B[0m \u001B[1m9s\u001B[0m 43ms/step - S1P1_accuracy: 0.4667 - S1P2_accuracy: 0.7557 - S2P1_accuracy: 0.8058 - S2P2_accuracy: 0.5775 - S3P1_accuracy: 0.4725 - S3P2_accuracy: 0.3900 - S4P1_accuracy: 0.8052 - S4P2_accuracy: 0.2507 - S5P1_accuracy: 0.4960 - S5P2_accuracy: 0.5490 - loss: 18.3430 - val_S1P1_accuracy: 0.8642 - val_S1P2_accuracy: 0.7654 - val_S2P1_accuracy: 0.7901 - val_S2P2_accuracy: 0.7654 - val_S3P1_accuracy: 0.6790 - val_S3P2_accuracy: 0.7037 - val_S4P1_accuracy: 0.8889 - val_S4P2_accuracy: 0.8272 - val_S5P1_accuracy: 0.7531 - val_S5P2_accuracy: 0.7654 - val_loss: 12.2234\n",
      "Epoch 2/10\n",
      "\u001B[1m25/25\u001B[0m \u001B[32m━━━━━━━━━━━━━━━━━━━━\u001B[0m\u001B[37m\u001B[0m \u001B[1m0s\u001B[0m 5ms/step - S1P1_accuracy: 0.8256 - S1P2_accuracy: 0.7562 - S2P1_accuracy: 0.8074 - S2P2_accuracy: 0.6819 - S3P1_accuracy: 0.5546 - S3P2_accuracy: 0.5870 - S4P1_accuracy: 0.8743 - S4P2_accuracy: 0.5999 - S5P1_accuracy: 0.7950 - S5P2_accuracy: 0.7216 - loss: 12.4364 - val_S1P1_accuracy: 0.8642 - val_S1P2_accuracy: 0.7654 - val_S2P1_accuracy: 0.7901 - val_S2P2_accuracy: 0.7654 - val_S3P1_accuracy: 0.7284 - val_S3P2_accuracy: 0.6914 - val_S4P1_accuracy: 0.8889 - val_S4P2_accuracy: 0.8395 - val_S5P1_accuracy: 0.7531 - val_S5P2_accuracy: 0.7654 - val_loss: 10.6487\n",
      "Epoch 3/10\n",
      "\u001B[1m25/25\u001B[0m \u001B[32m━━━━━━━━━━━━━━━━━━━━\u001B[0m\u001B[37m\u001B[0m \u001B[1m0s\u001B[0m 5ms/step - S1P1_accuracy: 0.8060 - S1P2_accuracy: 0.7313 - S2P1_accuracy: 0.8089 - S2P2_accuracy: 0.7120 - S3P1_accuracy: 0.6580 - S3P2_accuracy: 0.5954 - S4P1_accuracy: 0.8908 - S4P2_accuracy: 0.6498 - S5P1_accuracy: 0.8013 - S5P2_accuracy: 0.7269 - loss: 10.9517 - val_S1P1_accuracy: 0.8642 - val_S1P2_accuracy: 0.7654 - val_S2P1_accuracy: 0.7901 - val_S2P2_accuracy: 0.7654 - val_S3P1_accuracy: 0.7284 - val_S3P2_accuracy: 0.7037 - val_S4P1_accuracy: 0.8889 - val_S4P2_accuracy: 0.8395 - val_S5P1_accuracy: 0.7531 - val_S5P2_accuracy: 0.7654 - val_loss: 9.7497\n",
      "Epoch 4/10\n",
      "\u001B[1m25/25\u001B[0m \u001B[32m━━━━━━━━━━━━━━━━━━━━\u001B[0m\u001B[37m\u001B[0m \u001B[1m0s\u001B[0m 5ms/step - S1P1_accuracy: 0.8426 - S1P2_accuracy: 0.7778 - S2P1_accuracy: 0.8160 - S2P2_accuracy: 0.7023 - S3P1_accuracy: 0.6680 - S3P2_accuracy: 0.6424 - S4P1_accuracy: 0.8930 - S4P2_accuracy: 0.6197 - S5P1_accuracy: 0.7891 - S5P2_accuracy: 0.7311 - loss: 10.0843 - val_S1P1_accuracy: 0.8642 - val_S1P2_accuracy: 0.7654 - val_S2P1_accuracy: 0.7901 - val_S2P2_accuracy: 0.7654 - val_S3P1_accuracy: 0.7284 - val_S3P2_accuracy: 0.7160 - val_S4P1_accuracy: 0.8889 - val_S4P2_accuracy: 0.8395 - val_S5P1_accuracy: 0.7531 - val_S5P2_accuracy: 0.7654 - val_loss: 9.1953\n",
      "Epoch 5/10\n",
      "\u001B[1m25/25\u001B[0m \u001B[32m━━━━━━━━━━━━━━━━━━━━\u001B[0m\u001B[37m\u001B[0m \u001B[1m0s\u001B[0m 6ms/step - S1P1_accuracy: 0.8353 - S1P2_accuracy: 0.7773 - S2P1_accuracy: 0.7850 - S2P2_accuracy: 0.6971 - S3P1_accuracy: 0.6914 - S3P2_accuracy: 0.6254 - S4P1_accuracy: 0.8866 - S4P2_accuracy: 0.6340 - S5P1_accuracy: 0.7946 - S5P2_accuracy: 0.7328 - loss: 9.6075 - val_S1P1_accuracy: 0.8642 - val_S1P2_accuracy: 0.7654 - val_S2P1_accuracy: 0.7901 - val_S2P2_accuracy: 0.7654 - val_S3P1_accuracy: 0.7407 - val_S3P2_accuracy: 0.7160 - val_S4P1_accuracy: 0.8889 - val_S4P2_accuracy: 0.8395 - val_S5P1_accuracy: 0.7531 - val_S5P2_accuracy: 0.7654 - val_loss: 8.9181\n",
      "Epoch 6/10\n",
      "\u001B[1m25/25\u001B[0m \u001B[32m━━━━━━━━━━━━━━━━━━━━\u001B[0m\u001B[37m\u001B[0m \u001B[1m0s\u001B[0m 6ms/step - S1P1_accuracy: 0.8295 - S1P2_accuracy: 0.7575 - S2P1_accuracy: 0.8063 - S2P2_accuracy: 0.7007 - S3P1_accuracy: 0.7113 - S3P2_accuracy: 0.6034 - S4P1_accuracy: 0.8869 - S4P2_accuracy: 0.6225 - S5P1_accuracy: 0.7969 - S5P2_accuracy: 0.7522 - loss: 9.3032 - val_S1P1_accuracy: 0.8642 - val_S1P2_accuracy: 0.7654 - val_S2P1_accuracy: 0.7901 - val_S2P2_accuracy: 0.7778 - val_S3P1_accuracy: 0.7407 - val_S3P2_accuracy: 0.7160 - val_S4P1_accuracy: 0.8889 - val_S4P2_accuracy: 0.8395 - val_S5P1_accuracy: 0.7531 - val_S5P2_accuracy: 0.7654 - val_loss: 8.5427\n",
      "Epoch 7/10\n",
      "\u001B[1m25/25\u001B[0m \u001B[32m━━━━━━━━━━━━━━━━━━━━\u001B[0m\u001B[37m\u001B[0m \u001B[1m0s\u001B[0m 5ms/step - S1P1_accuracy: 0.8348 - S1P2_accuracy: 0.7351 - S2P1_accuracy: 0.8041 - S2P2_accuracy: 0.7019 - S3P1_accuracy: 0.6945 - S3P2_accuracy: 0.6676 - S4P1_accuracy: 0.8972 - S4P2_accuracy: 0.6459 - S5P1_accuracy: 0.7770 - S5P2_accuracy: 0.7143 - loss: 9.0814 - val_S1P1_accuracy: 0.8642 - val_S1P2_accuracy: 0.7654 - val_S2P1_accuracy: 0.7901 - val_S2P2_accuracy: 0.7778 - val_S3P1_accuracy: 0.7407 - val_S3P2_accuracy: 0.7160 - val_S4P1_accuracy: 0.8889 - val_S4P2_accuracy: 0.8025 - val_S5P1_accuracy: 0.7531 - val_S5P2_accuracy: 0.7654 - val_loss: 8.3388\n",
      "Epoch 8/10\n",
      "\u001B[1m25/25\u001B[0m \u001B[32m━━━━━━━━━━━━━━━━━━━━\u001B[0m\u001B[37m\u001B[0m \u001B[1m0s\u001B[0m 5ms/step - S1P1_accuracy: 0.8260 - S1P2_accuracy: 0.7495 - S2P1_accuracy: 0.7870 - S2P2_accuracy: 0.7101 - S3P1_accuracy: 0.7168 - S3P2_accuracy: 0.6568 - S4P1_accuracy: 0.8731 - S4P2_accuracy: 0.6489 - S5P1_accuracy: 0.7734 - S5P2_accuracy: 0.7188 - loss: 8.9763 - val_S1P1_accuracy: 0.8642 - val_S1P2_accuracy: 0.7654 - val_S2P1_accuracy: 0.7901 - val_S2P2_accuracy: 0.8025 - val_S3P1_accuracy: 0.7407 - val_S3P2_accuracy: 0.7160 - val_S4P1_accuracy: 0.8889 - val_S4P2_accuracy: 0.8148 - val_S5P1_accuracy: 0.7531 - val_S5P2_accuracy: 0.7654 - val_loss: 8.2840\n",
      "Epoch 9/10\n",
      "\u001B[1m25/25\u001B[0m \u001B[32m━━━━━━━━━━━━━━━━━━━━\u001B[0m\u001B[37m\u001B[0m \u001B[1m0s\u001B[0m 6ms/step - S1P1_accuracy: 0.8137 - S1P2_accuracy: 0.7341 - S2P1_accuracy: 0.7844 - S2P2_accuracy: 0.6834 - S3P1_accuracy: 0.7095 - S3P2_accuracy: 0.6547 - S4P1_accuracy: 0.8714 - S4P2_accuracy: 0.6101 - S5P1_accuracy: 0.7846 - S5P2_accuracy: 0.6996 - loss: 8.9957 - val_S1P1_accuracy: 0.8642 - val_S1P2_accuracy: 0.7654 - val_S2P1_accuracy: 0.7901 - val_S2P2_accuracy: 0.7654 - val_S3P1_accuracy: 0.7407 - val_S3P2_accuracy: 0.7037 - val_S4P1_accuracy: 0.8889 - val_S4P2_accuracy: 0.8025 - val_S5P1_accuracy: 0.7531 - val_S5P2_accuracy: 0.7654 - val_loss: 8.1427\n",
      "Epoch 10/10\n",
      "\u001B[1m25/25\u001B[0m \u001B[32m━━━━━━━━━━━━━━━━━━━━\u001B[0m\u001B[37m\u001B[0m \u001B[1m0s\u001B[0m 5ms/step - S1P1_accuracy: 0.8459 - S1P2_accuracy: 0.7559 - S2P1_accuracy: 0.7901 - S2P2_accuracy: 0.7086 - S3P1_accuracy: 0.7190 - S3P2_accuracy: 0.6540 - S4P1_accuracy: 0.8724 - S4P2_accuracy: 0.6323 - S5P1_accuracy: 0.7853 - S5P2_accuracy: 0.7099 - loss: 8.6833 - val_S1P1_accuracy: 0.8642 - val_S1P2_accuracy: 0.7654 - val_S2P1_accuracy: 0.7901 - val_S2P2_accuracy: 0.7901 - val_S3P1_accuracy: 0.7531 - val_S3P2_accuracy: 0.7284 - val_S4P1_accuracy: 0.8889 - val_S4P2_accuracy: 0.8148 - val_S5P1_accuracy: 0.7531 - val_S5P2_accuracy: 0.7654 - val_loss: 8.2069\n"
     ]
    },
    {
     "data": {
      "text/plain": [
       "<keras.src.callbacks.history.History at 0x241d06ce330>"
      ]
     },
     "execution_count": 7,
     "metadata": {},
     "output_type": "execute_result"
    }
   ],
   "execution_count": 7
  },
  {
   "metadata": {},
   "cell_type": "markdown",
   "source": [
    "### **Attempts made to improve output:**\n",
    "The loss calculation is high as seen in this output. The closer a loss is to 0 the better, but the above calculations are far from 0. Simplifying the model's complexity, adjusting the L2 regularzation penalties, and changing the number of epochs but none seemed to have any effect on the loss of the model."
   ],
   "id": "79acb190fe39401a"
  },
  {
   "metadata": {},
   "cell_type": "markdown",
   "source": [
    "### **Better understanding the data itself:**\n",
    "Having a better understanding of the data itself can often explain what is happening with the model. For example, knowing what percentage of people fell into each catagory for each scinario could potentially add more of an explination to what is seen in the model's output. This could help because in scinerio 1 part 1 the model predicted the correct answer about 85% of the time but if about 85% of people all fell within the same catagory then the high accuracy rate might not be as impressive. Below is the code that calculates the percentage of people that fall into each catagory for each scinario."
   ],
   "id": "7af336e971f437e8"
  },
  {
   "metadata": {
    "ExecuteTime": {
     "end_time": "2024-07-31T23:33:24.298303Z",
     "start_time": "2024-07-31T23:33:24.270792Z"
    }
   },
   "cell_type": "code",
   "source": [
    "def get_percentages(full_data):\n",
    "    n = len(full_data)\n",
    "    classed_arr = [np.argmax(sample) for sample in full_data]\n",
    "    n0, n1, n2 = classed_arr.count(0), classed_arr.count(1), classed_arr.count(2)\n",
    "    return (f\"Catagory 0: {round((n0-3)/n*100,2)}% Catagory 1: \"\n",
    "            f\"{round((n1-3)/n*100,2)}% Catagory 2: {round((n2-3)/n*100,2)}%\")\n",
    "\n",
    "names = itterate_situations_and_parts()\n",
    "for i in range(10):\n",
    "    print(f\"{names[i]} = {get_percentages(all_situations[i])}\")"
   ],
   "id": "76e598b8248df204",
   "outputs": [
    {
     "name": "stdout",
     "output_type": "stream",
     "text": [
      "S1P1 = Catagory 0: 7.38% Catagory 1: 8.85% Catagory 2: 82.75%\n",
      "S1P2 = Catagory 0: 11.46% Catagory 1: 13.05% Catagory 2: 74.46%\n",
      "S2P1 = Catagory 0: 8.29% Catagory 1: 11.46% Catagory 2: 79.23%\n",
      "S2P2 = Catagory 0: 18.16% Catagory 1: 10.78% Catagory 2: 70.03%\n",
      "S3P1 = Catagory 0: 33.48% Catagory 1: 9.53% Catagory 2: 55.96%\n",
      "S3P2 = Catagory 0: 35.07% Catagory 1: 11.12% Catagory 2: 52.78%\n",
      "S4P1 = Catagory 0: 3.18% Catagory 1: 8.06% Catagory 2: 87.74%\n",
      "S4P2 = Catagory 0: 20.32% Catagory 1: 14.76% Catagory 2: 63.9%\n",
      "S5P1 = Catagory 0: 9.88% Catagory 1: 11.35% Catagory 2: 77.75%\n",
      "S5P2 = Catagory 0: 13.28% Catagory 1: 13.73% Catagory 2: 71.96%\n"
     ]
    }
   ],
   "execution_count": 8
  },
  {
   "metadata": {},
   "cell_type": "markdown",
   "source": [
    "### **Connecting to model output:**\n",
    "It is clear that a large majority of the samples (people) made decisions that fell into the thrid catagory. Most of them are near the same percentage of the model accuracy. That means if the model just predicted the sample making a decision that falls into catagory three then the output would be simalar. With that being said, S3P1 and S3P2 are both signifigently lower than the model's output. There are two things that come to mind. Number one is to change the catagories so instead of a 4-3-4 split it is a 3-5-3 split. This would potentally lower the percentage of samples that fall into catagory three. Another idea would be to build a decision tree model instead of a deep nerual network mode. This could work because decision threes are better for smaller and less complecated data. Changing the split to 3-5-3 is an easy change so I will do that first and see what happens. Below is the code to make the split. "
   ],
   "id": "66522aaec2e5259d"
  },
  {
   "metadata": {
    "ExecuteTime": {
     "end_time": "2024-07-31T23:33:24.310642Z",
     "start_time": "2024-07-31T23:33:24.299746Z"
    }
   },
   "cell_type": "code",
   "source": [
    "def classiy_and_catigorize(column):\n",
    "    return to_categorical([0 if x <= 2 else 1 if x <= 7 else 2 for x in column])\n",
    "\n",
    "S1P1, S1P2, S2P1, S2P2, S3P1, S3P2, S4P1, S4P2, S5P1, S5P2 = [classiy_and_catigorize(col) for col in columns]\n",
    "all_situations = [S1P1, S1P2, S2P1, S2P2, S3P1, S3P2, S4P1, S4P2, S5P1, S5P2]\n",
    "\n",
    "for situation in all_situations:\n",
    "    print(situation.shape)"
   ],
   "id": "1911c11cf96dc3df",
   "outputs": [
    {
     "name": "stdout",
     "output_type": "stream",
     "text": [
      "(881, 3)\n",
      "(881, 3)\n",
      "(881, 3)\n",
      "(881, 3)\n",
      "(881, 3)\n",
      "(881, 3)\n",
      "(881, 3)\n",
      "(881, 3)\n",
      "(881, 3)\n",
      "(881, 3)\n"
     ]
    }
   ],
   "execution_count": 9
  },
  {
   "metadata": {},
   "cell_type": "markdown",
   "source": [
    "### **Dysplay ratios for each catagory**\n",
    "Done in the code bellow."
   ],
   "id": "57e9cc47e86a88c"
  },
  {
   "metadata": {
    "ExecuteTime": {
     "end_time": "2024-07-31T23:33:24.337842Z",
     "start_time": "2024-07-31T23:33:24.312964Z"
    }
   },
   "cell_type": "code",
   "source": [
    "for i in range(10):\n",
    "    print(f\"{names[i]} = {get_percentages(all_situations[i])}\")"
   ],
   "id": "69d2df426fb19a83",
   "outputs": [
    {
     "name": "stdout",
     "output_type": "stream",
     "text": [
      "S1P1 = Catagory 0: 5.11% Catagory 1: 27.47% Catagory 2: 66.4%\n",
      "S1P2 = Catagory 0: 8.17% Catagory 1: 31.33% Catagory 2: 59.48%\n",
      "S2P1 = Catagory 0: 4.77% Catagory 1: 30.53% Catagory 2: 63.68%\n",
      "S2P2 = Catagory 0: 13.62% Catagory 1: 30.53% Catagory 2: 54.82%\n",
      "S3P1 = Catagory 0: 29.51% Catagory 1: 25.54% Catagory 2: 43.93%\n",
      "S3P2 = Catagory 0: 29.28% Catagory 1: 27.7% Catagory 2: 42.0%\n",
      "S4P1 = Catagory 0: 1.7% Catagory 1: 23.95% Catagory 2: 73.33%\n",
      "S4P2 = Catagory 0: 16.35% Catagory 1: 32.8% Catagory 2: 49.83%\n",
      "S5P1 = Catagory 0: 7.15% Catagory 1: 30.42% Catagory 2: 61.41%\n",
      "S5P2 = Catagory 0: 9.88% Catagory 1: 32.24% Catagory 2: 56.87%\n"
     ]
    }
   ],
   "execution_count": 10
  },
  {
   "metadata": {},
   "cell_type": "markdown",
   "source": [
    "### **These ratios are better and will hopefully add more insight to what is happening**\n",
    "Below will relveil if I am right."
   ],
   "id": "d350cf5a2d4bf7fb"
  },
  {
   "metadata": {},
   "cell_type": "markdown",
   "source": [
    "### **Split into training and validating:**\n",
    "Just as before the data with the new split need to be sorted into training and validating data. Below is the code for this."
   ],
   "id": "f0fbcd65ce02633a"
  },
  {
   "metadata": {
    "ExecuteTime": {
     "end_time": "2024-07-31T23:33:24.345597Z",
     "start_time": "2024-07-31T23:33:24.337842Z"
    }
   },
   "cell_type": "code",
   "source": [
    "S1P1_train, S1P1_val = split(S1P1)\n",
    "S1P2_train, S1P2_val = split(S1P2)\n",
    "S2P1_train, S2P1_val = split(S2P1)\n",
    "S2P2_train, S2P2_val = split(S2P2)\n",
    "S3P1_train, S3P1_val = split(S3P1)\n",
    "S3P2_train, S3P2_val = split(S3P2)\n",
    "S4P1_train, S4P1_val = split(S4P1)\n",
    "S4P2_train, S4P2_val = split(S4P2)\n",
    "S5P1_train, S5P1_val = split(S5P1)\n",
    "S5P2_train, S5P2_val = split(S5P2)\n",
    "\n",
    "print(f\"S1P1 training shape: {S1P1_train.shape}\")\n",
    "print(f\"Validation set length: {len(S1P1_val)}\")"
   ],
   "id": "b2d908e833e1d725",
   "outputs": [
    {
     "name": "stdout",
     "output_type": "stream",
     "text": [
      "S1P1 training shape: (800, 3)\n",
      "Validation set length: 81\n"
     ]
    }
   ],
   "execution_count": 11
  },
  {
   "metadata": {},
   "cell_type": "markdown",
   "source": [
    "### **Train the model with new data split:**\n",
    "The model archetecture does not need to be rebuilt but the model does need to be reset and re-compiled."
   ],
   "id": "b2a56a3af661208f"
  },
  {
   "metadata": {
    "ExecuteTime": {
     "end_time": "2024-07-31T23:33:24.389744Z",
     "start_time": "2024-07-31T23:33:24.346983Z"
    }
   },
   "cell_type": "code",
   "source": [
    "model = Model(inputs=[input1, input2], outputs=outputs, name='CustomizedDeepNeuralNetwork')\n",
    "\n",
    "metrics = ['accuracy'] * 10  \n",
    "\n",
    "model.compile(loss='categorical_crossentropy',\n",
    "              optimizer='adam',\n",
    "              metrics=metrics)\n",
    "\n",
    "print(model.summary())"
   ],
   "id": "6e83ef339b63a01b",
   "outputs": [
    {
     "data": {
      "text/plain": [
       "\u001B[1mModel: \"CustomizedDeepNeuralNetwork\"\u001B[0m\n"
      ],
      "text/html": [
       "<pre style=\"white-space:pre;overflow-x:auto;line-height:normal;font-family:Menlo,'DejaVu Sans Mono',consolas,'Courier New',monospace\"><span style=\"font-weight: bold\">Model: \"CustomizedDeepNeuralNetwork\"</span>\n",
       "</pre>\n"
      ]
     },
     "metadata": {},
     "output_type": "display_data"
    },
    {
     "data": {
      "text/plain": [
       "┏━━━━━━━━━━━━━━━━━━━━━┳━━━━━━━━━━━━━━━━━━━┳━━━━━━━━━━━━┳━━━━━━━━━━━━━━━━━━━┓\n",
       "┃\u001B[1m \u001B[0m\u001B[1mLayer (type)       \u001B[0m\u001B[1m \u001B[0m┃\u001B[1m \u001B[0m\u001B[1mOutput Shape     \u001B[0m\u001B[1m \u001B[0m┃\u001B[1m \u001B[0m\u001B[1m   Param #\u001B[0m\u001B[1m \u001B[0m┃\u001B[1m \u001B[0m\u001B[1mConnected to     \u001B[0m\u001B[1m \u001B[0m┃\n",
       "┡━━━━━━━━━━━━━━━━━━━━━╇━━━━━━━━━━━━━━━━━━━╇━━━━━━━━━━━━╇━━━━━━━━━━━━━━━━━━━┩\n",
       "│ InputLayer1         │ (\u001B[38;5;45mNone\u001B[0m, \u001B[38;5;34m3\u001B[0m)         │          \u001B[38;5;34m0\u001B[0m │ -                 │\n",
       "│ (\u001B[38;5;33mInputLayer\u001B[0m)        │                   │            │                   │\n",
       "├─────────────────────┼───────────────────┼────────────┼───────────────────┤\n",
       "│ InputLayer2         │ (\u001B[38;5;45mNone\u001B[0m, \u001B[38;5;34m34\u001B[0m)        │          \u001B[38;5;34m0\u001B[0m │ -                 │\n",
       "│ (\u001B[38;5;33mInputLayer\u001B[0m)        │                   │            │                   │\n",
       "├─────────────────────┼───────────────────┼────────────┼───────────────────┤\n",
       "│ DenseOne_Input1     │ (\u001B[38;5;45mNone\u001B[0m, \u001B[38;5;34m256\u001B[0m)       │      \u001B[38;5;34m1,024\u001B[0m │ InputLayer1[\u001B[38;5;34m0\u001B[0m][\u001B[38;5;34m0\u001B[0m] │\n",
       "│ (\u001B[38;5;33mDense\u001B[0m)             │                   │            │                   │\n",
       "├─────────────────────┼───────────────────┼────────────┼───────────────────┤\n",
       "│ DenseOne_Input2     │ (\u001B[38;5;45mNone\u001B[0m, \u001B[38;5;34m256\u001B[0m)       │      \u001B[38;5;34m8,960\u001B[0m │ InputLayer2[\u001B[38;5;34m0\u001B[0m][\u001B[38;5;34m0\u001B[0m] │\n",
       "│ (\u001B[38;5;33mDense\u001B[0m)             │                   │            │                   │\n",
       "├─────────────────────┼───────────────────┼────────────┼───────────────────┤\n",
       "│ DenseTwo_Input1     │ (\u001B[38;5;45mNone\u001B[0m, \u001B[38;5;34m128\u001B[0m)       │     \u001B[38;5;34m32,896\u001B[0m │ DenseOne_Input1[\u001B[38;5;34m…\u001B[0m │\n",
       "│ (\u001B[38;5;33mDense\u001B[0m)             │                   │            │                   │\n",
       "├─────────────────────┼───────────────────┼────────────┼───────────────────┤\n",
       "│ DenseTwo_Input2     │ (\u001B[38;5;45mNone\u001B[0m, \u001B[38;5;34m128\u001B[0m)       │     \u001B[38;5;34m32,896\u001B[0m │ DenseOne_Input2[\u001B[38;5;34m…\u001B[0m │\n",
       "│ (\u001B[38;5;33mDense\u001B[0m)             │                   │            │                   │\n",
       "├─────────────────────┼───────────────────┼────────────┼───────────────────┤\n",
       "│ DenseThree_Input1   │ (\u001B[38;5;45mNone\u001B[0m, \u001B[38;5;34m64\u001B[0m)        │      \u001B[38;5;34m8,256\u001B[0m │ DenseTwo_Input1[\u001B[38;5;34m…\u001B[0m │\n",
       "│ (\u001B[38;5;33mDense\u001B[0m)             │                   │            │                   │\n",
       "├─────────────────────┼───────────────────┼────────────┼───────────────────┤\n",
       "│ DenseThree_Input2   │ (\u001B[38;5;45mNone\u001B[0m, \u001B[38;5;34m64\u001B[0m)        │      \u001B[38;5;34m8,256\u001B[0m │ DenseTwo_Input2[\u001B[38;5;34m…\u001B[0m │\n",
       "│ (\u001B[38;5;33mDense\u001B[0m)             │                   │            │                   │\n",
       "├─────────────────────┼───────────────────┼────────────┼───────────────────┤\n",
       "│ DenseFour_Input1    │ (\u001B[38;5;45mNone\u001B[0m, \u001B[38;5;34m32\u001B[0m)        │      \u001B[38;5;34m2,080\u001B[0m │ DenseThree_Input… │\n",
       "│ (\u001B[38;5;33mDense\u001B[0m)             │                   │            │                   │\n",
       "├─────────────────────┼───────────────────┼────────────┼───────────────────┤\n",
       "│ DenseFour_Input2    │ (\u001B[38;5;45mNone\u001B[0m, \u001B[38;5;34m32\u001B[0m)        │      \u001B[38;5;34m2,080\u001B[0m │ DenseThree_Input… │\n",
       "│ (\u001B[38;5;33mDense\u001B[0m)             │                   │            │                   │\n",
       "├─────────────────────┼───────────────────┼────────────┼───────────────────┤\n",
       "│ DenseFive_Input1    │ (\u001B[38;5;45mNone\u001B[0m, \u001B[38;5;34m16\u001B[0m)        │        \u001B[38;5;34m528\u001B[0m │ DenseFour_Input1… │\n",
       "│ (\u001B[38;5;33mDense\u001B[0m)             │                   │            │                   │\n",
       "├─────────────────────┼───────────────────┼────────────┼───────────────────┤\n",
       "│ DenseFive_Input2    │ (\u001B[38;5;45mNone\u001B[0m, \u001B[38;5;34m16\u001B[0m)        │        \u001B[38;5;34m528\u001B[0m │ DenseFour_Input2… │\n",
       "│ (\u001B[38;5;33mDense\u001B[0m)             │                   │            │                   │\n",
       "├─────────────────────┼───────────────────┼────────────┼───────────────────┤\n",
       "│ ConcatinatedInput   │ (\u001B[38;5;45mNone\u001B[0m, \u001B[38;5;34m32\u001B[0m)        │          \u001B[38;5;34m0\u001B[0m │ DenseFive_Input1… │\n",
       "│ (\u001B[38;5;33mConcatenate\u001B[0m)       │                   │            │ DenseFive_Input2… │\n",
       "├─────────────────────┼───────────────────┼────────────┼───────────────────┤\n",
       "│ S1P1 (\u001B[38;5;33mDense\u001B[0m)        │ (\u001B[38;5;45mNone\u001B[0m, \u001B[38;5;34m3\u001B[0m)         │         \u001B[38;5;34m99\u001B[0m │ ConcatinatedInpu… │\n",
       "├─────────────────────┼───────────────────┼────────────┼───────────────────┤\n",
       "│ S1P2 (\u001B[38;5;33mDense\u001B[0m)        │ (\u001B[38;5;45mNone\u001B[0m, \u001B[38;5;34m3\u001B[0m)         │         \u001B[38;5;34m99\u001B[0m │ ConcatinatedInpu… │\n",
       "├─────────────────────┼───────────────────┼────────────┼───────────────────┤\n",
       "│ S2P1 (\u001B[38;5;33mDense\u001B[0m)        │ (\u001B[38;5;45mNone\u001B[0m, \u001B[38;5;34m3\u001B[0m)         │         \u001B[38;5;34m99\u001B[0m │ ConcatinatedInpu… │\n",
       "├─────────────────────┼───────────────────┼────────────┼───────────────────┤\n",
       "│ S2P2 (\u001B[38;5;33mDense\u001B[0m)        │ (\u001B[38;5;45mNone\u001B[0m, \u001B[38;5;34m3\u001B[0m)         │         \u001B[38;5;34m99\u001B[0m │ ConcatinatedInpu… │\n",
       "├─────────────────────┼───────────────────┼────────────┼───────────────────┤\n",
       "│ S3P1 (\u001B[38;5;33mDense\u001B[0m)        │ (\u001B[38;5;45mNone\u001B[0m, \u001B[38;5;34m3\u001B[0m)         │         \u001B[38;5;34m99\u001B[0m │ ConcatinatedInpu… │\n",
       "├─────────────────────┼───────────────────┼────────────┼───────────────────┤\n",
       "│ S3P2 (\u001B[38;5;33mDense\u001B[0m)        │ (\u001B[38;5;45mNone\u001B[0m, \u001B[38;5;34m3\u001B[0m)         │         \u001B[38;5;34m99\u001B[0m │ ConcatinatedInpu… │\n",
       "├─────────────────────┼───────────────────┼────────────┼───────────────────┤\n",
       "│ S4P1 (\u001B[38;5;33mDense\u001B[0m)        │ (\u001B[38;5;45mNone\u001B[0m, \u001B[38;5;34m3\u001B[0m)         │         \u001B[38;5;34m99\u001B[0m │ ConcatinatedInpu… │\n",
       "├─────────────────────┼───────────────────┼────────────┼───────────────────┤\n",
       "│ S4P2 (\u001B[38;5;33mDense\u001B[0m)        │ (\u001B[38;5;45mNone\u001B[0m, \u001B[38;5;34m3\u001B[0m)         │         \u001B[38;5;34m99\u001B[0m │ ConcatinatedInpu… │\n",
       "├─────────────────────┼───────────────────┼────────────┼───────────────────┤\n",
       "│ S5P1 (\u001B[38;5;33mDense\u001B[0m)        │ (\u001B[38;5;45mNone\u001B[0m, \u001B[38;5;34m3\u001B[0m)         │         \u001B[38;5;34m99\u001B[0m │ ConcatinatedInpu… │\n",
       "├─────────────────────┼───────────────────┼────────────┼───────────────────┤\n",
       "│ S5P2 (\u001B[38;5;33mDense\u001B[0m)        │ (\u001B[38;5;45mNone\u001B[0m, \u001B[38;5;34m3\u001B[0m)         │         \u001B[38;5;34m99\u001B[0m │ ConcatinatedInpu… │\n",
       "└─────────────────────┴───────────────────┴────────────┴───────────────────┘\n"
      ],
      "text/html": [
       "<pre style=\"white-space:pre;overflow-x:auto;line-height:normal;font-family:Menlo,'DejaVu Sans Mono',consolas,'Courier New',monospace\">┏━━━━━━━━━━━━━━━━━━━━━┳━━━━━━━━━━━━━━━━━━━┳━━━━━━━━━━━━┳━━━━━━━━━━━━━━━━━━━┓\n",
       "┃<span style=\"font-weight: bold\"> Layer (type)        </span>┃<span style=\"font-weight: bold\"> Output Shape      </span>┃<span style=\"font-weight: bold\">    Param # </span>┃<span style=\"font-weight: bold\"> Connected to      </span>┃\n",
       "┡━━━━━━━━━━━━━━━━━━━━━╇━━━━━━━━━━━━━━━━━━━╇━━━━━━━━━━━━╇━━━━━━━━━━━━━━━━━━━┩\n",
       "│ InputLayer1         │ (<span style=\"color: #00d7ff; text-decoration-color: #00d7ff\">None</span>, <span style=\"color: #00af00; text-decoration-color: #00af00\">3</span>)         │          <span style=\"color: #00af00; text-decoration-color: #00af00\">0</span> │ -                 │\n",
       "│ (<span style=\"color: #0087ff; text-decoration-color: #0087ff\">InputLayer</span>)        │                   │            │                   │\n",
       "├─────────────────────┼───────────────────┼────────────┼───────────────────┤\n",
       "│ InputLayer2         │ (<span style=\"color: #00d7ff; text-decoration-color: #00d7ff\">None</span>, <span style=\"color: #00af00; text-decoration-color: #00af00\">34</span>)        │          <span style=\"color: #00af00; text-decoration-color: #00af00\">0</span> │ -                 │\n",
       "│ (<span style=\"color: #0087ff; text-decoration-color: #0087ff\">InputLayer</span>)        │                   │            │                   │\n",
       "├─────────────────────┼───────────────────┼────────────┼───────────────────┤\n",
       "│ DenseOne_Input1     │ (<span style=\"color: #00d7ff; text-decoration-color: #00d7ff\">None</span>, <span style=\"color: #00af00; text-decoration-color: #00af00\">256</span>)       │      <span style=\"color: #00af00; text-decoration-color: #00af00\">1,024</span> │ InputLayer1[<span style=\"color: #00af00; text-decoration-color: #00af00\">0</span>][<span style=\"color: #00af00; text-decoration-color: #00af00\">0</span>] │\n",
       "│ (<span style=\"color: #0087ff; text-decoration-color: #0087ff\">Dense</span>)             │                   │            │                   │\n",
       "├─────────────────────┼───────────────────┼────────────┼───────────────────┤\n",
       "│ DenseOne_Input2     │ (<span style=\"color: #00d7ff; text-decoration-color: #00d7ff\">None</span>, <span style=\"color: #00af00; text-decoration-color: #00af00\">256</span>)       │      <span style=\"color: #00af00; text-decoration-color: #00af00\">8,960</span> │ InputLayer2[<span style=\"color: #00af00; text-decoration-color: #00af00\">0</span>][<span style=\"color: #00af00; text-decoration-color: #00af00\">0</span>] │\n",
       "│ (<span style=\"color: #0087ff; text-decoration-color: #0087ff\">Dense</span>)             │                   │            │                   │\n",
       "├─────────────────────┼───────────────────┼────────────┼───────────────────┤\n",
       "│ DenseTwo_Input1     │ (<span style=\"color: #00d7ff; text-decoration-color: #00d7ff\">None</span>, <span style=\"color: #00af00; text-decoration-color: #00af00\">128</span>)       │     <span style=\"color: #00af00; text-decoration-color: #00af00\">32,896</span> │ DenseOne_Input1[<span style=\"color: #00af00; text-decoration-color: #00af00\">…</span> │\n",
       "│ (<span style=\"color: #0087ff; text-decoration-color: #0087ff\">Dense</span>)             │                   │            │                   │\n",
       "├─────────────────────┼───────────────────┼────────────┼───────────────────┤\n",
       "│ DenseTwo_Input2     │ (<span style=\"color: #00d7ff; text-decoration-color: #00d7ff\">None</span>, <span style=\"color: #00af00; text-decoration-color: #00af00\">128</span>)       │     <span style=\"color: #00af00; text-decoration-color: #00af00\">32,896</span> │ DenseOne_Input2[<span style=\"color: #00af00; text-decoration-color: #00af00\">…</span> │\n",
       "│ (<span style=\"color: #0087ff; text-decoration-color: #0087ff\">Dense</span>)             │                   │            │                   │\n",
       "├─────────────────────┼───────────────────┼────────────┼───────────────────┤\n",
       "│ DenseThree_Input1   │ (<span style=\"color: #00d7ff; text-decoration-color: #00d7ff\">None</span>, <span style=\"color: #00af00; text-decoration-color: #00af00\">64</span>)        │      <span style=\"color: #00af00; text-decoration-color: #00af00\">8,256</span> │ DenseTwo_Input1[<span style=\"color: #00af00; text-decoration-color: #00af00\">…</span> │\n",
       "│ (<span style=\"color: #0087ff; text-decoration-color: #0087ff\">Dense</span>)             │                   │            │                   │\n",
       "├─────────────────────┼───────────────────┼────────────┼───────────────────┤\n",
       "│ DenseThree_Input2   │ (<span style=\"color: #00d7ff; text-decoration-color: #00d7ff\">None</span>, <span style=\"color: #00af00; text-decoration-color: #00af00\">64</span>)        │      <span style=\"color: #00af00; text-decoration-color: #00af00\">8,256</span> │ DenseTwo_Input2[<span style=\"color: #00af00; text-decoration-color: #00af00\">…</span> │\n",
       "│ (<span style=\"color: #0087ff; text-decoration-color: #0087ff\">Dense</span>)             │                   │            │                   │\n",
       "├─────────────────────┼───────────────────┼────────────┼───────────────────┤\n",
       "│ DenseFour_Input1    │ (<span style=\"color: #00d7ff; text-decoration-color: #00d7ff\">None</span>, <span style=\"color: #00af00; text-decoration-color: #00af00\">32</span>)        │      <span style=\"color: #00af00; text-decoration-color: #00af00\">2,080</span> │ DenseThree_Input… │\n",
       "│ (<span style=\"color: #0087ff; text-decoration-color: #0087ff\">Dense</span>)             │                   │            │                   │\n",
       "├─────────────────────┼───────────────────┼────────────┼───────────────────┤\n",
       "│ DenseFour_Input2    │ (<span style=\"color: #00d7ff; text-decoration-color: #00d7ff\">None</span>, <span style=\"color: #00af00; text-decoration-color: #00af00\">32</span>)        │      <span style=\"color: #00af00; text-decoration-color: #00af00\">2,080</span> │ DenseThree_Input… │\n",
       "│ (<span style=\"color: #0087ff; text-decoration-color: #0087ff\">Dense</span>)             │                   │            │                   │\n",
       "├─────────────────────┼───────────────────┼────────────┼───────────────────┤\n",
       "│ DenseFive_Input1    │ (<span style=\"color: #00d7ff; text-decoration-color: #00d7ff\">None</span>, <span style=\"color: #00af00; text-decoration-color: #00af00\">16</span>)        │        <span style=\"color: #00af00; text-decoration-color: #00af00\">528</span> │ DenseFour_Input1… │\n",
       "│ (<span style=\"color: #0087ff; text-decoration-color: #0087ff\">Dense</span>)             │                   │            │                   │\n",
       "├─────────────────────┼───────────────────┼────────────┼───────────────────┤\n",
       "│ DenseFive_Input2    │ (<span style=\"color: #00d7ff; text-decoration-color: #00d7ff\">None</span>, <span style=\"color: #00af00; text-decoration-color: #00af00\">16</span>)        │        <span style=\"color: #00af00; text-decoration-color: #00af00\">528</span> │ DenseFour_Input2… │\n",
       "│ (<span style=\"color: #0087ff; text-decoration-color: #0087ff\">Dense</span>)             │                   │            │                   │\n",
       "├─────────────────────┼───────────────────┼────────────┼───────────────────┤\n",
       "│ ConcatinatedInput   │ (<span style=\"color: #00d7ff; text-decoration-color: #00d7ff\">None</span>, <span style=\"color: #00af00; text-decoration-color: #00af00\">32</span>)        │          <span style=\"color: #00af00; text-decoration-color: #00af00\">0</span> │ DenseFive_Input1… │\n",
       "│ (<span style=\"color: #0087ff; text-decoration-color: #0087ff\">Concatenate</span>)       │                   │            │ DenseFive_Input2… │\n",
       "├─────────────────────┼───────────────────┼────────────┼───────────────────┤\n",
       "│ S1P1 (<span style=\"color: #0087ff; text-decoration-color: #0087ff\">Dense</span>)        │ (<span style=\"color: #00d7ff; text-decoration-color: #00d7ff\">None</span>, <span style=\"color: #00af00; text-decoration-color: #00af00\">3</span>)         │         <span style=\"color: #00af00; text-decoration-color: #00af00\">99</span> │ ConcatinatedInpu… │\n",
       "├─────────────────────┼───────────────────┼────────────┼───────────────────┤\n",
       "│ S1P2 (<span style=\"color: #0087ff; text-decoration-color: #0087ff\">Dense</span>)        │ (<span style=\"color: #00d7ff; text-decoration-color: #00d7ff\">None</span>, <span style=\"color: #00af00; text-decoration-color: #00af00\">3</span>)         │         <span style=\"color: #00af00; text-decoration-color: #00af00\">99</span> │ ConcatinatedInpu… │\n",
       "├─────────────────────┼───────────────────┼────────────┼───────────────────┤\n",
       "│ S2P1 (<span style=\"color: #0087ff; text-decoration-color: #0087ff\">Dense</span>)        │ (<span style=\"color: #00d7ff; text-decoration-color: #00d7ff\">None</span>, <span style=\"color: #00af00; text-decoration-color: #00af00\">3</span>)         │         <span style=\"color: #00af00; text-decoration-color: #00af00\">99</span> │ ConcatinatedInpu… │\n",
       "├─────────────────────┼───────────────────┼────────────┼───────────────────┤\n",
       "│ S2P2 (<span style=\"color: #0087ff; text-decoration-color: #0087ff\">Dense</span>)        │ (<span style=\"color: #00d7ff; text-decoration-color: #00d7ff\">None</span>, <span style=\"color: #00af00; text-decoration-color: #00af00\">3</span>)         │         <span style=\"color: #00af00; text-decoration-color: #00af00\">99</span> │ ConcatinatedInpu… │\n",
       "├─────────────────────┼───────────────────┼────────────┼───────────────────┤\n",
       "│ S3P1 (<span style=\"color: #0087ff; text-decoration-color: #0087ff\">Dense</span>)        │ (<span style=\"color: #00d7ff; text-decoration-color: #00d7ff\">None</span>, <span style=\"color: #00af00; text-decoration-color: #00af00\">3</span>)         │         <span style=\"color: #00af00; text-decoration-color: #00af00\">99</span> │ ConcatinatedInpu… │\n",
       "├─────────────────────┼───────────────────┼────────────┼───────────────────┤\n",
       "│ S3P2 (<span style=\"color: #0087ff; text-decoration-color: #0087ff\">Dense</span>)        │ (<span style=\"color: #00d7ff; text-decoration-color: #00d7ff\">None</span>, <span style=\"color: #00af00; text-decoration-color: #00af00\">3</span>)         │         <span style=\"color: #00af00; text-decoration-color: #00af00\">99</span> │ ConcatinatedInpu… │\n",
       "├─────────────────────┼───────────────────┼────────────┼───────────────────┤\n",
       "│ S4P1 (<span style=\"color: #0087ff; text-decoration-color: #0087ff\">Dense</span>)        │ (<span style=\"color: #00d7ff; text-decoration-color: #00d7ff\">None</span>, <span style=\"color: #00af00; text-decoration-color: #00af00\">3</span>)         │         <span style=\"color: #00af00; text-decoration-color: #00af00\">99</span> │ ConcatinatedInpu… │\n",
       "├─────────────────────┼───────────────────┼────────────┼───────────────────┤\n",
       "│ S4P2 (<span style=\"color: #0087ff; text-decoration-color: #0087ff\">Dense</span>)        │ (<span style=\"color: #00d7ff; text-decoration-color: #00d7ff\">None</span>, <span style=\"color: #00af00; text-decoration-color: #00af00\">3</span>)         │         <span style=\"color: #00af00; text-decoration-color: #00af00\">99</span> │ ConcatinatedInpu… │\n",
       "├─────────────────────┼───────────────────┼────────────┼───────────────────┤\n",
       "│ S5P1 (<span style=\"color: #0087ff; text-decoration-color: #0087ff\">Dense</span>)        │ (<span style=\"color: #00d7ff; text-decoration-color: #00d7ff\">None</span>, <span style=\"color: #00af00; text-decoration-color: #00af00\">3</span>)         │         <span style=\"color: #00af00; text-decoration-color: #00af00\">99</span> │ ConcatinatedInpu… │\n",
       "├─────────────────────┼───────────────────┼────────────┼───────────────────┤\n",
       "│ S5P2 (<span style=\"color: #0087ff; text-decoration-color: #0087ff\">Dense</span>)        │ (<span style=\"color: #00d7ff; text-decoration-color: #00d7ff\">None</span>, <span style=\"color: #00af00; text-decoration-color: #00af00\">3</span>)         │         <span style=\"color: #00af00; text-decoration-color: #00af00\">99</span> │ ConcatinatedInpu… │\n",
       "└─────────────────────┴───────────────────┴────────────┴───────────────────┘\n",
       "</pre>\n"
      ]
     },
     "metadata": {},
     "output_type": "display_data"
    },
    {
     "data": {
      "text/plain": [
       "\u001B[1m Total params: \u001B[0m\u001B[38;5;34m98,494\u001B[0m (384.74 KB)\n"
      ],
      "text/html": [
       "<pre style=\"white-space:pre;overflow-x:auto;line-height:normal;font-family:Menlo,'DejaVu Sans Mono',consolas,'Courier New',monospace\"><span style=\"font-weight: bold\"> Total params: </span><span style=\"color: #00af00; text-decoration-color: #00af00\">98,494</span> (384.74 KB)\n",
       "</pre>\n"
      ]
     },
     "metadata": {},
     "output_type": "display_data"
    },
    {
     "data": {
      "text/plain": [
       "\u001B[1m Trainable params: \u001B[0m\u001B[38;5;34m98,494\u001B[0m (384.74 KB)\n"
      ],
      "text/html": [
       "<pre style=\"white-space:pre;overflow-x:auto;line-height:normal;font-family:Menlo,'DejaVu Sans Mono',consolas,'Courier New',monospace\"><span style=\"font-weight: bold\"> Trainable params: </span><span style=\"color: #00af00; text-decoration-color: #00af00\">98,494</span> (384.74 KB)\n",
       "</pre>\n"
      ]
     },
     "metadata": {},
     "output_type": "display_data"
    },
    {
     "data": {
      "text/plain": [
       "\u001B[1m Non-trainable params: \u001B[0m\u001B[38;5;34m0\u001B[0m (0.00 B)\n"
      ],
      "text/html": [
       "<pre style=\"white-space:pre;overflow-x:auto;line-height:normal;font-family:Menlo,'DejaVu Sans Mono',consolas,'Courier New',monospace\"><span style=\"font-weight: bold\"> Non-trainable params: </span><span style=\"color: #00af00; text-decoration-color: #00af00\">0</span> (0.00 B)\n",
       "</pre>\n"
      ]
     },
     "metadata": {},
     "output_type": "display_data"
    },
    {
     "name": "stdout",
     "output_type": "stream",
     "text": [
      "None\n"
     ]
    }
   ],
   "execution_count": 12
  },
  {
   "metadata": {},
   "cell_type": "markdown",
   "source": [
    "### **Train the model same way as before**\n",
    "As seen below."
   ],
   "id": "965e93d295224697"
  },
  {
   "metadata": {
    "ExecuteTime": {
     "end_time": "2024-07-31T23:33:33.266315Z",
     "start_time": "2024-07-31T23:33:24.389744Z"
    }
   },
   "cell_type": "code",
   "source": [
    "model.fit([layer1_X_train, layer2_X_train], [S1P1_train, S1P2_train, S2P1_train,\n",
    "                    S2P2_train, S3P1_train, S3P2_train, S4P1_train,\n",
    "                    S4P2_train, S5P1_train, S5P2_train],\n",
    "          epochs=10,\n",
    "          batch_size=32,\n",
    "          validation_data=([layer1_X_val, layer2_X_val], [S1P1_val, S1P2_val, S2P1_val,\n",
    "                                                          S2P2_val, S3P1_val, S3P2_val, S4P1_val,\n",
    "                                                          S4P2_val, S5P1_val, S5P2_val]))"
   ],
   "id": "675fb833df65a217",
   "outputs": [
    {
     "name": "stdout",
     "output_type": "stream",
     "text": [
      "Epoch 1/10\n",
      "\u001B[1m25/25\u001B[0m \u001B[32m━━━━━━━━━━━━━━━━━━━━\u001B[0m\u001B[37m\u001B[0m \u001B[1m7s\u001B[0m 39ms/step - S1P1_accuracy: 0.6781 - S1P2_accuracy: 0.5965 - S2P1_accuracy: 0.6409 - S2P2_accuracy: 0.5563 - S3P1_accuracy: 0.5538 - S3P2_accuracy: 0.5604 - S4P1_accuracy: 0.7375 - S4P2_accuracy: 0.4873 - S5P1_accuracy: 0.6453 - S5P2_accuracy: 0.5890 - loss: 10.6712 - val_S1P1_accuracy: 0.6296 - val_S1P2_accuracy: 0.5309 - val_S2P1_accuracy: 0.5802 - val_S2P2_accuracy: 0.4938 - val_S3P1_accuracy: 0.5432 - val_S3P2_accuracy: 0.5309 - val_S4P1_accuracy: 0.6296 - val_S4P2_accuracy: 0.5679 - val_S5P1_accuracy: 0.4815 - val_S5P2_accuracy: 0.5432 - val_loss: 10.2135\n",
      "Epoch 2/10\n",
      "\u001B[1m25/25\u001B[0m \u001B[32m━━━━━━━━━━━━━━━━━━━━\u001B[0m\u001B[37m\u001B[0m \u001B[1m0s\u001B[0m 6ms/step - S1P1_accuracy: 0.6664 - S1P2_accuracy: 0.6068 - S2P1_accuracy: 0.6408 - S2P2_accuracy: 0.5525 - S3P1_accuracy: 0.6121 - S3P2_accuracy: 0.5392 - S4P1_accuracy: 0.7416 - S4P2_accuracy: 0.5115 - S5P1_accuracy: 0.6252 - S5P2_accuracy: 0.5946 - loss: 9.9650 - val_S1P1_accuracy: 0.6296 - val_S1P2_accuracy: 0.5432 - val_S2P1_accuracy: 0.5802 - val_S2P2_accuracy: 0.5309 - val_S3P1_accuracy: 0.5432 - val_S3P2_accuracy: 0.5309 - val_S4P1_accuracy: 0.6296 - val_S4P2_accuracy: 0.5679 - val_S5P1_accuracy: 0.4815 - val_S5P2_accuracy: 0.5432 - val_loss: 9.8356\n",
      "Epoch 3/10\n",
      "\u001B[1m25/25\u001B[0m \u001B[32m━━━━━━━━━━━━━━━━━━━━\u001B[0m\u001B[37m\u001B[0m \u001B[1m0s\u001B[0m 6ms/step - S1P1_accuracy: 0.6502 - S1P2_accuracy: 0.5705 - S2P1_accuracy: 0.6267 - S2P2_accuracy: 0.5408 - S3P1_accuracy: 0.5564 - S3P2_accuracy: 0.5244 - S4P1_accuracy: 0.7498 - S4P2_accuracy: 0.4805 - S5P1_accuracy: 0.6072 - S5P2_accuracy: 0.5554 - loss: 9.8811 - val_S1P1_accuracy: 0.6296 - val_S1P2_accuracy: 0.5432 - val_S2P1_accuracy: 0.5802 - val_S2P2_accuracy: 0.4938 - val_S3P1_accuracy: 0.5556 - val_S3P2_accuracy: 0.5432 - val_S4P1_accuracy: 0.6296 - val_S4P2_accuracy: 0.5556 - val_S5P1_accuracy: 0.4815 - val_S5P2_accuracy: 0.5432 - val_loss: 9.6731\n",
      "Epoch 4/10\n",
      "\u001B[1m25/25\u001B[0m \u001B[32m━━━━━━━━━━━━━━━━━━━━\u001B[0m\u001B[37m\u001B[0m \u001B[1m0s\u001B[0m 5ms/step - S1P1_accuracy: 0.6701 - S1P2_accuracy: 0.5957 - S2P1_accuracy: 0.6559 - S2P2_accuracy: 0.5703 - S3P1_accuracy: 0.6067 - S3P2_accuracy: 0.5403 - S4P1_accuracy: 0.7468 - S4P2_accuracy: 0.5181 - S5P1_accuracy: 0.6199 - S5P2_accuracy: 0.5691 - loss: 9.5899 - val_S1P1_accuracy: 0.6296 - val_S1P2_accuracy: 0.5309 - val_S2P1_accuracy: 0.5802 - val_S2P2_accuracy: 0.5309 - val_S3P1_accuracy: 0.5432 - val_S3P2_accuracy: 0.5432 - val_S4P1_accuracy: 0.6296 - val_S4P2_accuracy: 0.5556 - val_S5P1_accuracy: 0.4815 - val_S5P2_accuracy: 0.5432 - val_loss: 9.6285\n",
      "Epoch 5/10\n",
      "\u001B[1m25/25\u001B[0m \u001B[32m━━━━━━━━━━━━━━━━━━━━\u001B[0m\u001B[37m\u001B[0m \u001B[1m0s\u001B[0m 6ms/step - S1P1_accuracy: 0.6587 - S1P2_accuracy: 0.5795 - S2P1_accuracy: 0.6525 - S2P2_accuracy: 0.5314 - S3P1_accuracy: 0.5915 - S3P2_accuracy: 0.5444 - S4P1_accuracy: 0.7164 - S4P2_accuracy: 0.4673 - S5P1_accuracy: 0.6164 - S5P2_accuracy: 0.5489 - loss: 9.6462 - val_S1P1_accuracy: 0.6296 - val_S1P2_accuracy: 0.5309 - val_S2P1_accuracy: 0.5802 - val_S2P2_accuracy: 0.5185 - val_S3P1_accuracy: 0.5432 - val_S3P2_accuracy: 0.5432 - val_S4P1_accuracy: 0.6296 - val_S4P2_accuracy: 0.5556 - val_S5P1_accuracy: 0.4815 - val_S5P2_accuracy: 0.5432 - val_loss: 9.4512\n",
      "Epoch 6/10\n",
      "\u001B[1m25/25\u001B[0m \u001B[32m━━━━━━━━━━━━━━━━━━━━\u001B[0m\u001B[37m\u001B[0m \u001B[1m0s\u001B[0m 5ms/step - S1P1_accuracy: 0.6696 - S1P2_accuracy: 0.5746 - S2P1_accuracy: 0.6381 - S2P2_accuracy: 0.5587 - S3P1_accuracy: 0.6099 - S3P2_accuracy: 0.5696 - S4P1_accuracy: 0.7515 - S4P2_accuracy: 0.5470 - S5P1_accuracy: 0.6390 - S5P2_accuracy: 0.5896 - loss: 9.2768 - val_S1P1_accuracy: 0.6296 - val_S1P2_accuracy: 0.5309 - val_S2P1_accuracy: 0.5802 - val_S2P2_accuracy: 0.5185 - val_S3P1_accuracy: 0.5556 - val_S3P2_accuracy: 0.5432 - val_S4P1_accuracy: 0.6296 - val_S4P2_accuracy: 0.5062 - val_S5P1_accuracy: 0.4815 - val_S5P2_accuracy: 0.5432 - val_loss: 9.5189\n",
      "Epoch 7/10\n",
      "\u001B[1m25/25\u001B[0m \u001B[32m━━━━━━━━━━━━━━━━━━━━\u001B[0m\u001B[37m\u001B[0m \u001B[1m0s\u001B[0m 6ms/step - S1P1_accuracy: 0.6684 - S1P2_accuracy: 0.6090 - S2P1_accuracy: 0.6569 - S2P2_accuracy: 0.5209 - S3P1_accuracy: 0.5860 - S3P2_accuracy: 0.5564 - S4P1_accuracy: 0.7389 - S4P2_accuracy: 0.5082 - S5P1_accuracy: 0.6203 - S5P2_accuracy: 0.5725 - loss: 9.4170 - val_S1P1_accuracy: 0.6296 - val_S1P2_accuracy: 0.5309 - val_S2P1_accuracy: 0.5802 - val_S2P2_accuracy: 0.5185 - val_S3P1_accuracy: 0.5432 - val_S3P2_accuracy: 0.5185 - val_S4P1_accuracy: 0.6296 - val_S4P2_accuracy: 0.5432 - val_S5P1_accuracy: 0.4815 - val_S5P2_accuracy: 0.5432 - val_loss: 9.3447\n",
      "Epoch 8/10\n",
      "\u001B[1m25/25\u001B[0m \u001B[32m━━━━━━━━━━━━━━━━━━━━\u001B[0m\u001B[37m\u001B[0m \u001B[1m0s\u001B[0m 5ms/step - S1P1_accuracy: 0.6747 - S1P2_accuracy: 0.5767 - S2P1_accuracy: 0.6430 - S2P2_accuracy: 0.5352 - S3P1_accuracy: 0.6197 - S3P2_accuracy: 0.5546 - S4P1_accuracy: 0.7466 - S4P2_accuracy: 0.4851 - S5P1_accuracy: 0.6278 - S5P2_accuracy: 0.5823 - loss: 9.3618 - val_S1P1_accuracy: 0.6296 - val_S1P2_accuracy: 0.5556 - val_S2P1_accuracy: 0.5802 - val_S2P2_accuracy: 0.5062 - val_S3P1_accuracy: 0.5556 - val_S3P2_accuracy: 0.5309 - val_S4P1_accuracy: 0.6296 - val_S4P2_accuracy: 0.5556 - val_S5P1_accuracy: 0.4815 - val_S5P2_accuracy: 0.5432 - val_loss: 9.3164\n",
      "Epoch 9/10\n",
      "\u001B[1m25/25\u001B[0m \u001B[32m━━━━━━━━━━━━━━━━━━━━\u001B[0m\u001B[37m\u001B[0m \u001B[1m0s\u001B[0m 8ms/step - S1P1_accuracy: 0.6516 - S1P2_accuracy: 0.5793 - S2P1_accuracy: 0.6287 - S2P2_accuracy: 0.5641 - S3P1_accuracy: 0.6039 - S3P2_accuracy: 0.5510 - S4P1_accuracy: 0.7208 - S4P2_accuracy: 0.5192 - S5P1_accuracy: 0.6281 - S5P2_accuracy: 0.5872 - loss: 9.3374 - val_S1P1_accuracy: 0.6296 - val_S1P2_accuracy: 0.5309 - val_S2P1_accuracy: 0.5802 - val_S2P2_accuracy: 0.5309 - val_S3P1_accuracy: 0.5556 - val_S3P2_accuracy: 0.5556 - val_S4P1_accuracy: 0.6296 - val_S4P2_accuracy: 0.5679 - val_S5P1_accuracy: 0.4815 - val_S5P2_accuracy: 0.5432 - val_loss: 9.4059\n",
      "Epoch 10/10\n",
      "\u001B[1m25/25\u001B[0m \u001B[32m━━━━━━━━━━━━━━━━━━━━\u001B[0m\u001B[37m\u001B[0m \u001B[1m0s\u001B[0m 6ms/step - S1P1_accuracy: 0.6854 - S1P2_accuracy: 0.6151 - S2P1_accuracy: 0.6427 - S2P2_accuracy: 0.5326 - S3P1_accuracy: 0.6084 - S3P2_accuracy: 0.5577 - S4P1_accuracy: 0.7574 - S4P2_accuracy: 0.5072 - S5P1_accuracy: 0.6319 - S5P2_accuracy: 0.6039 - loss: 9.1846 - val_S1P1_accuracy: 0.6296 - val_S1P2_accuracy: 0.5309 - val_S2P1_accuracy: 0.5802 - val_S2P2_accuracy: 0.5309 - val_S3P1_accuracy: 0.5432 - val_S3P2_accuracy: 0.5185 - val_S4P1_accuracy: 0.6296 - val_S4P2_accuracy: 0.5679 - val_S5P1_accuracy: 0.4815 - val_S5P2_accuracy: 0.5432 - val_loss: 9.2128\n"
     ]
    },
    {
     "data": {
      "text/plain": [
       "<keras.src.callbacks.history.History at 0x241d4b63440>"
      ]
     },
     "execution_count": 13,
     "metadata": {},
     "output_type": "execute_result"
    }
   ],
   "execution_count": 13
  },
  {
   "metadata": {},
   "cell_type": "markdown",
   "source": [
    "### **Understanding model output**\n",
    "The output again apears to suggest that the model is simply picking catagory three most of the time and that is why the percentages of accuracy is close to that of the ratio split. This could be because of poor model archetecture but I think trying out a decision tree next is a valid idea."
   ],
   "id": "de1c854fdd578572"
  },
  {
   "metadata": {},
   "cell_type": "markdown",
   "source": [
    "### **Testing Classifiers**\n",
    "Simply to see what happens I am going to test a few classifiers next. The output data will have to be changed though from being a catagorical to just being a number of the represented class. Only going to predict one output at a time."
   ],
   "id": "a81bb0b30255da6c"
  },
  {
   "metadata": {
    "ExecuteTime": {
     "end_time": "2024-07-31T23:48:26.916411Z",
     "start_time": "2024-07-31T23:48:26.908131Z"
    }
   },
   "cell_type": "code",
   "source": [
    "y_train = S1P1_train.argmax(axis=1)\n",
    "y_test = S1P1_val.argmax(axis=1)\n",
    "print(y_train.shape)\n",
    "print(y_test.shape)"
   ],
   "id": "5ddb862557f8ac68",
   "outputs": [
    {
     "name": "stdout",
     "output_type": "stream",
     "text": [
      "(800,)\n",
      "(81,)\n"
     ]
    }
   ],
   "execution_count": 19
  },
  {
   "metadata": {
    "ExecuteTime": {
     "end_time": "2024-07-31T23:50:33.582497Z",
     "start_time": "2024-07-31T23:50:33.197734Z"
    }
   },
   "cell_type": "code",
   "source": [
    "rf_model = RandomForestClassifier(n_estimators=50, random_state=42)\n",
    "gb_model = GradientBoostingClassifier(n_estimators=50, random_state=42)\n",
    "dt_model = DecisionTreeClassifier(random_state=42)\n",
    "\n",
    "rf_model.fit(layer1_X_train, y_train)\n",
    "gb_model.fit(layer1_X_train, y_train)\n",
    "dt_model.fit(layer1_X_train, y_train)\n",
    "\n",
    "rf_train_accuracy = rf_model.score(layer1_X_train, y_train) * 100\n",
    "gb_train_accuracy = gb_model.score(layer1_X_train, y_train) * 100\n",
    "dt_train_accuracy = dt_model.score(layer1_X_train, y_train) * 100\n",
    "\n",
    "print(f\"Random Forest Training Accuracy: {rf_train_accuracy:.2f}%\")\n",
    "print(f\"Gradient Boosting Training Accuracy: {gb_train_accuracy:.2f}%\")\n",
    "print(f\"Decision Tree Training Accuracy: {dt_train_accuracy:.2f}%\")\n",
    "\n",
    "rf_pred = rf_model.predict(layer1_X_val)\n",
    "gb_pred = gb_model.predict(layer1_X_val)\n",
    "dt_pred = dt_model.predict(layer1_X_val)\n",
    "\n",
    "rf_acc = accuracy_score(y_test, rf_pred)\n",
    "gb_acc = accuracy_score(y_test, gb_pred)\n",
    "dt_acc = accuracy_score(y_test, dt_pred)\n",
    "print(f'RF = {rf_acc*100:.2f}% | GB = {gb_acc*100:.2f}% | DT = {dt_acc*100:.2f}%')"
   ],
   "id": "8340c29c874727c9",
   "outputs": [
    {
     "name": "stdout",
     "output_type": "stream",
     "text": [
      "Random Forest Training Accuracy: 96.50%\n",
      "Gradient Boosting Training Accuracy: 73.75%\n",
      "Decision Tree Training Accuracy: 96.50%\n",
      "RF = 55.56% | GB = 66.67% | DT = 41.98%\n"
     ]
    }
   ],
   "execution_count": 22
  },
  {
   "metadata": {},
   "cell_type": "markdown",
   "source": [
    "### **Interpreting that output**\n",
    "There are definatly signs of overfitting which can be dealt with but at the end of the day I personally think that the NN is a better focus of time and effort with all the given results."
   ],
   "id": "248a50f7db6b9ddf"
  },
  {
   "metadata": {},
   "cell_type": "markdown",
   "source": [
    "### **Re-naming variables for easier understanding**\n",
    "Some of the variable names are not great and will be proven even worse with the next task. The code for re-naming is below."
   ],
   "id": "76bc822bb278bf53"
  },
  {
   "metadata": {
    "ExecuteTime": {
     "end_time": "2024-08-01T00:02:28.902812Z",
     "start_time": "2024-08-01T00:02:28.885637Z"
    }
   },
   "cell_type": "code",
   "source": [
    "maximizations_train, maximizations_val = layer1_X_train, layer1_X_val\n",
    "questionset_train, questionset_val = layer2_X_train, layer2_X_val\n",
    "\n",
    "y_train = [S1P1_train, S1P2_train, S2P1_train,\n",
    "            S2P2_train, S3P1_train, S3P2_train, S4P1_train,\n",
    "            S4P2_train, S5P1_train, S5P2_train]\n",
    "y_val = [S1P1_val, S1P2_val, S2P1_val,\n",
    "          S2P2_val, S3P1_val, S3P2_val, S4P1_val,\n",
    "          S4P2_val, S5P1_val, S5P2_val]"
   ],
   "id": "61eab2daa8456725",
   "outputs": [],
   "execution_count": 23
  },
  {
   "metadata": {},
   "cell_type": "markdown",
   "source": [
    "### **Making Comparisions**\n",
    "The maxamization inputs are calulated from the question set inputs. While it does work for them to be used together it would be interesting to see how they compare to each other. For this we will need to re-defind and build the NN. Below is the code for this. Moving forward the models will be built using a class. Below is the code for the class."
   ],
   "id": "ef889cd6d05c7786"
  }
 ],
 "metadata": {
  "kernelspec": {
   "display_name": "Python 3",
   "language": "python",
   "name": "python3"
  },
  "language_info": {
   "codemirror_mode": {
    "name": "ipython",
    "version": 2
   },
   "file_extension": ".py",
   "mimetype": "text/x-python",
   "name": "python",
   "nbconvert_exporter": "python",
   "pygments_lexer": "ipython2",
   "version": "2.7.6"
  }
 },
 "nbformat": 4,
 "nbformat_minor": 5
}
