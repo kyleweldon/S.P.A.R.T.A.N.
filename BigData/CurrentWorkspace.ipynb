{
 "cells": [
  {
   "metadata": {},
   "cell_type": "markdown",
   "source": [
    "### **By Kyle Weldon**\n",
    "Everything in this file is writen and maintained by Kyle Weldon."
   ],
   "id": "c13a7f046945b0a4"
  },
  {
   "metadata": {},
   "cell_type": "markdown",
   "source": [
    "### **Importing needed packages**\n",
    "Versions used are dysplayed below the code."
   ],
   "id": "e1a9a655294d43d6"
  },
  {
   "metadata": {
    "ExecuteTime": {
     "end_time": "2024-07-16T23:11:18.090382Z",
     "start_time": "2024-07-16T23:11:18.082227Z"
    }
   },
   "cell_type": "code",
   "source": [
    "import pip\n",
    "import os\n",
    "# Supress TensorFlow messages\n",
    "os.environ['TF_ENABLE_ONEDNN_OPTS'] = '0'\n",
    "os.environ['TF_CPP_MIN_LOG_LEVEL'] = '2'\n",
    "import numpy as np\n",
    "import pandas as pd\n",
    "\n",
    "import warnings\n",
    "# Supress a specific TensorFlow warning (Warning not to use a feature I do not use)\n",
    "warnings.filterwarnings('ignore', category=UserWarning, message=\"Your TensorFlow version is newer than 2.4.0 and so graph support has been removed in eager mode and some static graphs may not be supported. See PR #1483 for discussion.\")\n",
    "\n",
    "import tensorflow as tf\n",
    "from tensorflow.keras.layers import Input,Dense, Concatenate, Reshape\n",
    "from tensorflow.keras.models import Model\n",
    "from tensorflow.keras import layers\n",
    "from tensorflow.keras.utils import to_categorical\n",
    "from tensorflow.keras.regularizers import l2\n",
    "\n",
    "import shap\n",
    "\n",
    "import sklearn\n",
    "from sklearn.tree import DecisionTreeClassifier, plot_tree\n",
    "from sklearn.metrics import accuracy_score\n",
    "\n",
    "import simple_colors  \n",
    "\n",
    "print(simple_colors.red('VERSIONS USESD:', ['bold', 'underlined', 'italic']))\n",
    "print('pip version:', pip.__version__)\n",
    "print('NumPy version:', np.__version__)\n",
    "print('Pandas version:', pd.__version__)\n",
    "print('Scikit-learn version:', sklearn.__version__)\n",
    "print('Tensorflow version:', tf.__version__)\n",
    "print('shap version:', shap.__version__)"
   ],
   "id": "d7d3136effefefc",
   "outputs": [
    {
     "name": "stdout",
     "output_type": "stream",
     "text": [
      "\u001B[1;4;3;31mVERSIONS USESD:\u001B[0m\n",
      "pip version: 24.1.2\n",
      "NumPy version: 1.26.4\n",
      "Pandas version: 2.2.2\n",
      "Scikit-learn version: 1.5.1\n",
      "Tensorflow version: 2.17.0\n",
      "shap version: 0.46.0\n"
     ]
    }
   ],
   "execution_count": 46
  },
  {
   "metadata": {},
   "cell_type": "markdown",
   "source": [
    "### **Filtering raw data given:** \n",
    "\n",
    "The data that was given had incomplete data in a '.xlsx' file. The code below is what was used to remove all of the uncomplete samples and save the result as a '.csv' file."
   ],
   "id": "2a66ca22a3791e59"
  },
  {
   "metadata": {
    "ExecuteTime": {
     "end_time": "2024-07-16T23:09:10.076649Z",
     "start_time": "2024-07-16T23:09:08.727406Z"
    }
   },
   "cell_type": "code",
   "source": [
    "def filter_data(excel_file, output_csv):\n",
    "    try:\n",
    "        df = pd.read_excel(excel_file)\n",
    "    except FileNotFoundError:\n",
    "        print(f\"Error: The file '{excel_file}' was not found.\")\n",
    "        return\n",
    "    except Exception as e:\n",
    "        print(f\"Error occurred while reading '{excel_file}': {str(e)}\")\n",
    "        return\n",
    "\n",
    "    complete_rows = []\n",
    "    for index, row in df.iterrows():\n",
    "        if is_row_complete(row):\n",
    "            complete_rows.append(row)\n",
    "\n",
    "    cleaned_df = pd.DataFrame(complete_rows, columns=df.columns)\n",
    "\n",
    "    try:\n",
    "        cleaned_df.to_csv(output_csv, index=False)\n",
    "        print(f\"Cleaned data saved to '{output_csv}' successfully.\")\n",
    "        print(f\"There are {len(cleaned_df)} samples in the cleaned data.\")\n",
    "    except Exception as e:\n",
    "        print(f\"Error occurred while saving to '{output_csv}': {str(e)}\")\n",
    "        return\n",
    "\n",
    "def is_row_complete(row):\n",
    "    for cell in row:\n",
    "        if pd.isna(cell) or str(cell).strip() == '':\n",
    "            return False\n",
    "    return True\n",
    "\n",
    "filter_data('Data/RawData.xlsx', 'Data/FilteredData.csv')"
   ],
   "id": "a1c15883f79fde38",
   "outputs": [
    {
     "name": "stdout",
     "output_type": "stream",
     "text": [
      "Cleaned data saved to 'Data/FilteredData.csv' successfully.\n",
      "There are 881 samples in the cleaned data.\n"
     ]
    }
   ],
   "execution_count": 36
  },
  {
   "metadata": {},
   "cell_type": "markdown",
   "source": [
    "### **How to use the data:**\n",
    " There are 10 different 'senerios' or 'decisions' made by each sample (each sample represents one person). When making a decision they were able to choose between 0-10 based on how sure they are. This gives 11 possible choices per situation per sample. Given the fact there are only 881 samples attempting to accruetly predict 11 possible choices will likely not be accurate due to the limited data. To account for this The decisions are going to be split into three catagories. Anyone that chose a 0, 1, 2, or 3 will be a part of catagory one. Anyone that chose either 4, 5, or 6 will be a part of catagory two and anyone that chose 7, 8, 9, or 10 will be a part of catagory three. This gives a 4-3-4 catigorical split. Below is the code that completes this. It is also essential to remember to split the data into training and validating data. "
   ],
   "id": "87bec6f9bee166a3"
  },
  {
   "metadata": {
    "ExecuteTime": {
     "end_time": "2024-07-16T23:09:10.127867Z",
     "start_time": "2024-07-16T23:09:10.078709Z"
    }
   },
   "cell_type": "code",
   "source": [
    "df = pd.read_csv('Data/FilteredData.csv')\n",
    "# Column tites for all the output data\n",
    "output_columns = ['Scenario 1 ',\n",
    "                  'Unnamed: 40',\n",
    "                  'Scenario 2 ',\n",
    "                  'Unnamed: 42',\n",
    "                  'Scenario 3 ',\n",
    "                  'Unnamed: 44',\n",
    "                  'Scenario 4',\n",
    "                  'Unnamed: 46',\n",
    "                  'Scenario 5 ',\n",
    "                  'Unnamed: 48']\n",
    "\n",
    "def classiy_and_catigorize(column):\n",
    "    return to_categorical([0 if x <= 3 else 1 if x <= 6 else 2 for x in column])\n",
    "\n",
    "columns = df[output_columns].to_numpy().T # The 'T' is to transpose the array\n",
    "\n",
    "S1P1, S1P2, S2P1, S2P2, S3P1, S3P2, S4P1, S4P2, S5P1, S5P2 = [classiy_and_catigorize(col) for col in columns]\n",
    "all_situations = [S1P1, S1P2, S2P1, S2P2, S3P1, S3P2, S4P1, S4P2, S5P1, S5P2]\n",
    "\n",
    "for situation in all_situations:\n",
    "    print(situation.shape)"
   ],
   "id": "50f878445ec38803",
   "outputs": [
    {
     "name": "stdout",
     "output_type": "stream",
     "text": [
      "(881, 3)\n",
      "(881, 3)\n",
      "(881, 3)\n",
      "(881, 3)\n",
      "(881, 3)\n",
      "(881, 3)\n",
      "(881, 3)\n",
      "(881, 3)\n",
      "(881, 3)\n",
      "(881, 3)\n"
     ]
    }
   ],
   "execution_count": 37
  },
  {
   "metadata": {},
   "cell_type": "markdown",
   "source": [
    "### **Splitting into training and validating:**\n",
    "Before this data can be used to train a model it first needs to be split into traning and validating data. Below is the code that does that. The first 800 samples (people) are going to be used train the model while the last 81 are going to be for validation."
   ],
   "id": "bb8c17bd9ba3e59a"
  },
  {
   "metadata": {
    "ExecuteTime": {
     "end_time": "2024-07-16T23:09:10.142057Z",
     "start_time": "2024-07-16T23:09:10.128883Z"
    }
   },
   "cell_type": "code",
   "source": [
    "def split(array):\n",
    "    return array[:800], array[800:]\n",
    "\n",
    "S1P1_train, S1P1_val = split(S1P1)\n",
    "S1P2_train, S1P2_val = split(S1P2)\n",
    "S2P1_train, S2P1_val = split(S2P1)\n",
    "S2P2_train, S2P2_val = split(S2P2)\n",
    "S3P1_train, S3P1_val = split(S3P1)\n",
    "S3P2_train, S3P2_val = split(S3P2)\n",
    "S4P1_train, S4P1_val = split(S4P1)\n",
    "S4P2_train, S4P2_val = split(S4P2)\n",
    "S5P1_train, S5P1_val = split(S5P1)\n",
    "S5P2_train, S5P2_val = split(S5P2)\n",
    "\n",
    "print(f\"S1P1 training shape: {S1P1_train.shape}\")\n",
    "print(f\"Validation set length: {len(S1P1_val)}\")"
   ],
   "id": "3d8f9cfa5328e181",
   "outputs": [
    {
     "name": "stdout",
     "output_type": "stream",
     "text": [
      "S1P1 training shape: (800, 3)\n",
      "Validation set length: 81\n"
     ]
    }
   ],
   "execution_count": 38
  },
  {
   "metadata": {},
   "cell_type": "markdown",
   "source": [
    "### **Prepare input data:**\n",
    "Now that the output data is fully prepared and ready for training it is time to prepare the coresponding input data. Simalar to the multiple outputs there our also miltiple inputs. Below is the code to complete this."
   ],
   "id": "ea27990777d9159a"
  },
  {
   "metadata": {
    "ExecuteTime": {
     "end_time": "2024-07-16T23:09:10.158171Z",
     "start_time": "2024-07-16T23:09:10.144185Z"
    }
   },
   "cell_type": "code",
   "source": [
    "# Column titles used for this input set\n",
    "input_columns1 = ['MAx1', 'Max2', 'Max3']\n",
    "input_columns2 = ['Q105_1','Q105_2','Q105_3','Q105_4','Q105_5','Q105_6','Q105_7','Q105_8','Q105_9','Q105_10','Q105_11','Q105_12','Q105_13','Q105_14','Q105_15','Q105_16','Q105_17','Q105_18','Q105_19','Q105_20','Q105_21','Q105_22','Q105_23','Q105_24','Q105_25','Q105_26','Q105_27','Q105_28','Q105_29','Q105_30','Q105_31','Q105_32','Q105_33','Q105_34']\n",
    "\n",
    "input_df1 = df[input_columns1]\n",
    "input1_X_values = input_df1.to_numpy()\n",
    "input_df2 = df[input_columns2]\n",
    "input2_X_values = input_df2.to_numpy()\n",
    "\n",
    "layer1_X_train = input1_X_values[:800]\n",
    "layer1_X_val = input1_X_values[800:]\n",
    "layer2_X_train = input2_X_values[:800]\n",
    "layer2_X_val = input2_X_values[800:]\n",
    "\n",
    "print(f\"Layer1 training shape: {layer1_X_train.shape} -> validating shape: {layer1_X_val.shape}\")\n",
    "print(f\"Layer2 training shape: {layer2_X_train.shape} -> validating shape: {layer2_X_val.shape}\")"
   ],
   "id": "ec3869e379f057ae",
   "outputs": [
    {
     "name": "stdout",
     "output_type": "stream",
     "text": [
      "Layer1 training shape: (800, 3) -> validating shape: (81, 3)\n",
      "Layer2 training shape: (800, 34) -> validating shape: (81, 34)\n"
     ]
    }
   ],
   "execution_count": 39
  },
  {
   "metadata": {},
   "cell_type": "markdown",
   "source": [
    "### **Building model archetecture:**\n",
    "First instinct is build a deep neural network. Because this initial model will predict all 10 different decisions for each sample a multi-output model is need. There was some adjustment needed to the output layers so they are the correct shape. The functional API from Keras is used for this."
   ],
   "id": "26fd5ebda408f77d"
  },
  {
   "metadata": {
    "ExecuteTime": {
     "end_time": "2024-07-16T23:09:10.498110Z",
     "start_time": "2024-07-16T23:09:10.160183Z"
    }
   },
   "cell_type": "code",
   "source": [
    "input1 = Input(shape=(3,), name='InputLayer1')\n",
    "\n",
    "hidden1_input1 = Dense(256, activation='relu', kernel_regularizer=l2(0.01), name='DenseOne_Input1')(input1)\n",
    "hidden2_input1 = Dense(128, activation='relu', kernel_regularizer=l2(0.01), name='DenseTwo_Input1')(hidden1_input1)\n",
    "hidden3_input1 = Dense(64, activation='relu', kernel_regularizer=l2(0.01), name='DenseThree_Input1')(hidden2_input1)\n",
    "hidden4_input1 = Dense(32, activation='relu', kernel_regularizer=l2(0.01), name='DenseFour_Input1')(hidden3_input1)\n",
    "hidden5_input1 = Dense(16, activation='relu', kernel_regularizer=l2(0.01), name='DenseFive_Input1')(hidden4_input1)\n",
    "\n",
    "input2 = Input(shape=(34,), name='InputLayer2')\n",
    "\n",
    "hidden1_input2 = Dense(256, activation='relu', kernel_regularizer=l2(0.01), name='DenseOne_Input2')(input2)\n",
    "hidden2_input2 = Dense(128, activation='relu', kernel_regularizer=l2(0.01), name='DenseTwo_Input2')(hidden1_input2)\n",
    "hidden3_input2 = Dense(64, activation='relu', kernel_regularizer=l2(0.01), name='DenseThree_Input2')(hidden2_input2)\n",
    "hidden4_input2 = Dense(32, activation='relu', kernel_regularizer=l2(0.01), name='DenseFour_Input2')(hidden3_input2)\n",
    "hidden5_input2 = Dense(16, activation='relu', kernel_regularizer=l2(0.01), name='DenseFive_Input2')(hidden4_input2)\n",
    "\n",
    "concatenated = Concatenate(name='ConcatinatedInput')([hidden5_input1, hidden5_input2])\n",
    "\n",
    "def create_output_layer(name, input_layer):\n",
    "    return Dense(3, activation='softmax', name=name)(input_layer)\n",
    "def itterate_situations_and_parts(num_itts=10):\n",
    "    scenerio = 1\n",
    "    sittos = []\n",
    "    for i in range(num_itts):\n",
    "        part = 1 if i % 2 == 0 else 2\n",
    "        sittos.append(f\"S{scenerio}P{part}\")\n",
    "        if part == 2: scenerio += 1\n",
    "    return sittos\n",
    "\n",
    "outputs = [create_output_layer(name, concatenated) for name in itterate_situations_and_parts()]\n",
    "\n",
    "model = Model(inputs=[input1, input2], outputs=outputs, name='CustomizedDeepNeuralNetwork')\n",
    "\n",
    "metrics = ['accuracy'] * 10  \n",
    "\n",
    "model.compile(loss='categorical_crossentropy',\n",
    "              optimizer='adam',\n",
    "              metrics=metrics)\n",
    "\n",
    "print(model.summary())"
   ],
   "id": "dbf81f727d4d6890",
   "outputs": [
    {
     "data": {
      "text/plain": [
       "\u001B[1mModel: \"CustomizedDeepNeuralNetwork\"\u001B[0m\n"
      ],
      "text/html": [
       "<pre style=\"white-space:pre;overflow-x:auto;line-height:normal;font-family:Menlo,'DejaVu Sans Mono',consolas,'Courier New',monospace\"><span style=\"font-weight: bold\">Model: \"CustomizedDeepNeuralNetwork\"</span>\n",
       "</pre>\n"
      ]
     },
     "metadata": {},
     "output_type": "display_data"
    },
    {
     "data": {
      "text/plain": [
       "┏━━━━━━━━━━━━━━━━━━━━━┳━━━━━━━━━━━━━━━━━━━┳━━━━━━━━━━━━┳━━━━━━━━━━━━━━━━━━━┓\n",
       "┃\u001B[1m \u001B[0m\u001B[1mLayer (type)       \u001B[0m\u001B[1m \u001B[0m┃\u001B[1m \u001B[0m\u001B[1mOutput Shape     \u001B[0m\u001B[1m \u001B[0m┃\u001B[1m \u001B[0m\u001B[1m   Param #\u001B[0m\u001B[1m \u001B[0m┃\u001B[1m \u001B[0m\u001B[1mConnected to     \u001B[0m\u001B[1m \u001B[0m┃\n",
       "┡━━━━━━━━━━━━━━━━━━━━━╇━━━━━━━━━━━━━━━━━━━╇━━━━━━━━━━━━╇━━━━━━━━━━━━━━━━━━━┩\n",
       "│ InputLayer1         │ (\u001B[38;5;45mNone\u001B[0m, \u001B[38;5;34m3\u001B[0m)         │          \u001B[38;5;34m0\u001B[0m │ -                 │\n",
       "│ (\u001B[38;5;33mInputLayer\u001B[0m)        │                   │            │                   │\n",
       "├─────────────────────┼───────────────────┼────────────┼───────────────────┤\n",
       "│ InputLayer2         │ (\u001B[38;5;45mNone\u001B[0m, \u001B[38;5;34m34\u001B[0m)        │          \u001B[38;5;34m0\u001B[0m │ -                 │\n",
       "│ (\u001B[38;5;33mInputLayer\u001B[0m)        │                   │            │                   │\n",
       "├─────────────────────┼───────────────────┼────────────┼───────────────────┤\n",
       "│ DenseOne_Input1     │ (\u001B[38;5;45mNone\u001B[0m, \u001B[38;5;34m256\u001B[0m)       │      \u001B[38;5;34m1,024\u001B[0m │ InputLayer1[\u001B[38;5;34m0\u001B[0m][\u001B[38;5;34m0\u001B[0m] │\n",
       "│ (\u001B[38;5;33mDense\u001B[0m)             │                   │            │                   │\n",
       "├─────────────────────┼───────────────────┼────────────┼───────────────────┤\n",
       "│ DenseOne_Input2     │ (\u001B[38;5;45mNone\u001B[0m, \u001B[38;5;34m256\u001B[0m)       │      \u001B[38;5;34m8,960\u001B[0m │ InputLayer2[\u001B[38;5;34m0\u001B[0m][\u001B[38;5;34m0\u001B[0m] │\n",
       "│ (\u001B[38;5;33mDense\u001B[0m)             │                   │            │                   │\n",
       "├─────────────────────┼───────────────────┼────────────┼───────────────────┤\n",
       "│ DenseTwo_Input1     │ (\u001B[38;5;45mNone\u001B[0m, \u001B[38;5;34m128\u001B[0m)       │     \u001B[38;5;34m32,896\u001B[0m │ DenseOne_Input1[\u001B[38;5;34m…\u001B[0m │\n",
       "│ (\u001B[38;5;33mDense\u001B[0m)             │                   │            │                   │\n",
       "├─────────────────────┼───────────────────┼────────────┼───────────────────┤\n",
       "│ DenseTwo_Input2     │ (\u001B[38;5;45mNone\u001B[0m, \u001B[38;5;34m128\u001B[0m)       │     \u001B[38;5;34m32,896\u001B[0m │ DenseOne_Input2[\u001B[38;5;34m…\u001B[0m │\n",
       "│ (\u001B[38;5;33mDense\u001B[0m)             │                   │            │                   │\n",
       "├─────────────────────┼───────────────────┼────────────┼───────────────────┤\n",
       "│ DenseThree_Input1   │ (\u001B[38;5;45mNone\u001B[0m, \u001B[38;5;34m64\u001B[0m)        │      \u001B[38;5;34m8,256\u001B[0m │ DenseTwo_Input1[\u001B[38;5;34m…\u001B[0m │\n",
       "│ (\u001B[38;5;33mDense\u001B[0m)             │                   │            │                   │\n",
       "├─────────────────────┼───────────────────┼────────────┼───────────────────┤\n",
       "│ DenseThree_Input2   │ (\u001B[38;5;45mNone\u001B[0m, \u001B[38;5;34m64\u001B[0m)        │      \u001B[38;5;34m8,256\u001B[0m │ DenseTwo_Input2[\u001B[38;5;34m…\u001B[0m │\n",
       "│ (\u001B[38;5;33mDense\u001B[0m)             │                   │            │                   │\n",
       "├─────────────────────┼───────────────────┼────────────┼───────────────────┤\n",
       "│ DenseFour_Input1    │ (\u001B[38;5;45mNone\u001B[0m, \u001B[38;5;34m32\u001B[0m)        │      \u001B[38;5;34m2,080\u001B[0m │ DenseThree_Input… │\n",
       "│ (\u001B[38;5;33mDense\u001B[0m)             │                   │            │                   │\n",
       "├─────────────────────┼───────────────────┼────────────┼───────────────────┤\n",
       "│ DenseFour_Input2    │ (\u001B[38;5;45mNone\u001B[0m, \u001B[38;5;34m32\u001B[0m)        │      \u001B[38;5;34m2,080\u001B[0m │ DenseThree_Input… │\n",
       "│ (\u001B[38;5;33mDense\u001B[0m)             │                   │            │                   │\n",
       "├─────────────────────┼───────────────────┼────────────┼───────────────────┤\n",
       "│ DenseFive_Input1    │ (\u001B[38;5;45mNone\u001B[0m, \u001B[38;5;34m16\u001B[0m)        │        \u001B[38;5;34m528\u001B[0m │ DenseFour_Input1… │\n",
       "│ (\u001B[38;5;33mDense\u001B[0m)             │                   │            │                   │\n",
       "├─────────────────────┼───────────────────┼────────────┼───────────────────┤\n",
       "│ DenseFive_Input2    │ (\u001B[38;5;45mNone\u001B[0m, \u001B[38;5;34m16\u001B[0m)        │        \u001B[38;5;34m528\u001B[0m │ DenseFour_Input2… │\n",
       "│ (\u001B[38;5;33mDense\u001B[0m)             │                   │            │                   │\n",
       "├─────────────────────┼───────────────────┼────────────┼───────────────────┤\n",
       "│ ConcatinatedInput   │ (\u001B[38;5;45mNone\u001B[0m, \u001B[38;5;34m32\u001B[0m)        │          \u001B[38;5;34m0\u001B[0m │ DenseFive_Input1… │\n",
       "│ (\u001B[38;5;33mConcatenate\u001B[0m)       │                   │            │ DenseFive_Input2… │\n",
       "├─────────────────────┼───────────────────┼────────────┼───────────────────┤\n",
       "│ S1P1 (\u001B[38;5;33mDense\u001B[0m)        │ (\u001B[38;5;45mNone\u001B[0m, \u001B[38;5;34m3\u001B[0m)         │         \u001B[38;5;34m99\u001B[0m │ ConcatinatedInpu… │\n",
       "├─────────────────────┼───────────────────┼────────────┼───────────────────┤\n",
       "│ S1P2 (\u001B[38;5;33mDense\u001B[0m)        │ (\u001B[38;5;45mNone\u001B[0m, \u001B[38;5;34m3\u001B[0m)         │         \u001B[38;5;34m99\u001B[0m │ ConcatinatedInpu… │\n",
       "├─────────────────────┼───────────────────┼────────────┼───────────────────┤\n",
       "│ S2P1 (\u001B[38;5;33mDense\u001B[0m)        │ (\u001B[38;5;45mNone\u001B[0m, \u001B[38;5;34m3\u001B[0m)         │         \u001B[38;5;34m99\u001B[0m │ ConcatinatedInpu… │\n",
       "├─────────────────────┼───────────────────┼────────────┼───────────────────┤\n",
       "│ S2P2 (\u001B[38;5;33mDense\u001B[0m)        │ (\u001B[38;5;45mNone\u001B[0m, \u001B[38;5;34m3\u001B[0m)         │         \u001B[38;5;34m99\u001B[0m │ ConcatinatedInpu… │\n",
       "├─────────────────────┼───────────────────┼────────────┼───────────────────┤\n",
       "│ S3P1 (\u001B[38;5;33mDense\u001B[0m)        │ (\u001B[38;5;45mNone\u001B[0m, \u001B[38;5;34m3\u001B[0m)         │         \u001B[38;5;34m99\u001B[0m │ ConcatinatedInpu… │\n",
       "├─────────────────────┼───────────────────┼────────────┼───────────────────┤\n",
       "│ S3P2 (\u001B[38;5;33mDense\u001B[0m)        │ (\u001B[38;5;45mNone\u001B[0m, \u001B[38;5;34m3\u001B[0m)         │         \u001B[38;5;34m99\u001B[0m │ ConcatinatedInpu… │\n",
       "├─────────────────────┼───────────────────┼────────────┼───────────────────┤\n",
       "│ S4P1 (\u001B[38;5;33mDense\u001B[0m)        │ (\u001B[38;5;45mNone\u001B[0m, \u001B[38;5;34m3\u001B[0m)         │         \u001B[38;5;34m99\u001B[0m │ ConcatinatedInpu… │\n",
       "├─────────────────────┼───────────────────┼────────────┼───────────────────┤\n",
       "│ S4P2 (\u001B[38;5;33mDense\u001B[0m)        │ (\u001B[38;5;45mNone\u001B[0m, \u001B[38;5;34m3\u001B[0m)         │         \u001B[38;5;34m99\u001B[0m │ ConcatinatedInpu… │\n",
       "├─────────────────────┼───────────────────┼────────────┼───────────────────┤\n",
       "│ S5P1 (\u001B[38;5;33mDense\u001B[0m)        │ (\u001B[38;5;45mNone\u001B[0m, \u001B[38;5;34m3\u001B[0m)         │         \u001B[38;5;34m99\u001B[0m │ ConcatinatedInpu… │\n",
       "├─────────────────────┼───────────────────┼────────────┼───────────────────┤\n",
       "│ S5P2 (\u001B[38;5;33mDense\u001B[0m)        │ (\u001B[38;5;45mNone\u001B[0m, \u001B[38;5;34m3\u001B[0m)         │         \u001B[38;5;34m99\u001B[0m │ ConcatinatedInpu… │\n",
       "└─────────────────────┴───────────────────┴────────────┴───────────────────┘\n"
      ],
      "text/html": [
       "<pre style=\"white-space:pre;overflow-x:auto;line-height:normal;font-family:Menlo,'DejaVu Sans Mono',consolas,'Courier New',monospace\">┏━━━━━━━━━━━━━━━━━━━━━┳━━━━━━━━━━━━━━━━━━━┳━━━━━━━━━━━━┳━━━━━━━━━━━━━━━━━━━┓\n",
       "┃<span style=\"font-weight: bold\"> Layer (type)        </span>┃<span style=\"font-weight: bold\"> Output Shape      </span>┃<span style=\"font-weight: bold\">    Param # </span>┃<span style=\"font-weight: bold\"> Connected to      </span>┃\n",
       "┡━━━━━━━━━━━━━━━━━━━━━╇━━━━━━━━━━━━━━━━━━━╇━━━━━━━━━━━━╇━━━━━━━━━━━━━━━━━━━┩\n",
       "│ InputLayer1         │ (<span style=\"color: #00d7ff; text-decoration-color: #00d7ff\">None</span>, <span style=\"color: #00af00; text-decoration-color: #00af00\">3</span>)         │          <span style=\"color: #00af00; text-decoration-color: #00af00\">0</span> │ -                 │\n",
       "│ (<span style=\"color: #0087ff; text-decoration-color: #0087ff\">InputLayer</span>)        │                   │            │                   │\n",
       "├─────────────────────┼───────────────────┼────────────┼───────────────────┤\n",
       "│ InputLayer2         │ (<span style=\"color: #00d7ff; text-decoration-color: #00d7ff\">None</span>, <span style=\"color: #00af00; text-decoration-color: #00af00\">34</span>)        │          <span style=\"color: #00af00; text-decoration-color: #00af00\">0</span> │ -                 │\n",
       "│ (<span style=\"color: #0087ff; text-decoration-color: #0087ff\">InputLayer</span>)        │                   │            │                   │\n",
       "├─────────────────────┼───────────────────┼────────────┼───────────────────┤\n",
       "│ DenseOne_Input1     │ (<span style=\"color: #00d7ff; text-decoration-color: #00d7ff\">None</span>, <span style=\"color: #00af00; text-decoration-color: #00af00\">256</span>)       │      <span style=\"color: #00af00; text-decoration-color: #00af00\">1,024</span> │ InputLayer1[<span style=\"color: #00af00; text-decoration-color: #00af00\">0</span>][<span style=\"color: #00af00; text-decoration-color: #00af00\">0</span>] │\n",
       "│ (<span style=\"color: #0087ff; text-decoration-color: #0087ff\">Dense</span>)             │                   │            │                   │\n",
       "├─────────────────────┼───────────────────┼────────────┼───────────────────┤\n",
       "│ DenseOne_Input2     │ (<span style=\"color: #00d7ff; text-decoration-color: #00d7ff\">None</span>, <span style=\"color: #00af00; text-decoration-color: #00af00\">256</span>)       │      <span style=\"color: #00af00; text-decoration-color: #00af00\">8,960</span> │ InputLayer2[<span style=\"color: #00af00; text-decoration-color: #00af00\">0</span>][<span style=\"color: #00af00; text-decoration-color: #00af00\">0</span>] │\n",
       "│ (<span style=\"color: #0087ff; text-decoration-color: #0087ff\">Dense</span>)             │                   │            │                   │\n",
       "├─────────────────────┼───────────────────┼────────────┼───────────────────┤\n",
       "│ DenseTwo_Input1     │ (<span style=\"color: #00d7ff; text-decoration-color: #00d7ff\">None</span>, <span style=\"color: #00af00; text-decoration-color: #00af00\">128</span>)       │     <span style=\"color: #00af00; text-decoration-color: #00af00\">32,896</span> │ DenseOne_Input1[<span style=\"color: #00af00; text-decoration-color: #00af00\">…</span> │\n",
       "│ (<span style=\"color: #0087ff; text-decoration-color: #0087ff\">Dense</span>)             │                   │            │                   │\n",
       "├─────────────────────┼───────────────────┼────────────┼───────────────────┤\n",
       "│ DenseTwo_Input2     │ (<span style=\"color: #00d7ff; text-decoration-color: #00d7ff\">None</span>, <span style=\"color: #00af00; text-decoration-color: #00af00\">128</span>)       │     <span style=\"color: #00af00; text-decoration-color: #00af00\">32,896</span> │ DenseOne_Input2[<span style=\"color: #00af00; text-decoration-color: #00af00\">…</span> │\n",
       "│ (<span style=\"color: #0087ff; text-decoration-color: #0087ff\">Dense</span>)             │                   │            │                   │\n",
       "├─────────────────────┼───────────────────┼────────────┼───────────────────┤\n",
       "│ DenseThree_Input1   │ (<span style=\"color: #00d7ff; text-decoration-color: #00d7ff\">None</span>, <span style=\"color: #00af00; text-decoration-color: #00af00\">64</span>)        │      <span style=\"color: #00af00; text-decoration-color: #00af00\">8,256</span> │ DenseTwo_Input1[<span style=\"color: #00af00; text-decoration-color: #00af00\">…</span> │\n",
       "│ (<span style=\"color: #0087ff; text-decoration-color: #0087ff\">Dense</span>)             │                   │            │                   │\n",
       "├─────────────────────┼───────────────────┼────────────┼───────────────────┤\n",
       "│ DenseThree_Input2   │ (<span style=\"color: #00d7ff; text-decoration-color: #00d7ff\">None</span>, <span style=\"color: #00af00; text-decoration-color: #00af00\">64</span>)        │      <span style=\"color: #00af00; text-decoration-color: #00af00\">8,256</span> │ DenseTwo_Input2[<span style=\"color: #00af00; text-decoration-color: #00af00\">…</span> │\n",
       "│ (<span style=\"color: #0087ff; text-decoration-color: #0087ff\">Dense</span>)             │                   │            │                   │\n",
       "├─────────────────────┼───────────────────┼────────────┼───────────────────┤\n",
       "│ DenseFour_Input1    │ (<span style=\"color: #00d7ff; text-decoration-color: #00d7ff\">None</span>, <span style=\"color: #00af00; text-decoration-color: #00af00\">32</span>)        │      <span style=\"color: #00af00; text-decoration-color: #00af00\">2,080</span> │ DenseThree_Input… │\n",
       "│ (<span style=\"color: #0087ff; text-decoration-color: #0087ff\">Dense</span>)             │                   │            │                   │\n",
       "├─────────────────────┼───────────────────┼────────────┼───────────────────┤\n",
       "│ DenseFour_Input2    │ (<span style=\"color: #00d7ff; text-decoration-color: #00d7ff\">None</span>, <span style=\"color: #00af00; text-decoration-color: #00af00\">32</span>)        │      <span style=\"color: #00af00; text-decoration-color: #00af00\">2,080</span> │ DenseThree_Input… │\n",
       "│ (<span style=\"color: #0087ff; text-decoration-color: #0087ff\">Dense</span>)             │                   │            │                   │\n",
       "├─────────────────────┼───────────────────┼────────────┼───────────────────┤\n",
       "│ DenseFive_Input1    │ (<span style=\"color: #00d7ff; text-decoration-color: #00d7ff\">None</span>, <span style=\"color: #00af00; text-decoration-color: #00af00\">16</span>)        │        <span style=\"color: #00af00; text-decoration-color: #00af00\">528</span> │ DenseFour_Input1… │\n",
       "│ (<span style=\"color: #0087ff; text-decoration-color: #0087ff\">Dense</span>)             │                   │            │                   │\n",
       "├─────────────────────┼───────────────────┼────────────┼───────────────────┤\n",
       "│ DenseFive_Input2    │ (<span style=\"color: #00d7ff; text-decoration-color: #00d7ff\">None</span>, <span style=\"color: #00af00; text-decoration-color: #00af00\">16</span>)        │        <span style=\"color: #00af00; text-decoration-color: #00af00\">528</span> │ DenseFour_Input2… │\n",
       "│ (<span style=\"color: #0087ff; text-decoration-color: #0087ff\">Dense</span>)             │                   │            │                   │\n",
       "├─────────────────────┼───────────────────┼────────────┼───────────────────┤\n",
       "│ ConcatinatedInput   │ (<span style=\"color: #00d7ff; text-decoration-color: #00d7ff\">None</span>, <span style=\"color: #00af00; text-decoration-color: #00af00\">32</span>)        │          <span style=\"color: #00af00; text-decoration-color: #00af00\">0</span> │ DenseFive_Input1… │\n",
       "│ (<span style=\"color: #0087ff; text-decoration-color: #0087ff\">Concatenate</span>)       │                   │            │ DenseFive_Input2… │\n",
       "├─────────────────────┼───────────────────┼────────────┼───────────────────┤\n",
       "│ S1P1 (<span style=\"color: #0087ff; text-decoration-color: #0087ff\">Dense</span>)        │ (<span style=\"color: #00d7ff; text-decoration-color: #00d7ff\">None</span>, <span style=\"color: #00af00; text-decoration-color: #00af00\">3</span>)         │         <span style=\"color: #00af00; text-decoration-color: #00af00\">99</span> │ ConcatinatedInpu… │\n",
       "├─────────────────────┼───────────────────┼────────────┼───────────────────┤\n",
       "│ S1P2 (<span style=\"color: #0087ff; text-decoration-color: #0087ff\">Dense</span>)        │ (<span style=\"color: #00d7ff; text-decoration-color: #00d7ff\">None</span>, <span style=\"color: #00af00; text-decoration-color: #00af00\">3</span>)         │         <span style=\"color: #00af00; text-decoration-color: #00af00\">99</span> │ ConcatinatedInpu… │\n",
       "├─────────────────────┼───────────────────┼────────────┼───────────────────┤\n",
       "│ S2P1 (<span style=\"color: #0087ff; text-decoration-color: #0087ff\">Dense</span>)        │ (<span style=\"color: #00d7ff; text-decoration-color: #00d7ff\">None</span>, <span style=\"color: #00af00; text-decoration-color: #00af00\">3</span>)         │         <span style=\"color: #00af00; text-decoration-color: #00af00\">99</span> │ ConcatinatedInpu… │\n",
       "├─────────────────────┼───────────────────┼────────────┼───────────────────┤\n",
       "│ S2P2 (<span style=\"color: #0087ff; text-decoration-color: #0087ff\">Dense</span>)        │ (<span style=\"color: #00d7ff; text-decoration-color: #00d7ff\">None</span>, <span style=\"color: #00af00; text-decoration-color: #00af00\">3</span>)         │         <span style=\"color: #00af00; text-decoration-color: #00af00\">99</span> │ ConcatinatedInpu… │\n",
       "├─────────────────────┼───────────────────┼────────────┼───────────────────┤\n",
       "│ S3P1 (<span style=\"color: #0087ff; text-decoration-color: #0087ff\">Dense</span>)        │ (<span style=\"color: #00d7ff; text-decoration-color: #00d7ff\">None</span>, <span style=\"color: #00af00; text-decoration-color: #00af00\">3</span>)         │         <span style=\"color: #00af00; text-decoration-color: #00af00\">99</span> │ ConcatinatedInpu… │\n",
       "├─────────────────────┼───────────────────┼────────────┼───────────────────┤\n",
       "│ S3P2 (<span style=\"color: #0087ff; text-decoration-color: #0087ff\">Dense</span>)        │ (<span style=\"color: #00d7ff; text-decoration-color: #00d7ff\">None</span>, <span style=\"color: #00af00; text-decoration-color: #00af00\">3</span>)         │         <span style=\"color: #00af00; text-decoration-color: #00af00\">99</span> │ ConcatinatedInpu… │\n",
       "├─────────────────────┼───────────────────┼────────────┼───────────────────┤\n",
       "│ S4P1 (<span style=\"color: #0087ff; text-decoration-color: #0087ff\">Dense</span>)        │ (<span style=\"color: #00d7ff; text-decoration-color: #00d7ff\">None</span>, <span style=\"color: #00af00; text-decoration-color: #00af00\">3</span>)         │         <span style=\"color: #00af00; text-decoration-color: #00af00\">99</span> │ ConcatinatedInpu… │\n",
       "├─────────────────────┼───────────────────┼────────────┼───────────────────┤\n",
       "│ S4P2 (<span style=\"color: #0087ff; text-decoration-color: #0087ff\">Dense</span>)        │ (<span style=\"color: #00d7ff; text-decoration-color: #00d7ff\">None</span>, <span style=\"color: #00af00; text-decoration-color: #00af00\">3</span>)         │         <span style=\"color: #00af00; text-decoration-color: #00af00\">99</span> │ ConcatinatedInpu… │\n",
       "├─────────────────────┼───────────────────┼────────────┼───────────────────┤\n",
       "│ S5P1 (<span style=\"color: #0087ff; text-decoration-color: #0087ff\">Dense</span>)        │ (<span style=\"color: #00d7ff; text-decoration-color: #00d7ff\">None</span>, <span style=\"color: #00af00; text-decoration-color: #00af00\">3</span>)         │         <span style=\"color: #00af00; text-decoration-color: #00af00\">99</span> │ ConcatinatedInpu… │\n",
       "├─────────────────────┼───────────────────┼────────────┼───────────────────┤\n",
       "│ S5P2 (<span style=\"color: #0087ff; text-decoration-color: #0087ff\">Dense</span>)        │ (<span style=\"color: #00d7ff; text-decoration-color: #00d7ff\">None</span>, <span style=\"color: #00af00; text-decoration-color: #00af00\">3</span>)         │         <span style=\"color: #00af00; text-decoration-color: #00af00\">99</span> │ ConcatinatedInpu… │\n",
       "└─────────────────────┴───────────────────┴────────────┴───────────────────┘\n",
       "</pre>\n"
      ]
     },
     "metadata": {},
     "output_type": "display_data"
    },
    {
     "data": {
      "text/plain": [
       "\u001B[1m Total params: \u001B[0m\u001B[38;5;34m98,494\u001B[0m (384.74 KB)\n"
      ],
      "text/html": [
       "<pre style=\"white-space:pre;overflow-x:auto;line-height:normal;font-family:Menlo,'DejaVu Sans Mono',consolas,'Courier New',monospace\"><span style=\"font-weight: bold\"> Total params: </span><span style=\"color: #00af00; text-decoration-color: #00af00\">98,494</span> (384.74 KB)\n",
       "</pre>\n"
      ]
     },
     "metadata": {},
     "output_type": "display_data"
    },
    {
     "data": {
      "text/plain": [
       "\u001B[1m Trainable params: \u001B[0m\u001B[38;5;34m98,494\u001B[0m (384.74 KB)\n"
      ],
      "text/html": [
       "<pre style=\"white-space:pre;overflow-x:auto;line-height:normal;font-family:Menlo,'DejaVu Sans Mono',consolas,'Courier New',monospace\"><span style=\"font-weight: bold\"> Trainable params: </span><span style=\"color: #00af00; text-decoration-color: #00af00\">98,494</span> (384.74 KB)\n",
       "</pre>\n"
      ]
     },
     "metadata": {},
     "output_type": "display_data"
    },
    {
     "data": {
      "text/plain": [
       "\u001B[1m Non-trainable params: \u001B[0m\u001B[38;5;34m0\u001B[0m (0.00 B)\n"
      ],
      "text/html": [
       "<pre style=\"white-space:pre;overflow-x:auto;line-height:normal;font-family:Menlo,'DejaVu Sans Mono',consolas,'Courier New',monospace\"><span style=\"font-weight: bold\"> Non-trainable params: </span><span style=\"color: #00af00; text-decoration-color: #00af00\">0</span> (0.00 B)\n",
       "</pre>\n"
      ]
     },
     "metadata": {},
     "output_type": "display_data"
    },
    {
     "name": "stdout",
     "output_type": "stream",
     "text": [
      "None\n"
     ]
    }
   ],
   "execution_count": 40
  },
  {
   "metadata": {},
   "cell_type": "markdown",
   "source": [
    "### **Training the model:**\n",
    "Now that the model has been built and compiled it is ready for the training data that has been previously prepared. Below is the code for training the model."
   ],
   "id": "89638488cad30d29"
  },
  {
   "metadata": {
    "ExecuteTime": {
     "end_time": "2024-07-16T23:09:21.195791Z",
     "start_time": "2024-07-16T23:09:10.499117Z"
    }
   },
   "cell_type": "code",
   "source": [
    "model.fit([layer1_X_train, layer2_X_train], [S1P1_train, S1P2_train, S2P1_train,\n",
    "                    S2P2_train, S3P1_train, S3P2_train, S4P1_train,\n",
    "                    S4P2_train, S5P1_train, S5P2_train],\n",
    "          epochs=10,\n",
    "          batch_size=32,\n",
    "          validation_data=([layer1_X_val, layer2_X_val], [S1P1_val, S1P2_val, S2P1_val,\n",
    "                                                          S2P2_val, S3P1_val, S3P2_val, S4P1_val,\n",
    "                                                          S4P2_val, S5P1_val, S5P2_val]))"
   ],
   "id": "a0ca90e787428e3b",
   "outputs": [
    {
     "name": "stdout",
     "output_type": "stream",
     "text": [
      "Epoch 1/10\n",
      "\u001B[1m25/25\u001B[0m \u001B[32m━━━━━━━━━━━━━━━━━━━━\u001B[0m\u001B[37m\u001B[0m \u001B[1m9s\u001B[0m 40ms/step - S1P1_accuracy: 0.5817 - S1P2_accuracy: 0.1692 - S2P1_accuracy: 0.7988 - S2P2_accuracy: 0.6214 - S3P1_accuracy: 0.4405 - S3P2_accuracy: 0.4558 - S4P1_accuracy: 0.8600 - S4P2_accuracy: 0.1957 - S5P1_accuracy: 0.5458 - S5P2_accuracy: 0.5605 - loss: 18.5191 - val_S1P1_accuracy: 0.8642 - val_S1P2_accuracy: 0.7531 - val_S2P1_accuracy: 0.7901 - val_S2P2_accuracy: 0.7654 - val_S3P1_accuracy: 0.6914 - val_S3P2_accuracy: 0.6543 - val_S4P1_accuracy: 0.8889 - val_S4P2_accuracy: 0.0864 - val_S5P1_accuracy: 0.7531 - val_S5P2_accuracy: 0.7654 - val_loss: 13.2540\n",
      "Epoch 2/10\n",
      "\u001B[1m25/25\u001B[0m \u001B[32m━━━━━━━━━━━━━━━━━━━━\u001B[0m\u001B[37m\u001B[0m \u001B[1m0s\u001B[0m 6ms/step - S1P1_accuracy: 0.8392 - S1P2_accuracy: 0.7518 - S2P1_accuracy: 0.7783 - S2P2_accuracy: 0.6936 - S3P1_accuracy: 0.5893 - S3P2_accuracy: 0.5405 - S4P1_accuracy: 0.8841 - S4P2_accuracy: 0.4375 - S5P1_accuracy: 0.7626 - S5P2_accuracy: 0.7327 - loss: 12.8357 - val_S1P1_accuracy: 0.8642 - val_S1P2_accuracy: 0.7778 - val_S2P1_accuracy: 0.7901 - val_S2P2_accuracy: 0.7654 - val_S3P1_accuracy: 0.6914 - val_S3P2_accuracy: 0.6914 - val_S4P1_accuracy: 0.8889 - val_S4P2_accuracy: 0.8272 - val_S5P1_accuracy: 0.7531 - val_S5P2_accuracy: 0.7654 - val_loss: 11.3135\n",
      "Epoch 3/10\n",
      "\u001B[1m25/25\u001B[0m \u001B[32m━━━━━━━━━━━━━━━━━━━━\u001B[0m\u001B[37m\u001B[0m \u001B[1m0s\u001B[0m 6ms/step - S1P1_accuracy: 0.8135 - S1P2_accuracy: 0.7412 - S2P1_accuracy: 0.7949 - S2P2_accuracy: 0.6889 - S3P1_accuracy: 0.6516 - S3P2_accuracy: 0.6020 - S4P1_accuracy: 0.8703 - S4P2_accuracy: 0.6283 - S5P1_accuracy: 0.7810 - S5P2_accuracy: 0.7109 - loss: 11.5406 - val_S1P1_accuracy: 0.8642 - val_S1P2_accuracy: 0.7654 - val_S2P1_accuracy: 0.7901 - val_S2P2_accuracy: 0.7654 - val_S3P1_accuracy: 0.7284 - val_S3P2_accuracy: 0.6667 - val_S4P1_accuracy: 0.8889 - val_S4P2_accuracy: 0.8272 - val_S5P1_accuracy: 0.7531 - val_S5P2_accuracy: 0.7654 - val_loss: 10.3388\n",
      "Epoch 4/10\n",
      "\u001B[1m25/25\u001B[0m \u001B[32m━━━━━━━━━━━━━━━━━━━━\u001B[0m\u001B[37m\u001B[0m \u001B[1m0s\u001B[0m 6ms/step - S1P1_accuracy: 0.8412 - S1P2_accuracy: 0.7621 - S2P1_accuracy: 0.8078 - S2P2_accuracy: 0.6767 - S3P1_accuracy: 0.6597 - S3P2_accuracy: 0.5835 - S4P1_accuracy: 0.8652 - S4P2_accuracy: 0.6203 - S5P1_accuracy: 0.7888 - S5P2_accuracy: 0.7035 - loss: 10.7131 - val_S1P1_accuracy: 0.8642 - val_S1P2_accuracy: 0.7654 - val_S2P1_accuracy: 0.7901 - val_S2P2_accuracy: 0.7654 - val_S3P1_accuracy: 0.7284 - val_S3P2_accuracy: 0.7037 - val_S4P1_accuracy: 0.8889 - val_S4P2_accuracy: 0.8395 - val_S5P1_accuracy: 0.7531 - val_S5P2_accuracy: 0.7654 - val_loss: 9.8334\n",
      "Epoch 5/10\n",
      "\u001B[1m25/25\u001B[0m \u001B[32m━━━━━━━━━━━━━━━━━━━━\u001B[0m\u001B[37m\u001B[0m \u001B[1m0s\u001B[0m 6ms/step - S1P1_accuracy: 0.8373 - S1P2_accuracy: 0.7623 - S2P1_accuracy: 0.8035 - S2P2_accuracy: 0.6814 - S3P1_accuracy: 0.6995 - S3P2_accuracy: 0.6396 - S4P1_accuracy: 0.8902 - S4P2_accuracy: 0.6417 - S5P1_accuracy: 0.8027 - S5P2_accuracy: 0.7149 - loss: 10.0835 - val_S1P1_accuracy: 0.8642 - val_S1P2_accuracy: 0.7654 - val_S2P1_accuracy: 0.7901 - val_S2P2_accuracy: 0.7654 - val_S3P1_accuracy: 0.7407 - val_S3P2_accuracy: 0.7037 - val_S4P1_accuracy: 0.8889 - val_S4P2_accuracy: 0.8395 - val_S5P1_accuracy: 0.7531 - val_S5P2_accuracy: 0.7654 - val_loss: 9.3594\n",
      "Epoch 6/10\n",
      "\u001B[1m25/25\u001B[0m \u001B[32m━━━━━━━━━━━━━━━━━━━━\u001B[0m\u001B[37m\u001B[0m \u001B[1m0s\u001B[0m 6ms/step - S1P1_accuracy: 0.8314 - S1P2_accuracy: 0.7287 - S2P1_accuracy: 0.7862 - S2P2_accuracy: 0.6849 - S3P1_accuracy: 0.7169 - S3P2_accuracy: 0.6300 - S4P1_accuracy: 0.8843 - S4P2_accuracy: 0.6250 - S5P1_accuracy: 0.7844 - S5P2_accuracy: 0.7170 - loss: 9.8654 - val_S1P1_accuracy: 0.8642 - val_S1P2_accuracy: 0.7778 - val_S2P1_accuracy: 0.7901 - val_S2P2_accuracy: 0.7654 - val_S3P1_accuracy: 0.7407 - val_S3P2_accuracy: 0.7160 - val_S4P1_accuracy: 0.8889 - val_S4P2_accuracy: 0.8272 - val_S5P1_accuracy: 0.7531 - val_S5P2_accuracy: 0.7654 - val_loss: 9.2316\n",
      "Epoch 7/10\n",
      "\u001B[1m25/25\u001B[0m \u001B[32m━━━━━━━━━━━━━━━━━━━━\u001B[0m\u001B[37m\u001B[0m \u001B[1m0s\u001B[0m 8ms/step - S1P1_accuracy: 0.8367 - S1P2_accuracy: 0.7473 - S2P1_accuracy: 0.8064 - S2P2_accuracy: 0.6756 - S3P1_accuracy: 0.6922 - S3P2_accuracy: 0.6684 - S4P1_accuracy: 0.8843 - S4P2_accuracy: 0.6351 - S5P1_accuracy: 0.8022 - S5P2_accuracy: 0.7368 - loss: 9.4912 - val_S1P1_accuracy: 0.8642 - val_S1P2_accuracy: 0.7778 - val_S2P1_accuracy: 0.7901 - val_S2P2_accuracy: 0.7654 - val_S3P1_accuracy: 0.7531 - val_S3P2_accuracy: 0.7160 - val_S4P1_accuracy: 0.8889 - val_S4P2_accuracy: 0.8148 - val_S5P1_accuracy: 0.7531 - val_S5P2_accuracy: 0.7654 - val_loss: 8.9472\n",
      "Epoch 8/10\n",
      "\u001B[1m25/25\u001B[0m \u001B[32m━━━━━━━━━━━━━━━━━━━━\u001B[0m\u001B[37m\u001B[0m \u001B[1m0s\u001B[0m 5ms/step - S1P1_accuracy: 0.8182 - S1P2_accuracy: 0.7432 - S2P1_accuracy: 0.7849 - S2P2_accuracy: 0.6903 - S3P1_accuracy: 0.7368 - S3P2_accuracy: 0.6657 - S4P1_accuracy: 0.8819 - S4P2_accuracy: 0.6489 - S5P1_accuracy: 0.7746 - S5P2_accuracy: 0.7078 - loss: 9.4739 - val_S1P1_accuracy: 0.8642 - val_S1P2_accuracy: 0.7654 - val_S2P1_accuracy: 0.7901 - val_S2P2_accuracy: 0.7654 - val_S3P1_accuracy: 0.7284 - val_S3P2_accuracy: 0.7037 - val_S4P1_accuracy: 0.8889 - val_S4P2_accuracy: 0.8148 - val_S5P1_accuracy: 0.7531 - val_S5P2_accuracy: 0.7654 - val_loss: 8.7226\n",
      "Epoch 9/10\n",
      "\u001B[1m25/25\u001B[0m \u001B[32m━━━━━━━━━━━━━━━━━━━━\u001B[0m\u001B[37m\u001B[0m \u001B[1m0s\u001B[0m 5ms/step - S1P1_accuracy: 0.8323 - S1P2_accuracy: 0.7622 - S2P1_accuracy: 0.7933 - S2P2_accuracy: 0.7012 - S3P1_accuracy: 0.6988 - S3P2_accuracy: 0.6934 - S4P1_accuracy: 0.8671 - S4P2_accuracy: 0.6412 - S5P1_accuracy: 0.7925 - S5P2_accuracy: 0.7355 - loss: 9.1813 - val_S1P1_accuracy: 0.8642 - val_S1P2_accuracy: 0.7654 - val_S2P1_accuracy: 0.7901 - val_S2P2_accuracy: 0.7654 - val_S3P1_accuracy: 0.7407 - val_S3P2_accuracy: 0.7037 - val_S4P1_accuracy: 0.8889 - val_S4P2_accuracy: 0.8272 - val_S5P1_accuracy: 0.7531 - val_S5P2_accuracy: 0.7654 - val_loss: 8.6091\n",
      "Epoch 10/10\n",
      "\u001B[1m25/25\u001B[0m \u001B[32m━━━━━━━━━━━━━━━━━━━━\u001B[0m\u001B[37m\u001B[0m \u001B[1m0s\u001B[0m 5ms/step - S1P1_accuracy: 0.8406 - S1P2_accuracy: 0.7370 - S2P1_accuracy: 0.7807 - S2P2_accuracy: 0.7050 - S3P1_accuracy: 0.7383 - S3P2_accuracy: 0.6776 - S4P1_accuracy: 0.8751 - S4P2_accuracy: 0.6601 - S5P1_accuracy: 0.7676 - S5P2_accuracy: 0.6959 - loss: 9.1648 - val_S1P1_accuracy: 0.8642 - val_S1P2_accuracy: 0.7654 - val_S2P1_accuracy: 0.7901 - val_S2P2_accuracy: 0.7654 - val_S3P1_accuracy: 0.7531 - val_S3P2_accuracy: 0.7160 - val_S4P1_accuracy: 0.8889 - val_S4P2_accuracy: 0.8148 - val_S5P1_accuracy: 0.7531 - val_S5P2_accuracy: 0.7654 - val_loss: 8.3889\n"
     ]
    },
    {
     "data": {
      "text/plain": [
       "<keras.src.callbacks.history.History at 0x1b611acb560>"
      ]
     },
     "execution_count": 41,
     "metadata": {},
     "output_type": "execute_result"
    }
   ],
   "execution_count": 41
  },
  {
   "metadata": {},
   "cell_type": "markdown",
   "source": [
    "### **Attempts made to improve output:**\n",
    "The loss calculation is high as seen in this output. The closer a loss is to 0 the better, but the above calculations are far from 0. Simplifying the model's complexity, adjusting the L2 regularzation penalties, and changing the number of epochs but none seemed to have any effect on the loss of the model."
   ],
   "id": "79acb190fe39401a"
  },
  {
   "metadata": {},
   "cell_type": "markdown",
   "source": [
    "### **Explaining the output with SHAP (SHapley Additive exPlanations):**\n",
    "Currently working on this!!!"
   ],
   "id": "393818324070ad4e"
  },
  {
   "metadata": {
    "ExecuteTime": {
     "end_time": "2024-07-16T23:14:50.919703Z",
     "start_time": "2024-07-16T23:14:40.391885Z"
    }
   },
   "cell_type": "code",
   "source": [
    "separate_models = []\n",
    "\n",
    "for i, output in enumerate(model.outputs):\n",
    "    separate_model = Model(inputs=model.inputs, outputs=output)\n",
    "    separate_models.append(separate_model)\n",
    "\n",
    "background = [layer1_X_train[:50], layer2_X_train[:50]]\n",
    "\n",
    "X1_sample = layer1_X_train[50:60]\n",
    "X2_sample = layer2_X_train[50:60]\n",
    "\n",
    "shap_values = []\n",
    "\n",
    "for separate_model in separate_models:\n",
    "    explainer = shap.DeepExplainer(separate_model, background)\n",
    "    shap_values.append(explainer.shap_values([X1_sample, X2_sample]))\n",
    "\n",
    "print(simple_colors.green('This code block is still under development.', ['bold', 'italic']))"
   ],
   "id": "93c069fa0afa26fc",
   "outputs": [
    {
     "name": "stdout",
     "output_type": "stream",
     "text": [
      "\u001B[1;3;32mThis code block is still under development.\u001B[0m\n"
     ]
    }
   ],
   "execution_count": 48
  },
  {
   "metadata": {},
   "cell_type": "markdown",
   "source": [
    "### **Better understanding the data itself:**\n",
    "Having a better understanding of the data itself can often explain what is happening with the model. For example, knowing what percentage of people fell into each catagory for each scinario could potentially add more of an explination to what is seen in the model's output. This could help because in scinerio 1 part 1 the model predicted the correct answer about 85% of the time but if about 85% of people all fell within the same catagory then the high accuracy rate might not be as impressive. Below is the code that calculates the percentage of people that fall into each catagory for each scinario."
   ],
   "id": "7af336e971f437e8"
  },
  {
   "metadata": {
    "ExecuteTime": {
     "end_time": "2024-07-16T23:14:57.866130Z",
     "start_time": "2024-07-16T23:14:57.838545Z"
    }
   },
   "cell_type": "code",
   "source": [
    "def get_percentages(full_data):\n",
    "    n = len(full_data)\n",
    "    classed_arr = [np.argmax(sample) for sample in full_data]\n",
    "    n0, n1, n2 = classed_arr.count(0), classed_arr.count(1), classed_arr.count(2)\n",
    "    return (f\"Catagory 0: {round((n0-3)/n*100,2)}% Catagory 1: \"\n",
    "            f\"{round((n1-3)/n*100,2)}% Catagory 2: {round((n2-3)/n*100,2)}%\")\n",
    "\n",
    "names = itterate_situations_and_parts()\n",
    "for i in range(10):\n",
    "    print(f\"{names[i]} = {get_percentages(all_situations[i])}\")"
   ],
   "id": "76e598b8248df204",
   "outputs": [
    {
     "name": "stdout",
     "output_type": "stream",
     "text": [
      "S1P1 = Catagory 0: 7.38% Catagory 1: 8.85% Catagory 2: 82.75%\n",
      "S1P2 = Catagory 0: 11.46% Catagory 1: 13.05% Catagory 2: 74.46%\n",
      "S2P1 = Catagory 0: 8.29% Catagory 1: 11.46% Catagory 2: 79.23%\n",
      "S2P2 = Catagory 0: 18.16% Catagory 1: 10.78% Catagory 2: 70.03%\n",
      "S3P1 = Catagory 0: 33.48% Catagory 1: 9.53% Catagory 2: 55.96%\n",
      "S3P2 = Catagory 0: 35.07% Catagory 1: 11.12% Catagory 2: 52.78%\n",
      "S4P1 = Catagory 0: 3.18% Catagory 1: 8.06% Catagory 2: 87.74%\n",
      "S4P2 = Catagory 0: 20.32% Catagory 1: 14.76% Catagory 2: 63.9%\n",
      "S5P1 = Catagory 0: 9.88% Catagory 1: 11.35% Catagory 2: 77.75%\n",
      "S5P2 = Catagory 0: 13.28% Catagory 1: 13.73% Catagory 2: 71.96%\n"
     ]
    }
   ],
   "execution_count": 49
  },
  {
   "metadata": {},
   "cell_type": "markdown",
   "source": [
    "### **Connecting to model output:**\n",
    "It is clear that a large majority of the samples (people) made decisions that fell into the thrid catagory. Most of them are near the same percentage of the model accuracy. That means if the model just predicted the sample making a decision that falls into catagory three then the output would be simalar. With that being said, S3P1 and S3P2 are both signifigently lower than the model's output. There are two things that come to mind. Number one is to change the catagories so instead of a 4-3-4 split it is a 3-5-3 split. This would potentally lower the percentage of samples that fall into catagory three. Another idea would be to build a decision tree model instead of a deep nerual network mode. This could work because decision threes are better for smaller and less complecated data. Changing the split to 3-5-3 is an easy change so I will do that first and see what happens. Below is the code to make the split. "
   ],
   "id": "66522aaec2e5259d"
  },
  {
   "metadata": {
    "ExecuteTime": {
     "end_time": "2024-07-16T23:15:26.268731Z",
     "start_time": "2024-07-16T23:15:26.258515Z"
    }
   },
   "cell_type": "code",
   "source": [
    "def classiy_and_catigorize(column):\n",
    "    return to_categorical([0 if x <= 2 else 1 if x <= 7 else 2 for x in column])\n",
    "\n",
    "S1P1, S1P2, S2P1, S2P2, S3P1, S3P2, S4P1, S4P2, S5P1, S5P2 = [classiy_and_catigorize(col) for col in columns]\n",
    "all_situations = [S1P1, S1P2, S2P1, S2P2, S3P1, S3P2, S4P1, S4P2, S5P1, S5P2]\n",
    "\n",
    "for situation in all_situations:\n",
    "    print(situation.shape)"
   ],
   "id": "1911c11cf96dc3df",
   "outputs": [
    {
     "name": "stdout",
     "output_type": "stream",
     "text": [
      "(881, 3)\n",
      "(881, 3)\n",
      "(881, 3)\n",
      "(881, 3)\n",
      "(881, 3)\n",
      "(881, 3)\n",
      "(881, 3)\n",
      "(881, 3)\n",
      "(881, 3)\n",
      "(881, 3)\n"
     ]
    }
   ],
   "execution_count": 50
  },
  {
   "metadata": {},
   "cell_type": "markdown",
   "source": [
    "### **Dysplay ratios for each catagory**\n",
    "Done in the code bellow."
   ],
   "id": "57e9cc47e86a88c"
  },
  {
   "metadata": {
    "ExecuteTime": {
     "end_time": "2024-07-16T23:16:17.787562Z",
     "start_time": "2024-07-16T23:16:17.765843Z"
    }
   },
   "cell_type": "code",
   "source": [
    "for i in range(10):\n",
    "    print(f\"{names[i]} = {get_percentages(all_situations[i])}\")"
   ],
   "id": "69d2df426fb19a83",
   "outputs": [
    {
     "name": "stdout",
     "output_type": "stream",
     "text": [
      "S1P1 = Catagory 0: 5.11% Catagory 1: 27.47% Catagory 2: 66.4%\n",
      "S1P2 = Catagory 0: 8.17% Catagory 1: 31.33% Catagory 2: 59.48%\n",
      "S2P1 = Catagory 0: 4.77% Catagory 1: 30.53% Catagory 2: 63.68%\n",
      "S2P2 = Catagory 0: 13.62% Catagory 1: 30.53% Catagory 2: 54.82%\n",
      "S3P1 = Catagory 0: 29.51% Catagory 1: 25.54% Catagory 2: 43.93%\n",
      "S3P2 = Catagory 0: 29.28% Catagory 1: 27.7% Catagory 2: 42.0%\n",
      "S4P1 = Catagory 0: 1.7% Catagory 1: 23.95% Catagory 2: 73.33%\n",
      "S4P2 = Catagory 0: 16.35% Catagory 1: 32.8% Catagory 2: 49.83%\n",
      "S5P1 = Catagory 0: 7.15% Catagory 1: 30.42% Catagory 2: 61.41%\n",
      "S5P2 = Catagory 0: 9.88% Catagory 1: 32.24% Catagory 2: 56.87%\n"
     ]
    }
   ],
   "execution_count": 51
  },
  {
   "metadata": {},
   "cell_type": "markdown",
   "source": [
    "### **These ratios are better and will hopefully add more insight to what is happening**\n",
    "Below will relveil if I am right."
   ],
   "id": "d350cf5a2d4bf7fb"
  },
  {
   "metadata": {},
   "cell_type": "markdown",
   "source": [
    "### **Split into training and validating:**\n",
    "Just as before the data with the new split need to be sorted into training and validating data. Below is the code for this."
   ],
   "id": "f0fbcd65ce02633a"
  },
  {
   "metadata": {
    "ExecuteTime": {
     "end_time": "2024-07-16T23:17:45.535067Z",
     "start_time": "2024-07-16T23:17:45.527349Z"
    }
   },
   "cell_type": "code",
   "source": [
    "S1P1_train, S1P1_val = split(S1P1)\n",
    "S1P2_train, S1P2_val = split(S1P2)\n",
    "S2P1_train, S2P1_val = split(S2P1)\n",
    "S2P2_train, S2P2_val = split(S2P2)\n",
    "S3P1_train, S3P1_val = split(S3P1)\n",
    "S3P2_train, S3P2_val = split(S3P2)\n",
    "S4P1_train, S4P1_val = split(S4P1)\n",
    "S4P2_train, S4P2_val = split(S4P2)\n",
    "S5P1_train, S5P1_val = split(S5P1)\n",
    "S5P2_train, S5P2_val = split(S5P2)\n",
    "\n",
    "print(f\"S1P1 training shape: {S1P1_train.shape}\")\n",
    "print(f\"Validation set length: {len(S1P1_val)}\")"
   ],
   "id": "b2d908e833e1d725",
   "outputs": [
    {
     "name": "stdout",
     "output_type": "stream",
     "text": [
      "S1P1 training shape: (800, 3)\n",
      "Validation set length: 81\n"
     ]
    }
   ],
   "execution_count": 52
  },
  {
   "metadata": {},
   "cell_type": "markdown",
   "source": [
    "### **Train the model with new data split:**\n",
    "The model archetecture does not need to be rebuilt but the model does need to be reset and re-compiled."
   ],
   "id": "b2a56a3af661208f"
  },
  {
   "metadata": {
    "ExecuteTime": {
     "end_time": "2024-07-16T23:18:15.354213Z",
     "start_time": "2024-07-16T23:18:15.315090Z"
    }
   },
   "cell_type": "code",
   "source": [
    "model = Model(inputs=[input1, input2], outputs=outputs, name='CustomizedDeepNeuralNetwork')\n",
    "\n",
    "metrics = ['accuracy'] * 10  \n",
    "\n",
    "model.compile(loss='categorical_crossentropy',\n",
    "              optimizer='adam',\n",
    "              metrics=metrics)\n",
    "\n",
    "print(model.summary())"
   ],
   "id": "6e83ef339b63a01b",
   "outputs": [
    {
     "data": {
      "text/plain": [
       "\u001B[1mModel: \"CustomizedDeepNeuralNetwork\"\u001B[0m\n"
      ],
      "text/html": [
       "<pre style=\"white-space:pre;overflow-x:auto;line-height:normal;font-family:Menlo,'DejaVu Sans Mono',consolas,'Courier New',monospace\"><span style=\"font-weight: bold\">Model: \"CustomizedDeepNeuralNetwork\"</span>\n",
       "</pre>\n"
      ]
     },
     "metadata": {},
     "output_type": "display_data"
    },
    {
     "data": {
      "text/plain": [
       "┏━━━━━━━━━━━━━━━━━━━━━┳━━━━━━━━━━━━━━━━━━━┳━━━━━━━━━━━━┳━━━━━━━━━━━━━━━━━━━┓\n",
       "┃\u001B[1m \u001B[0m\u001B[1mLayer (type)       \u001B[0m\u001B[1m \u001B[0m┃\u001B[1m \u001B[0m\u001B[1mOutput Shape     \u001B[0m\u001B[1m \u001B[0m┃\u001B[1m \u001B[0m\u001B[1m   Param #\u001B[0m\u001B[1m \u001B[0m┃\u001B[1m \u001B[0m\u001B[1mConnected to     \u001B[0m\u001B[1m \u001B[0m┃\n",
       "┡━━━━━━━━━━━━━━━━━━━━━╇━━━━━━━━━━━━━━━━━━━╇━━━━━━━━━━━━╇━━━━━━━━━━━━━━━━━━━┩\n",
       "│ InputLayer1         │ (\u001B[38;5;45mNone\u001B[0m, \u001B[38;5;34m3\u001B[0m)         │          \u001B[38;5;34m0\u001B[0m │ -                 │\n",
       "│ (\u001B[38;5;33mInputLayer\u001B[0m)        │                   │            │                   │\n",
       "├─────────────────────┼───────────────────┼────────────┼───────────────────┤\n",
       "│ InputLayer2         │ (\u001B[38;5;45mNone\u001B[0m, \u001B[38;5;34m34\u001B[0m)        │          \u001B[38;5;34m0\u001B[0m │ -                 │\n",
       "│ (\u001B[38;5;33mInputLayer\u001B[0m)        │                   │            │                   │\n",
       "├─────────────────────┼───────────────────┼────────────┼───────────────────┤\n",
       "│ DenseOne_Input1     │ (\u001B[38;5;45mNone\u001B[0m, \u001B[38;5;34m256\u001B[0m)       │      \u001B[38;5;34m1,024\u001B[0m │ InputLayer1[\u001B[38;5;34m0\u001B[0m][\u001B[38;5;34m0\u001B[0m] │\n",
       "│ (\u001B[38;5;33mDense\u001B[0m)             │                   │            │                   │\n",
       "├─────────────────────┼───────────────────┼────────────┼───────────────────┤\n",
       "│ DenseOne_Input2     │ (\u001B[38;5;45mNone\u001B[0m, \u001B[38;5;34m256\u001B[0m)       │      \u001B[38;5;34m8,960\u001B[0m │ InputLayer2[\u001B[38;5;34m0\u001B[0m][\u001B[38;5;34m0\u001B[0m] │\n",
       "│ (\u001B[38;5;33mDense\u001B[0m)             │                   │            │                   │\n",
       "├─────────────────────┼───────────────────┼────────────┼───────────────────┤\n",
       "│ DenseTwo_Input1     │ (\u001B[38;5;45mNone\u001B[0m, \u001B[38;5;34m128\u001B[0m)       │     \u001B[38;5;34m32,896\u001B[0m │ DenseOne_Input1[\u001B[38;5;34m…\u001B[0m │\n",
       "│ (\u001B[38;5;33mDense\u001B[0m)             │                   │            │                   │\n",
       "├─────────────────────┼───────────────────┼────────────┼───────────────────┤\n",
       "│ DenseTwo_Input2     │ (\u001B[38;5;45mNone\u001B[0m, \u001B[38;5;34m128\u001B[0m)       │     \u001B[38;5;34m32,896\u001B[0m │ DenseOne_Input2[\u001B[38;5;34m…\u001B[0m │\n",
       "│ (\u001B[38;5;33mDense\u001B[0m)             │                   │            │                   │\n",
       "├─────────────────────┼───────────────────┼────────────┼───────────────────┤\n",
       "│ DenseThree_Input1   │ (\u001B[38;5;45mNone\u001B[0m, \u001B[38;5;34m64\u001B[0m)        │      \u001B[38;5;34m8,256\u001B[0m │ DenseTwo_Input1[\u001B[38;5;34m…\u001B[0m │\n",
       "│ (\u001B[38;5;33mDense\u001B[0m)             │                   │            │                   │\n",
       "├─────────────────────┼───────────────────┼────────────┼───────────────────┤\n",
       "│ DenseThree_Input2   │ (\u001B[38;5;45mNone\u001B[0m, \u001B[38;5;34m64\u001B[0m)        │      \u001B[38;5;34m8,256\u001B[0m │ DenseTwo_Input2[\u001B[38;5;34m…\u001B[0m │\n",
       "│ (\u001B[38;5;33mDense\u001B[0m)             │                   │            │                   │\n",
       "├─────────────────────┼───────────────────┼────────────┼───────────────────┤\n",
       "│ DenseFour_Input1    │ (\u001B[38;5;45mNone\u001B[0m, \u001B[38;5;34m32\u001B[0m)        │      \u001B[38;5;34m2,080\u001B[0m │ DenseThree_Input… │\n",
       "│ (\u001B[38;5;33mDense\u001B[0m)             │                   │            │                   │\n",
       "├─────────────────────┼───────────────────┼────────────┼───────────────────┤\n",
       "│ DenseFour_Input2    │ (\u001B[38;5;45mNone\u001B[0m, \u001B[38;5;34m32\u001B[0m)        │      \u001B[38;5;34m2,080\u001B[0m │ DenseThree_Input… │\n",
       "│ (\u001B[38;5;33mDense\u001B[0m)             │                   │            │                   │\n",
       "├─────────────────────┼───────────────────┼────────────┼───────────────────┤\n",
       "│ DenseFive_Input1    │ (\u001B[38;5;45mNone\u001B[0m, \u001B[38;5;34m16\u001B[0m)        │        \u001B[38;5;34m528\u001B[0m │ DenseFour_Input1… │\n",
       "│ (\u001B[38;5;33mDense\u001B[0m)             │                   │            │                   │\n",
       "├─────────────────────┼───────────────────┼────────────┼───────────────────┤\n",
       "│ DenseFive_Input2    │ (\u001B[38;5;45mNone\u001B[0m, \u001B[38;5;34m16\u001B[0m)        │        \u001B[38;5;34m528\u001B[0m │ DenseFour_Input2… │\n",
       "│ (\u001B[38;5;33mDense\u001B[0m)             │                   │            │                   │\n",
       "├─────────────────────┼───────────────────┼────────────┼───────────────────┤\n",
       "│ ConcatinatedInput   │ (\u001B[38;5;45mNone\u001B[0m, \u001B[38;5;34m32\u001B[0m)        │          \u001B[38;5;34m0\u001B[0m │ DenseFive_Input1… │\n",
       "│ (\u001B[38;5;33mConcatenate\u001B[0m)       │                   │            │ DenseFive_Input2… │\n",
       "├─────────────────────┼───────────────────┼────────────┼───────────────────┤\n",
       "│ S1P1 (\u001B[38;5;33mDense\u001B[0m)        │ (\u001B[38;5;45mNone\u001B[0m, \u001B[38;5;34m3\u001B[0m)         │         \u001B[38;5;34m99\u001B[0m │ ConcatinatedInpu… │\n",
       "├─────────────────────┼───────────────────┼────────────┼───────────────────┤\n",
       "│ S1P2 (\u001B[38;5;33mDense\u001B[0m)        │ (\u001B[38;5;45mNone\u001B[0m, \u001B[38;5;34m3\u001B[0m)         │         \u001B[38;5;34m99\u001B[0m │ ConcatinatedInpu… │\n",
       "├─────────────────────┼───────────────────┼────────────┼───────────────────┤\n",
       "│ S2P1 (\u001B[38;5;33mDense\u001B[0m)        │ (\u001B[38;5;45mNone\u001B[0m, \u001B[38;5;34m3\u001B[0m)         │         \u001B[38;5;34m99\u001B[0m │ ConcatinatedInpu… │\n",
       "├─────────────────────┼───────────────────┼────────────┼───────────────────┤\n",
       "│ S2P2 (\u001B[38;5;33mDense\u001B[0m)        │ (\u001B[38;5;45mNone\u001B[0m, \u001B[38;5;34m3\u001B[0m)         │         \u001B[38;5;34m99\u001B[0m │ ConcatinatedInpu… │\n",
       "├─────────────────────┼───────────────────┼────────────┼───────────────────┤\n",
       "│ S3P1 (\u001B[38;5;33mDense\u001B[0m)        │ (\u001B[38;5;45mNone\u001B[0m, \u001B[38;5;34m3\u001B[0m)         │         \u001B[38;5;34m99\u001B[0m │ ConcatinatedInpu… │\n",
       "├─────────────────────┼───────────────────┼────────────┼───────────────────┤\n",
       "│ S3P2 (\u001B[38;5;33mDense\u001B[0m)        │ (\u001B[38;5;45mNone\u001B[0m, \u001B[38;5;34m3\u001B[0m)         │         \u001B[38;5;34m99\u001B[0m │ ConcatinatedInpu… │\n",
       "├─────────────────────┼───────────────────┼────────────┼───────────────────┤\n",
       "│ S4P1 (\u001B[38;5;33mDense\u001B[0m)        │ (\u001B[38;5;45mNone\u001B[0m, \u001B[38;5;34m3\u001B[0m)         │         \u001B[38;5;34m99\u001B[0m │ ConcatinatedInpu… │\n",
       "├─────────────────────┼───────────────────┼────────────┼───────────────────┤\n",
       "│ S4P2 (\u001B[38;5;33mDense\u001B[0m)        │ (\u001B[38;5;45mNone\u001B[0m, \u001B[38;5;34m3\u001B[0m)         │         \u001B[38;5;34m99\u001B[0m │ ConcatinatedInpu… │\n",
       "├─────────────────────┼───────────────────┼────────────┼───────────────────┤\n",
       "│ S5P1 (\u001B[38;5;33mDense\u001B[0m)        │ (\u001B[38;5;45mNone\u001B[0m, \u001B[38;5;34m3\u001B[0m)         │         \u001B[38;5;34m99\u001B[0m │ ConcatinatedInpu… │\n",
       "├─────────────────────┼───────────────────┼────────────┼───────────────────┤\n",
       "│ S5P2 (\u001B[38;5;33mDense\u001B[0m)        │ (\u001B[38;5;45mNone\u001B[0m, \u001B[38;5;34m3\u001B[0m)         │         \u001B[38;5;34m99\u001B[0m │ ConcatinatedInpu… │\n",
       "└─────────────────────┴───────────────────┴────────────┴───────────────────┘\n"
      ],
      "text/html": [
       "<pre style=\"white-space:pre;overflow-x:auto;line-height:normal;font-family:Menlo,'DejaVu Sans Mono',consolas,'Courier New',monospace\">┏━━━━━━━━━━━━━━━━━━━━━┳━━━━━━━━━━━━━━━━━━━┳━━━━━━━━━━━━┳━━━━━━━━━━━━━━━━━━━┓\n",
       "┃<span style=\"font-weight: bold\"> Layer (type)        </span>┃<span style=\"font-weight: bold\"> Output Shape      </span>┃<span style=\"font-weight: bold\">    Param # </span>┃<span style=\"font-weight: bold\"> Connected to      </span>┃\n",
       "┡━━━━━━━━━━━━━━━━━━━━━╇━━━━━━━━━━━━━━━━━━━╇━━━━━━━━━━━━╇━━━━━━━━━━━━━━━━━━━┩\n",
       "│ InputLayer1         │ (<span style=\"color: #00d7ff; text-decoration-color: #00d7ff\">None</span>, <span style=\"color: #00af00; text-decoration-color: #00af00\">3</span>)         │          <span style=\"color: #00af00; text-decoration-color: #00af00\">0</span> │ -                 │\n",
       "│ (<span style=\"color: #0087ff; text-decoration-color: #0087ff\">InputLayer</span>)        │                   │            │                   │\n",
       "├─────────────────────┼───────────────────┼────────────┼───────────────────┤\n",
       "│ InputLayer2         │ (<span style=\"color: #00d7ff; text-decoration-color: #00d7ff\">None</span>, <span style=\"color: #00af00; text-decoration-color: #00af00\">34</span>)        │          <span style=\"color: #00af00; text-decoration-color: #00af00\">0</span> │ -                 │\n",
       "│ (<span style=\"color: #0087ff; text-decoration-color: #0087ff\">InputLayer</span>)        │                   │            │                   │\n",
       "├─────────────────────┼───────────────────┼────────────┼───────────────────┤\n",
       "│ DenseOne_Input1     │ (<span style=\"color: #00d7ff; text-decoration-color: #00d7ff\">None</span>, <span style=\"color: #00af00; text-decoration-color: #00af00\">256</span>)       │      <span style=\"color: #00af00; text-decoration-color: #00af00\">1,024</span> │ InputLayer1[<span style=\"color: #00af00; text-decoration-color: #00af00\">0</span>][<span style=\"color: #00af00; text-decoration-color: #00af00\">0</span>] │\n",
       "│ (<span style=\"color: #0087ff; text-decoration-color: #0087ff\">Dense</span>)             │                   │            │                   │\n",
       "├─────────────────────┼───────────────────┼────────────┼───────────────────┤\n",
       "│ DenseOne_Input2     │ (<span style=\"color: #00d7ff; text-decoration-color: #00d7ff\">None</span>, <span style=\"color: #00af00; text-decoration-color: #00af00\">256</span>)       │      <span style=\"color: #00af00; text-decoration-color: #00af00\">8,960</span> │ InputLayer2[<span style=\"color: #00af00; text-decoration-color: #00af00\">0</span>][<span style=\"color: #00af00; text-decoration-color: #00af00\">0</span>] │\n",
       "│ (<span style=\"color: #0087ff; text-decoration-color: #0087ff\">Dense</span>)             │                   │            │                   │\n",
       "├─────────────────────┼───────────────────┼────────────┼───────────────────┤\n",
       "│ DenseTwo_Input1     │ (<span style=\"color: #00d7ff; text-decoration-color: #00d7ff\">None</span>, <span style=\"color: #00af00; text-decoration-color: #00af00\">128</span>)       │     <span style=\"color: #00af00; text-decoration-color: #00af00\">32,896</span> │ DenseOne_Input1[<span style=\"color: #00af00; text-decoration-color: #00af00\">…</span> │\n",
       "│ (<span style=\"color: #0087ff; text-decoration-color: #0087ff\">Dense</span>)             │                   │            │                   │\n",
       "├─────────────────────┼───────────────────┼────────────┼───────────────────┤\n",
       "│ DenseTwo_Input2     │ (<span style=\"color: #00d7ff; text-decoration-color: #00d7ff\">None</span>, <span style=\"color: #00af00; text-decoration-color: #00af00\">128</span>)       │     <span style=\"color: #00af00; text-decoration-color: #00af00\">32,896</span> │ DenseOne_Input2[<span style=\"color: #00af00; text-decoration-color: #00af00\">…</span> │\n",
       "│ (<span style=\"color: #0087ff; text-decoration-color: #0087ff\">Dense</span>)             │                   │            │                   │\n",
       "├─────────────────────┼───────────────────┼────────────┼───────────────────┤\n",
       "│ DenseThree_Input1   │ (<span style=\"color: #00d7ff; text-decoration-color: #00d7ff\">None</span>, <span style=\"color: #00af00; text-decoration-color: #00af00\">64</span>)        │      <span style=\"color: #00af00; text-decoration-color: #00af00\">8,256</span> │ DenseTwo_Input1[<span style=\"color: #00af00; text-decoration-color: #00af00\">…</span> │\n",
       "│ (<span style=\"color: #0087ff; text-decoration-color: #0087ff\">Dense</span>)             │                   │            │                   │\n",
       "├─────────────────────┼───────────────────┼────────────┼───────────────────┤\n",
       "│ DenseThree_Input2   │ (<span style=\"color: #00d7ff; text-decoration-color: #00d7ff\">None</span>, <span style=\"color: #00af00; text-decoration-color: #00af00\">64</span>)        │      <span style=\"color: #00af00; text-decoration-color: #00af00\">8,256</span> │ DenseTwo_Input2[<span style=\"color: #00af00; text-decoration-color: #00af00\">…</span> │\n",
       "│ (<span style=\"color: #0087ff; text-decoration-color: #0087ff\">Dense</span>)             │                   │            │                   │\n",
       "├─────────────────────┼───────────────────┼────────────┼───────────────────┤\n",
       "│ DenseFour_Input1    │ (<span style=\"color: #00d7ff; text-decoration-color: #00d7ff\">None</span>, <span style=\"color: #00af00; text-decoration-color: #00af00\">32</span>)        │      <span style=\"color: #00af00; text-decoration-color: #00af00\">2,080</span> │ DenseThree_Input… │\n",
       "│ (<span style=\"color: #0087ff; text-decoration-color: #0087ff\">Dense</span>)             │                   │            │                   │\n",
       "├─────────────────────┼───────────────────┼────────────┼───────────────────┤\n",
       "│ DenseFour_Input2    │ (<span style=\"color: #00d7ff; text-decoration-color: #00d7ff\">None</span>, <span style=\"color: #00af00; text-decoration-color: #00af00\">32</span>)        │      <span style=\"color: #00af00; text-decoration-color: #00af00\">2,080</span> │ DenseThree_Input… │\n",
       "│ (<span style=\"color: #0087ff; text-decoration-color: #0087ff\">Dense</span>)             │                   │            │                   │\n",
       "├─────────────────────┼───────────────────┼────────────┼───────────────────┤\n",
       "│ DenseFive_Input1    │ (<span style=\"color: #00d7ff; text-decoration-color: #00d7ff\">None</span>, <span style=\"color: #00af00; text-decoration-color: #00af00\">16</span>)        │        <span style=\"color: #00af00; text-decoration-color: #00af00\">528</span> │ DenseFour_Input1… │\n",
       "│ (<span style=\"color: #0087ff; text-decoration-color: #0087ff\">Dense</span>)             │                   │            │                   │\n",
       "├─────────────────────┼───────────────────┼────────────┼───────────────────┤\n",
       "│ DenseFive_Input2    │ (<span style=\"color: #00d7ff; text-decoration-color: #00d7ff\">None</span>, <span style=\"color: #00af00; text-decoration-color: #00af00\">16</span>)        │        <span style=\"color: #00af00; text-decoration-color: #00af00\">528</span> │ DenseFour_Input2… │\n",
       "│ (<span style=\"color: #0087ff; text-decoration-color: #0087ff\">Dense</span>)             │                   │            │                   │\n",
       "├─────────────────────┼───────────────────┼────────────┼───────────────────┤\n",
       "│ ConcatinatedInput   │ (<span style=\"color: #00d7ff; text-decoration-color: #00d7ff\">None</span>, <span style=\"color: #00af00; text-decoration-color: #00af00\">32</span>)        │          <span style=\"color: #00af00; text-decoration-color: #00af00\">0</span> │ DenseFive_Input1… │\n",
       "│ (<span style=\"color: #0087ff; text-decoration-color: #0087ff\">Concatenate</span>)       │                   │            │ DenseFive_Input2… │\n",
       "├─────────────────────┼───────────────────┼────────────┼───────────────────┤\n",
       "│ S1P1 (<span style=\"color: #0087ff; text-decoration-color: #0087ff\">Dense</span>)        │ (<span style=\"color: #00d7ff; text-decoration-color: #00d7ff\">None</span>, <span style=\"color: #00af00; text-decoration-color: #00af00\">3</span>)         │         <span style=\"color: #00af00; text-decoration-color: #00af00\">99</span> │ ConcatinatedInpu… │\n",
       "├─────────────────────┼───────────────────┼────────────┼───────────────────┤\n",
       "│ S1P2 (<span style=\"color: #0087ff; text-decoration-color: #0087ff\">Dense</span>)        │ (<span style=\"color: #00d7ff; text-decoration-color: #00d7ff\">None</span>, <span style=\"color: #00af00; text-decoration-color: #00af00\">3</span>)         │         <span style=\"color: #00af00; text-decoration-color: #00af00\">99</span> │ ConcatinatedInpu… │\n",
       "├─────────────────────┼───────────────────┼────────────┼───────────────────┤\n",
       "│ S2P1 (<span style=\"color: #0087ff; text-decoration-color: #0087ff\">Dense</span>)        │ (<span style=\"color: #00d7ff; text-decoration-color: #00d7ff\">None</span>, <span style=\"color: #00af00; text-decoration-color: #00af00\">3</span>)         │         <span style=\"color: #00af00; text-decoration-color: #00af00\">99</span> │ ConcatinatedInpu… │\n",
       "├─────────────────────┼───────────────────┼────────────┼───────────────────┤\n",
       "│ S2P2 (<span style=\"color: #0087ff; text-decoration-color: #0087ff\">Dense</span>)        │ (<span style=\"color: #00d7ff; text-decoration-color: #00d7ff\">None</span>, <span style=\"color: #00af00; text-decoration-color: #00af00\">3</span>)         │         <span style=\"color: #00af00; text-decoration-color: #00af00\">99</span> │ ConcatinatedInpu… │\n",
       "├─────────────────────┼───────────────────┼────────────┼───────────────────┤\n",
       "│ S3P1 (<span style=\"color: #0087ff; text-decoration-color: #0087ff\">Dense</span>)        │ (<span style=\"color: #00d7ff; text-decoration-color: #00d7ff\">None</span>, <span style=\"color: #00af00; text-decoration-color: #00af00\">3</span>)         │         <span style=\"color: #00af00; text-decoration-color: #00af00\">99</span> │ ConcatinatedInpu… │\n",
       "├─────────────────────┼───────────────────┼────────────┼───────────────────┤\n",
       "│ S3P2 (<span style=\"color: #0087ff; text-decoration-color: #0087ff\">Dense</span>)        │ (<span style=\"color: #00d7ff; text-decoration-color: #00d7ff\">None</span>, <span style=\"color: #00af00; text-decoration-color: #00af00\">3</span>)         │         <span style=\"color: #00af00; text-decoration-color: #00af00\">99</span> │ ConcatinatedInpu… │\n",
       "├─────────────────────┼───────────────────┼────────────┼───────────────────┤\n",
       "│ S4P1 (<span style=\"color: #0087ff; text-decoration-color: #0087ff\">Dense</span>)        │ (<span style=\"color: #00d7ff; text-decoration-color: #00d7ff\">None</span>, <span style=\"color: #00af00; text-decoration-color: #00af00\">3</span>)         │         <span style=\"color: #00af00; text-decoration-color: #00af00\">99</span> │ ConcatinatedInpu… │\n",
       "├─────────────────────┼───────────────────┼────────────┼───────────────────┤\n",
       "│ S4P2 (<span style=\"color: #0087ff; text-decoration-color: #0087ff\">Dense</span>)        │ (<span style=\"color: #00d7ff; text-decoration-color: #00d7ff\">None</span>, <span style=\"color: #00af00; text-decoration-color: #00af00\">3</span>)         │         <span style=\"color: #00af00; text-decoration-color: #00af00\">99</span> │ ConcatinatedInpu… │\n",
       "├─────────────────────┼───────────────────┼────────────┼───────────────────┤\n",
       "│ S5P1 (<span style=\"color: #0087ff; text-decoration-color: #0087ff\">Dense</span>)        │ (<span style=\"color: #00d7ff; text-decoration-color: #00d7ff\">None</span>, <span style=\"color: #00af00; text-decoration-color: #00af00\">3</span>)         │         <span style=\"color: #00af00; text-decoration-color: #00af00\">99</span> │ ConcatinatedInpu… │\n",
       "├─────────────────────┼───────────────────┼────────────┼───────────────────┤\n",
       "│ S5P2 (<span style=\"color: #0087ff; text-decoration-color: #0087ff\">Dense</span>)        │ (<span style=\"color: #00d7ff; text-decoration-color: #00d7ff\">None</span>, <span style=\"color: #00af00; text-decoration-color: #00af00\">3</span>)         │         <span style=\"color: #00af00; text-decoration-color: #00af00\">99</span> │ ConcatinatedInpu… │\n",
       "└─────────────────────┴───────────────────┴────────────┴───────────────────┘\n",
       "</pre>\n"
      ]
     },
     "metadata": {},
     "output_type": "display_data"
    },
    {
     "data": {
      "text/plain": [
       "\u001B[1m Total params: \u001B[0m\u001B[38;5;34m98,494\u001B[0m (384.74 KB)\n"
      ],
      "text/html": [
       "<pre style=\"white-space:pre;overflow-x:auto;line-height:normal;font-family:Menlo,'DejaVu Sans Mono',consolas,'Courier New',monospace\"><span style=\"font-weight: bold\"> Total params: </span><span style=\"color: #00af00; text-decoration-color: #00af00\">98,494</span> (384.74 KB)\n",
       "</pre>\n"
      ]
     },
     "metadata": {},
     "output_type": "display_data"
    },
    {
     "data": {
      "text/plain": [
       "\u001B[1m Trainable params: \u001B[0m\u001B[38;5;34m98,494\u001B[0m (384.74 KB)\n"
      ],
      "text/html": [
       "<pre style=\"white-space:pre;overflow-x:auto;line-height:normal;font-family:Menlo,'DejaVu Sans Mono',consolas,'Courier New',monospace\"><span style=\"font-weight: bold\"> Trainable params: </span><span style=\"color: #00af00; text-decoration-color: #00af00\">98,494</span> (384.74 KB)\n",
       "</pre>\n"
      ]
     },
     "metadata": {},
     "output_type": "display_data"
    },
    {
     "data": {
      "text/plain": [
       "\u001B[1m Non-trainable params: \u001B[0m\u001B[38;5;34m0\u001B[0m (0.00 B)\n"
      ],
      "text/html": [
       "<pre style=\"white-space:pre;overflow-x:auto;line-height:normal;font-family:Menlo,'DejaVu Sans Mono',consolas,'Courier New',monospace\"><span style=\"font-weight: bold\"> Non-trainable params: </span><span style=\"color: #00af00; text-decoration-color: #00af00\">0</span> (0.00 B)\n",
       "</pre>\n"
      ]
     },
     "metadata": {},
     "output_type": "display_data"
    },
    {
     "name": "stdout",
     "output_type": "stream",
     "text": [
      "None\n"
     ]
    }
   ],
   "execution_count": 53
  },
  {
   "metadata": {},
   "cell_type": "markdown",
   "source": [
    "### **Train the model same way as before**\n",
    "As seen below."
   ],
   "id": "965e93d295224697"
  },
  {
   "metadata": {
    "ExecuteTime": {
     "end_time": "2024-07-16T23:19:02.526255Z",
     "start_time": "2024-07-16T23:18:53.512789Z"
    }
   },
   "cell_type": "code",
   "source": [
    "model.fit([layer1_X_train, layer2_X_train], [S1P1_train, S1P2_train, S2P1_train,\n",
    "                    S2P2_train, S3P1_train, S3P2_train, S4P1_train,\n",
    "                    S4P2_train, S5P1_train, S5P2_train],\n",
    "          epochs=10,\n",
    "          batch_size=32,\n",
    "          validation_data=([layer1_X_val, layer2_X_val], [S1P1_val, S1P2_val, S2P1_val,\n",
    "                                                          S2P2_val, S3P1_val, S3P2_val, S4P1_val,\n",
    "                                                          S4P2_val, S5P1_val, S5P2_val]))"
   ],
   "id": "675fb833df65a217",
   "outputs": [
    {
     "name": "stdout",
     "output_type": "stream",
     "text": [
      "Epoch 1/10\n",
      "\u001B[1m25/25\u001B[0m \u001B[32m━━━━━━━━━━━━━━━━━━━━\u001B[0m\u001B[37m\u001B[0m \u001B[1m7s\u001B[0m 38ms/step - S1P1_accuracy: 0.6541 - S1P2_accuracy: 0.5717 - S2P1_accuracy: 0.6207 - S2P2_accuracy: 0.5792 - S3P1_accuracy: 0.5865 - S3P2_accuracy: 0.4762 - S4P1_accuracy: 0.6321 - S4P2_accuracy: 0.4531 - S5P1_accuracy: 0.6177 - S5P2_accuracy: 0.5573 - loss: 11.5210 - val_S1P1_accuracy: 0.6296 - val_S1P2_accuracy: 0.5432 - val_S2P1_accuracy: 0.5802 - val_S2P2_accuracy: 0.5062 - val_S3P1_accuracy: 0.5309 - val_S3P2_accuracy: 0.5185 - val_S4P1_accuracy: 0.6296 - val_S4P2_accuracy: 0.5802 - val_S5P1_accuracy: 0.4815 - val_S5P2_accuracy: 0.5432 - val_loss: 10.7203\n",
      "Epoch 2/10\n",
      "\u001B[1m25/25\u001B[0m \u001B[32m━━━━━━━━━━━━━━━━━━━━\u001B[0m\u001B[37m\u001B[0m \u001B[1m0s\u001B[0m 5ms/step - S1P1_accuracy: 0.6441 - S1P2_accuracy: 0.5832 - S2P1_accuracy: 0.6315 - S2P2_accuracy: 0.5374 - S3P1_accuracy: 0.5832 - S3P2_accuracy: 0.5292 - S4P1_accuracy: 0.7405 - S4P2_accuracy: 0.4864 - S5P1_accuracy: 0.6282 - S5P2_accuracy: 0.5591 - loss: 10.4294 - val_S1P1_accuracy: 0.6296 - val_S1P2_accuracy: 0.5802 - val_S2P1_accuracy: 0.5802 - val_S2P2_accuracy: 0.5432 - val_S3P1_accuracy: 0.5432 - val_S3P2_accuracy: 0.4938 - val_S4P1_accuracy: 0.6296 - val_S4P2_accuracy: 0.5185 - val_S5P1_accuracy: 0.4815 - val_S5P2_accuracy: 0.5432 - val_loss: 10.5237\n",
      "Epoch 3/10\n",
      "\u001B[1m25/25\u001B[0m \u001B[32m━━━━━━━━━━━━━━━━━━━━\u001B[0m\u001B[37m\u001B[0m \u001B[1m0s\u001B[0m 5ms/step - S1P1_accuracy: 0.6786 - S1P2_accuracy: 0.6047 - S2P1_accuracy: 0.6722 - S2P2_accuracy: 0.5753 - S3P1_accuracy: 0.5938 - S3P2_accuracy: 0.5362 - S4P1_accuracy: 0.7674 - S4P2_accuracy: 0.4577 - S5P1_accuracy: 0.6376 - S5P2_accuracy: 0.5798 - loss: 10.0586 - val_S1P1_accuracy: 0.6296 - val_S1P2_accuracy: 0.5309 - val_S2P1_accuracy: 0.5802 - val_S2P2_accuracy: 0.4938 - val_S3P1_accuracy: 0.5309 - val_S3P2_accuracy: 0.5185 - val_S4P1_accuracy: 0.6296 - val_S4P2_accuracy: 0.5802 - val_S5P1_accuracy: 0.4815 - val_S5P2_accuracy: 0.5432 - val_loss: 9.9871\n",
      "Epoch 4/10\n",
      "\u001B[1m25/25\u001B[0m \u001B[32m━━━━━━━━━━━━━━━━━━━━\u001B[0m\u001B[37m\u001B[0m \u001B[1m0s\u001B[0m 6ms/step - S1P1_accuracy: 0.6872 - S1P2_accuracy: 0.6097 - S2P1_accuracy: 0.6644 - S2P2_accuracy: 0.5683 - S3P1_accuracy: 0.5649 - S3P2_accuracy: 0.5463 - S4P1_accuracy: 0.7375 - S4P2_accuracy: 0.5273 - S5P1_accuracy: 0.6639 - S5P2_accuracy: 0.5988 - loss: 9.8469 - val_S1P1_accuracy: 0.6296 - val_S1P2_accuracy: 0.5309 - val_S2P1_accuracy: 0.5802 - val_S2P2_accuracy: 0.5062 - val_S3P1_accuracy: 0.5679 - val_S3P2_accuracy: 0.5556 - val_S4P1_accuracy: 0.6296 - val_S4P2_accuracy: 0.5679 - val_S5P1_accuracy: 0.4815 - val_S5P2_accuracy: 0.5432 - val_loss: 9.9416\n",
      "Epoch 5/10\n",
      "\u001B[1m25/25\u001B[0m \u001B[32m━━━━━━━━━━━━━━━━━━━━\u001B[0m\u001B[37m\u001B[0m \u001B[1m0s\u001B[0m 5ms/step - S1P1_accuracy: 0.6808 - S1P2_accuracy: 0.5844 - S2P1_accuracy: 0.6241 - S2P2_accuracy: 0.5337 - S3P1_accuracy: 0.5715 - S3P2_accuracy: 0.5264 - S4P1_accuracy: 0.7424 - S4P2_accuracy: 0.4977 - S5P1_accuracy: 0.6256 - S5P2_accuracy: 0.5709 - loss: 9.8160 - val_S1P1_accuracy: 0.6296 - val_S1P2_accuracy: 0.5309 - val_S2P1_accuracy: 0.5802 - val_S2P2_accuracy: 0.5309 - val_S3P1_accuracy: 0.5679 - val_S3P2_accuracy: 0.5432 - val_S4P1_accuracy: 0.6296 - val_S4P2_accuracy: 0.5926 - val_S5P1_accuracy: 0.4815 - val_S5P2_accuracy: 0.5432 - val_loss: 9.6553\n",
      "Epoch 6/10\n",
      "\u001B[1m25/25\u001B[0m \u001B[32m━━━━━━━━━━━━━━━━━━━━\u001B[0m\u001B[37m\u001B[0m \u001B[1m0s\u001B[0m 5ms/step - S1P1_accuracy: 0.6884 - S1P2_accuracy: 0.6016 - S2P1_accuracy: 0.6595 - S2P2_accuracy: 0.5365 - S3P1_accuracy: 0.6286 - S3P2_accuracy: 0.5092 - S4P1_accuracy: 0.7495 - S4P2_accuracy: 0.5075 - S5P1_accuracy: 0.6303 - S5P2_accuracy: 0.5812 - loss: 9.5697 - val_S1P1_accuracy: 0.6296 - val_S1P2_accuracy: 0.5309 - val_S2P1_accuracy: 0.5802 - val_S2P2_accuracy: 0.5062 - val_S3P1_accuracy: 0.5309 - val_S3P2_accuracy: 0.5185 - val_S4P1_accuracy: 0.6296 - val_S4P2_accuracy: 0.5802 - val_S5P1_accuracy: 0.4815 - val_S5P2_accuracy: 0.5432 - val_loss: 9.5123\n",
      "Epoch 7/10\n",
      "\u001B[1m25/25\u001B[0m \u001B[32m━━━━━━━━━━━━━━━━━━━━\u001B[0m\u001B[37m\u001B[0m \u001B[1m0s\u001B[0m 5ms/step - S1P1_accuracy: 0.6912 - S1P2_accuracy: 0.6257 - S2P1_accuracy: 0.6553 - S2P2_accuracy: 0.5617 - S3P1_accuracy: 0.5976 - S3P2_accuracy: 0.5373 - S4P1_accuracy: 0.7577 - S4P2_accuracy: 0.5155 - S5P1_accuracy: 0.6316 - S5P2_accuracy: 0.5890 - loss: 9.6140 - val_S1P1_accuracy: 0.6296 - val_S1P2_accuracy: 0.5309 - val_S2P1_accuracy: 0.5802 - val_S2P2_accuracy: 0.4938 - val_S3P1_accuracy: 0.5309 - val_S3P2_accuracy: 0.5432 - val_S4P1_accuracy: 0.6296 - val_S4P2_accuracy: 0.6173 - val_S5P1_accuracy: 0.4815 - val_S5P2_accuracy: 0.5432 - val_loss: 9.4675\n",
      "Epoch 8/10\n",
      "\u001B[1m25/25\u001B[0m \u001B[32m━━━━━━━━━━━━━━━━━━━━\u001B[0m\u001B[37m\u001B[0m \u001B[1m0s\u001B[0m 5ms/step - S1P1_accuracy: 0.6545 - S1P2_accuracy: 0.5731 - S2P1_accuracy: 0.6539 - S2P2_accuracy: 0.5521 - S3P1_accuracy: 0.5508 - S3P2_accuracy: 0.5262 - S4P1_accuracy: 0.7449 - S4P2_accuracy: 0.5102 - S5P1_accuracy: 0.6125 - S5P2_accuracy: 0.5701 - loss: 9.5889 - val_S1P1_accuracy: 0.6296 - val_S1P2_accuracy: 0.5309 - val_S2P1_accuracy: 0.5802 - val_S2P2_accuracy: 0.5062 - val_S3P1_accuracy: 0.5556 - val_S3P2_accuracy: 0.5309 - val_S4P1_accuracy: 0.6296 - val_S4P2_accuracy: 0.5926 - val_S5P1_accuracy: 0.4815 - val_S5P2_accuracy: 0.5432 - val_loss: 9.4087\n",
      "Epoch 9/10\n",
      "\u001B[1m25/25\u001B[0m \u001B[32m━━━━━━━━━━━━━━━━━━━━\u001B[0m\u001B[37m\u001B[0m \u001B[1m0s\u001B[0m 5ms/step - S1P1_accuracy: 0.6607 - S1P2_accuracy: 0.5862 - S2P1_accuracy: 0.6524 - S2P2_accuracy: 0.5402 - S3P1_accuracy: 0.5958 - S3P2_accuracy: 0.5512 - S4P1_accuracy: 0.7629 - S4P2_accuracy: 0.5230 - S5P1_accuracy: 0.6113 - S5P2_accuracy: 0.5625 - loss: 9.4150 - val_S1P1_accuracy: 0.6296 - val_S1P2_accuracy: 0.5309 - val_S2P1_accuracy: 0.5802 - val_S2P2_accuracy: 0.4938 - val_S3P1_accuracy: 0.5432 - val_S3P2_accuracy: 0.5062 - val_S4P1_accuracy: 0.6296 - val_S4P2_accuracy: 0.5802 - val_S5P1_accuracy: 0.4815 - val_S5P2_accuracy: 0.5432 - val_loss: 9.5507\n",
      "Epoch 10/10\n",
      "\u001B[1m25/25\u001B[0m \u001B[32m━━━━━━━━━━━━━━━━━━━━\u001B[0m\u001B[37m\u001B[0m \u001B[1m0s\u001B[0m 5ms/step - S1P1_accuracy: 0.6979 - S1P2_accuracy: 0.6262 - S2P1_accuracy: 0.6561 - S2P2_accuracy: 0.5840 - S3P1_accuracy: 0.6090 - S3P2_accuracy: 0.5535 - S4P1_accuracy: 0.7289 - S4P2_accuracy: 0.5419 - S5P1_accuracy: 0.6368 - S5P2_accuracy: 0.5804 - loss: 9.3310 - val_S1P1_accuracy: 0.6296 - val_S1P2_accuracy: 0.5309 - val_S2P1_accuracy: 0.5802 - val_S2P2_accuracy: 0.4938 - val_S3P1_accuracy: 0.5309 - val_S3P2_accuracy: 0.5185 - val_S4P1_accuracy: 0.6296 - val_S4P2_accuracy: 0.5679 - val_S5P1_accuracy: 0.4815 - val_S5P2_accuracy: 0.5432 - val_loss: 9.3566\n"
     ]
    },
    {
     "data": {
      "text/plain": [
       "<keras.src.callbacks.history.History at 0x1b6064f7140>"
      ]
     },
     "execution_count": 54,
     "metadata": {},
     "output_type": "execute_result"
    }
   ],
   "execution_count": 54
  },
  {
   "metadata": {},
   "cell_type": "markdown",
   "source": [
    "### **Understanding model output**\n",
    "The output again apears to suggest that the model is simply picking catagory three most of the time and that is why the percentages of accuracy is close to that of the ratio split. This could be because of poor model archetecture but I think trying out a decision tree next is a valid idea."
   ],
   "id": "de1c854fdd578572"
  },
  {
   "metadata": {},
   "cell_type": "markdown",
   "source": [
    "### **Explaining the output with SHAP (SHapley Additive exPlanations):**\n",
    "Currently working on this!!!"
   ],
   "id": "ceec1eb416abdd49"
  },
  {
   "metadata": {
    "ExecuteTime": {
     "end_time": "2024-07-16T23:21:31.011509Z",
     "start_time": "2024-07-16T23:21:20.282849Z"
    }
   },
   "cell_type": "code",
   "source": [
    "separate_models = []\n",
    "\n",
    "for i, output in enumerate(model.outputs):\n",
    "    separate_model = Model(inputs=model.inputs, outputs=output)\n",
    "    separate_models.append(separate_model)\n",
    "\n",
    "background = [layer1_X_train[:50], layer2_X_train[:50]]\n",
    "\n",
    "X1_sample = layer1_X_train[50:60]\n",
    "X2_sample = layer2_X_train[50:60]\n",
    "\n",
    "shap_values = []\n",
    "\n",
    "for separate_model in separate_models:\n",
    "    explainer = shap.DeepExplainer(separate_model, background)\n",
    "    shap_values.append(explainer.shap_values([X1_sample, X2_sample]))\n",
    "\n",
    "print(simple_colors.green('This code block is still under development.', ['bold', 'italic']))"
   ],
   "id": "124193adc470d9cc",
   "outputs": [
    {
     "name": "stdout",
     "output_type": "stream",
     "text": [
      "\u001B[1;3;32mThis code block is still under development.\u001B[0m\n"
     ]
    }
   ],
   "execution_count": 56
  },
  {
   "metadata": {},
   "cell_type": "markdown",
   "source": [
    "### **Decision Tree**\n",
    "A valid next move is to use a decision tree. This is likely going to work better because decision trees work very well with smaller less complicated data. It is possible the above model is too complecated to solve this problem... or not complicated enough but trying out a decision tree will provide more insight."
   ],
   "id": "a81bb0b30255da6c"
  },
  {
   "metadata": {
    "ExecuteTime": {
     "end_time": "2024-07-16T23:19:34.186624Z",
     "start_time": "2024-07-16T23:19:34.142824Z"
    }
   },
   "cell_type": "code",
   "source": [
    "dtc = DecisionTreeClassifier()\n",
    "\n",
    "dtc.fit(layer1_X_train, S1P1_train)\n",
    "\n",
    "predictions = dtc.predict(layer1_X_val)\n",
    "accuracy = accuracy_score(S1P1_val, predictions)\n",
    "for i in range(len(predictions)):\n",
    "    print(f\"{S1P1_val[i]} -> {predictions[i]}\")\n",
    "print(f\"Accuracy: {round(accuracy * 100, 2)}%\")"
   ],
   "id": "5ddb862557f8ac68",
   "outputs": [
    {
     "name": "stdout",
     "output_type": "stream",
     "text": [
      "[0. 0. 1.] -> [0. 1. 0.]\n",
      "[0. 0. 1.] -> [0. 0. 0.]\n",
      "[1. 0. 0.] -> [0. 0. 1.]\n",
      "[0. 1. 0.] -> [0. 0. 1.]\n",
      "[0. 0. 1.] -> [0. 0. 1.]\n",
      "[0. 1. 0.] -> [0. 1. 0.]\n",
      "[0. 1. 0.] -> [0. 0. 1.]\n",
      "[0. 1. 0.] -> [0. 1. 0.]\n",
      "[0. 0. 1.] -> [0. 1. 0.]\n",
      "[0. 0. 1.] -> [0. 0. 1.]\n",
      "[0. 1. 0.] -> [0. 0. 1.]\n",
      "[0. 0. 1.] -> [0. 1. 0.]\n",
      "[0. 0. 1.] -> [0. 0. 1.]\n",
      "[0. 1. 0.] -> [0. 1. 0.]\n",
      "[0. 1. 0.] -> [0. 0. 1.]\n",
      "[0. 0. 1.] -> [0. 1. 0.]\n",
      "[0. 0. 1.] -> [1. 0. 0.]\n",
      "[0. 0. 1.] -> [0. 0. 1.]\n",
      "[0. 0. 1.] -> [1. 0. 0.]\n",
      "[0. 0. 1.] -> [0. 0. 1.]\n",
      "[0. 0. 1.] -> [0. 0. 1.]\n",
      "[0. 0. 1.] -> [0. 0. 1.]\n",
      "[0. 0. 1.] -> [0. 1. 0.]\n",
      "[0. 0. 1.] -> [0. 0. 1.]\n",
      "[0. 0. 1.] -> [0. 0. 1.]\n",
      "[0. 0. 1.] -> [0. 1. 0.]\n",
      "[0. 0. 1.] -> [0. 0. 1.]\n",
      "[0. 0. 1.] -> [0. 1. 0.]\n",
      "[0. 0. 1.] -> [1. 0. 0.]\n",
      "[0. 1. 0.] -> [0. 1. 0.]\n",
      "[0. 0. 1.] -> [0. 0. 1.]\n",
      "[0. 0. 1.] -> [0. 1. 0.]\n",
      "[0. 1. 0.] -> [0. 0. 1.]\n",
      "[0. 0. 1.] -> [0. 0. 1.]\n",
      "[0. 0. 1.] -> [0. 0. 0.]\n",
      "[0. 0. 1.] -> [0. 1. 0.]\n",
      "[0. 0. 1.] -> [0. 1. 0.]\n",
      "[0. 0. 1.] -> [0. 0. 1.]\n",
      "[0. 0. 1.] -> [0. 1. 0.]\n",
      "[0. 1. 0.] -> [0. 0. 1.]\n",
      "[0. 1. 0.] -> [0. 0. 1.]\n",
      "[0. 0. 1.] -> [0. 0. 1.]\n",
      "[0. 1. 0.] -> [0. 0. 1.]\n",
      "[0. 0. 1.] -> [0. 0. 1.]\n",
      "[0. 1. 0.] -> [0. 0. 1.]\n",
      "[0. 1. 0.] -> [0. 0. 1.]\n",
      "[0. 1. 0.] -> [0. 0. 1.]\n",
      "[0. 0. 1.] -> [0. 1. 0.]\n",
      "[0. 0. 1.] -> [0. 1. 0.]\n",
      "[0. 1. 0.] -> [0. 0. 1.]\n",
      "[0. 0. 1.] -> [0. 0. 1.]\n",
      "[0. 0. 1.] -> [0. 0. 1.]\n",
      "[0. 1. 0.] -> [0. 1. 0.]\n",
      "[0. 0. 1.] -> [0. 0. 1.]\n",
      "[0. 0. 1.] -> [0. 1. 0.]\n",
      "[0. 0. 1.] -> [0. 1. 0.]\n",
      "[0. 0. 1.] -> [0. 0. 0.]\n",
      "[0. 1. 0.] -> [0. 0. 1.]\n",
      "[0. 1. 0.] -> [0. 0. 1.]\n",
      "[0. 0. 1.] -> [0. 1. 0.]\n",
      "[0. 0. 1.] -> [0. 0. 1.]\n",
      "[0. 0. 1.] -> [0. 1. 0.]\n",
      "[0. 0. 1.] -> [0. 1. 0.]\n",
      "[0. 1. 0.] -> [0. 0. 1.]\n",
      "[0. 0. 1.] -> [0. 0. 1.]\n",
      "[0. 0. 1.] -> [0. 0. 1.]\n",
      "[0. 0. 1.] -> [0. 0. 1.]\n",
      "[0. 1. 0.] -> [0. 0. 1.]\n",
      "[0. 1. 0.] -> [0. 0. 1.]\n",
      "[0. 0. 1.] -> [0. 1. 0.]\n",
      "[0. 0. 1.] -> [0. 1. 0.]\n",
      "[0. 1. 0.] -> [0. 1. 0.]\n",
      "[0. 0. 1.] -> [0. 0. 1.]\n",
      "[0. 0. 1.] -> [0. 0. 1.]\n",
      "[0. 1. 0.] -> [0. 0. 1.]\n",
      "[0. 1. 0.] -> [1. 0. 0.]\n",
      "[1. 0. 0.] -> [0. 1. 0.]\n",
      "[0. 1. 0.] -> [0. 0. 1.]\n",
      "[0. 1. 0.] -> [0. 0. 1.]\n",
      "[0. 1. 0.] -> [0. 1. 0.]\n",
      "[0. 0. 1.] -> [0. 0. 1.]\n",
      "Accuracy: 39.51%\n"
     ]
    }
   ],
   "execution_count": 55
  },
  {
   "metadata": {},
   "cell_type": "markdown",
   "source": "### **Write about that or do something to make it better!**",
   "id": "ec23da83c9a9c4ff"
  }
 ],
 "metadata": {
  "kernelspec": {
   "display_name": "Python 3",
   "language": "python",
   "name": "python3"
  },
  "language_info": {
   "codemirror_mode": {
    "name": "ipython",
    "version": 2
   },
   "file_extension": ".py",
   "mimetype": "text/x-python",
   "name": "python",
   "nbconvert_exporter": "python",
   "pygments_lexer": "ipython2",
   "version": "2.7.6"
  }
 },
 "nbformat": 4,
 "nbformat_minor": 5
}
