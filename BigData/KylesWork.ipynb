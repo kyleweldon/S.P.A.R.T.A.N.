{
 "cells": [
  {
   "metadata": {},
   "cell_type": "markdown",
   "source": "# ***By Kyle Weldon*** ",
   "id": "9c6459a68a06a97a"
  },
  {
   "metadata": {
    "ExecuteTime": {
     "end_time": "2024-07-02T23:27:46.993830Z",
     "start_time": "2024-07-02T23:27:46.983238Z"
    }
   },
   "cell_type": "code",
   "source": [
    "import os\n",
    "# Supress TensorFlow messages\n",
    "os.environ['TF_ENABLE_ONEDNN_OPTS'] = '0'\n",
    "os.environ['TF_CPP_MIN_LOG_LEVEL'] = '2'\n",
    "import numpy as np\n",
    "import pandas as pd\n",
    "\n",
    "import tensorflow as tf\n",
    "from tensorflow.keras.layers import Input,Dense, Concatenate, Reshape\n",
    "from tensorflow.keras.models import Model\n",
    "from tensorflow.keras import layers\n",
    "from tensorflow.keras.utils import to_categorical\n",
    "from keras.regularizers import l2"
   ],
   "id": "96a853cb07d358fc",
   "outputs": [],
   "execution_count": 18
  },
  {
   "metadata": {},
   "cell_type": "markdown",
   "source": [
    "### **Versions used:**\n",
    "* os = TBD\n",
    "* numpy==1.26.4\n",
    "* pandas==2.2.2\n",
    "* tensorflow==2.16.1\n",
    "* shap = TBD"
   ],
   "id": "612a438b78896fcf"
  },
  {
   "metadata": {},
   "cell_type": "markdown",
   "source": [
    "### **Filtering raw data given:** \n",
    "\n",
    "The data that was given had incomplete data in a '.xlsx' file. The code below is what was used to remove all of the uncomplete samples and save the result as a '.csv' file."
   ],
   "id": "3235c08a831c30d8"
  },
  {
   "cell_type": "code",
   "id": "feb90d5cfa9d70cb",
   "metadata": {
    "ExecuteTime": {
     "end_time": "2024-07-02T22:56:24.275097Z",
     "start_time": "2024-07-02T22:56:23.188109Z"
    }
   },
   "source": [
    "def filter_data(excel_file, output_csv):\n",
    "    try:\n",
    "        df = pd.read_excel(excel_file)\n",
    "    except FileNotFoundError:\n",
    "        print(f\"Error: The file '{excel_file}' was not found.\")\n",
    "        return\n",
    "    except Exception as e:\n",
    "        print(f\"Error occurred while reading '{excel_file}': {str(e)}\")\n",
    "        return\n",
    "\n",
    "    complete_rows = []\n",
    "    for index, row in df.iterrows():\n",
    "        if is_row_complete(row):\n",
    "            complete_rows.append(row)\n",
    "\n",
    "    cleaned_df = pd.DataFrame(complete_rows, columns=df.columns)\n",
    "\n",
    "    try:\n",
    "        cleaned_df.to_csv(output_csv, index=False)\n",
    "        print(f\"Cleaned data saved to '{output_csv}' successfully.\")\n",
    "        print(f\"There are {len(cleaned_df)} samples in the cleaned data.\")\n",
    "    except Exception as e:\n",
    "        print(f\"Error occurred while saving to '{output_csv}': {str(e)}\")\n",
    "        return\n",
    "\n",
    "def is_row_complete(row):\n",
    "    for cell in row:\n",
    "        if pd.isna(cell) or str(cell).strip() == '':\n",
    "            return False\n",
    "    return True\n",
    "\n",
    "filter_data('Data/RawData.xlsx', 'Data/FilteredData.csv')"
   ],
   "outputs": [
    {
     "name": "stdout",
     "output_type": "stream",
     "text": [
      "Cleaned data saved to 'Data/FilteredData.csv' successfully.\n",
      "There are 881 samples in the cleaned data.\n"
     ]
    }
   ],
   "execution_count": 2
  },
  {
   "metadata": {},
   "cell_type": "markdown",
   "source": [
    "### **How to use the data:**\n",
    " There are 10 different 'senerios' or 'decisions' made by each sample (each sample represents one person). When making a decision they were able to choose between 0-10 based on how sure they are. This gives 11 possible choices per situation per sample. Given the fact there are only 881 samples attempting to accruetly predict 11 possible choices will likely not be accurate due to the limited data. To account for this The decisions are going to be split into three catagories. Anyone that chose a 0, 1, 2, or 3 will be a part of catagory one. Anyone that chose either 4, 5, or 6 will be a part of catagory two and anyone that chose 7, 8, 9, or 10 will be a part of catagory three. This gives a 4-3-4 catigorical split. Below is the code that completes this. It is also essential to remember to split the data into training and validating data. "
   ],
   "id": "377b4b7dd6f48fe2"
  },
  {
   "metadata": {
    "ExecuteTime": {
     "end_time": "2024-07-02T22:56:24.313733Z",
     "start_time": "2024-07-02T22:56:24.276103Z"
    }
   },
   "cell_type": "code",
   "source": [
    "df = pd.read_csv('Data/FilteredData.csv')\n",
    "# Column tites for all the output data\n",
    "output_columns = ['Scenario 1 ',\n",
    "                  'Unnamed: 40',\n",
    "                  'Scenario 2 ',\n",
    "                  'Unnamed: 42',\n",
    "                  'Scenario 3 ',\n",
    "                  'Unnamed: 44',\n",
    "                  'Scenario 4',\n",
    "                  'Unnamed: 46',\n",
    "                  'Scenario 5 ',\n",
    "                  'Unnamed: 48']\n",
    "\n",
    "def classiy_and_catigorize(column):\n",
    "    return to_categorical([0 if x <= 3 else 1 if x <= 6 else 2 for x in column])\n",
    "\n",
    "columns = df[output_columns].to_numpy().T # The 'T' is to transpose the array\n",
    "\n",
    "S1P1, S1P2, S2P1, S2P2, S3P1, S3P2, S4P1, S4P2, S5P1, S5P2 = [classiy_and_catigorize(col) for col in columns]\n",
    "print(S1P1.shape)"
   ],
   "id": "ccf75147951b9c03",
   "outputs": [
    {
     "name": "stdout",
     "output_type": "stream",
     "text": [
      "(881, 3)\n"
     ]
    }
   ],
   "execution_count": 3
  },
  {
   "metadata": {},
   "cell_type": "markdown",
   "source": [
    "### **Splitting into training and validating:**\n",
    "Before this data can be used to train a model it first needs to be split into traning and validating data. Below is the code that does that. The first 800 samples (people) are going to be used train the model while the last 81 are going to be for validation."
   ],
   "id": "815c9e8cc1512938"
  },
  {
   "metadata": {
    "ExecuteTime": {
     "end_time": "2024-07-02T23:00:32.038754Z",
     "start_time": "2024-07-02T23:00:32.029722Z"
    }
   },
   "cell_type": "code",
   "source": [
    "def split(array):\n",
    "    return array[:800], array[800:]\n",
    "\n",
    "S1P1_train, S1P1_val = split(S1P1)\n",
    "S1P2_train, S1P2_val = split(S1P2)\n",
    "S2P1_train, S2P1_val = split(S2P1)\n",
    "S2P2_train, S2P2_val = split(S2P2)\n",
    "S3P1_train, S3P1_val = split(S3P1)\n",
    "S3P2_train, S3P2_val = split(S3P2)\n",
    "S4P1_train, S4P1_val = split(S4P1)\n",
    "S4P2_train, S4P2_val = split(S4P2)\n",
    "S5P1_train, S5P1_val = split(S5P1)\n",
    "S5P2_train, S5P2_val = split(S5P2)\n",
    "\n",
    "print(f\"S1P1 training shape: {S1P1_train.shape}\")\n",
    "print(f\"Validation set length: {len(S1P1_val)}\")"
   ],
   "id": "6abfd1fb814cade7",
   "outputs": [
    {
     "name": "stdout",
     "output_type": "stream",
     "text": [
      "Training set length: (800, 3)\n",
      "Validation set length: 81\n"
     ]
    }
   ],
   "execution_count": 8
  },
  {
   "metadata": {},
   "cell_type": "markdown",
   "source": [
    "### **Prepare input data:**\n",
    "Now that the output data is fully prepared and ready for training it is time to prepare the coresponding input data. Simalar to the multiple outputs there our also miltiple inputs. Below is the code to complete this."
   ],
   "id": "7e900f02d472b69a"
  },
  {
   "metadata": {
    "ExecuteTime": {
     "end_time": "2024-07-02T23:05:18.269834Z",
     "start_time": "2024-07-02T23:05:18.258596Z"
    }
   },
   "cell_type": "code",
   "source": [
    "# Column titles used for this input set\n",
    "input_columns1 = ['MAx1', 'Max2', 'Max3']\n",
    "input_columns2 = ['Q105_1','Q105_2','Q105_3','Q105_4','Q105_5','Q105_6','Q105_7','Q105_8','Q105_9','Q105_10','Q105_11','Q105_12','Q105_13','Q105_14','Q105_15','Q105_16','Q105_17','Q105_18','Q105_19','Q105_20','Q105_21','Q105_22','Q105_23','Q105_24','Q105_25','Q105_26','Q105_27','Q105_28','Q105_29','Q105_30','Q105_31','Q105_32','Q105_33','Q105_34']\n",
    "\n",
    "input_df1 = df[input_columns1]\n",
    "input1_X_values = input_df1.to_numpy()\n",
    "input_df2 = df[input_columns2]\n",
    "input2_X_values = input_df2.to_numpy()\n",
    "\n",
    "layer1_X_train = input1_X_values[:800]\n",
    "layer1_X_val = input1_X_values[800:]\n",
    "layer2_X_train = input2_X_values[:800]\n",
    "layer2_X_val = input2_X_values[800:]\n",
    "\n",
    "print(f\"Layer1 training shape: {layer1_X_train.shape} -> validating shape: {layer1_X_val.shape}\")\n",
    "print(f\"Layer2 training shape: {layer2_X_train.shape} -> validating shape: {layer2_X_val.shape}\")"
   ],
   "id": "3895df9c28f82fb3",
   "outputs": [
    {
     "name": "stdout",
     "output_type": "stream",
     "text": [
      "Layer1 training shape: (800, 3) -> validating shape: (81, 3)\n",
      "Layer2 training shape: (800, 34) -> validating shape: (81, 34)\n"
     ]
    }
   ],
   "execution_count": 9
  },
  {
   "metadata": {},
   "cell_type": "markdown",
   "source": [
    "### **Building model archetecture:**\n",
    "First instinct is build a deep neural network. Because this initial model will predict all 10 different decisions for each sample a multi-output model is need. There was some adjustment needed to the output layers so they are the correct shape. The functional API from Keras is used for this."
   ],
   "id": "5159403838d8334d"
  },
  {
   "metadata": {
    "ExecuteTime": {
     "end_time": "2024-07-03T02:17:35.939115Z",
     "start_time": "2024-07-03T02:17:35.643055Z"
    }
   },
   "cell_type": "code",
   "source": [
    "input1 = Input(shape=(3,), name='InputLayer1')\n",
    "\n",
    "hidden1_input1 = Dense(256, activation='relu', kernel_regularizer=l2(0.01), name='DenseOne_Input1')(input1)\n",
    "hidden2_input1 = Dense(128, activation='relu', kernel_regularizer=l2(0.01), name='DenseTwo_Input1')(hidden1_input1)\n",
    "hidden3_input1 = Dense(64, activation='relu', kernel_regularizer=l2(0.01), name='DenseThree_Input1')(hidden2_input1)\n",
    "hidden4_input1 = Dense(32, activation='relu', kernel_regularizer=l2(0.01), name='DenseFour_Input1')(hidden3_input1)\n",
    "hidden5_input1 = Dense(16, activation='relu', kernel_regularizer=l2(0.01), name='DenseFive_Input1')(hidden4_input1)\n",
    "\n",
    "input2 = Input(shape=(34,), name='InputLayer2')\n",
    "\n",
    "hidden1_input2 = Dense(256, activation='relu', kernel_regularizer=l2(0.01), name='DenseOne_Input2')(input2)\n",
    "hidden2_input2 = Dense(128, activation='relu', kernel_regularizer=l2(0.01), name='DenseTwo_Input2')(hidden1_input2)\n",
    "hidden3_input2 = Dense(64, activation='relu', kernel_regularizer=l2(0.01), name='DenseThree_Input2')(hidden2_input2)\n",
    "hidden4_input2 = Dense(32, activation='relu', kernel_regularizer=l2(0.01), name='DenseFour_Input2')(hidden3_input2)\n",
    "hidden5_input2 = Dense(16, activation='relu', kernel_regularizer=l2(0.01), name='DenseFive_Input2')(hidden4_input2)\n",
    "\n",
    "concatenated = Concatenate(name='ConcatinatedInput')([hidden5_input1, hidden5_input2])\n",
    "\n",
    "def create_output_layer(name, input_layer):\n",
    "    return Dense(3, activation='softmax', name=name)(input_layer)\n",
    "def itterate_situations_and_parts(num_itts=10):\n",
    "    scenerio = 1\n",
    "    sittos = []\n",
    "    for i in range(num_itts):\n",
    "        part = 1 if i % 2 == 0 else 2\n",
    "        sittos.append(f\"S{scenerio}P{part}\")\n",
    "        if part == 2: scenerio += 1\n",
    "    return sittos\n",
    "\n",
    "outputs = [create_output_layer(name, concatenated) for name in itterate_situations_and_parts()]\n",
    "\n",
    "model = Model(inputs=[input1, input2], outputs=outputs, name='CustomizedDeepNeuralNetwork')\n",
    "\n",
    "metrics = ['accuracy'] * 10  \n",
    "\n",
    "model.compile(loss='categorical_crossentropy',\n",
    "              optimizer='adam',\n",
    "              metrics=metrics)\n",
    "\n",
    "print(model.summary())"
   ],
   "id": "eab12da1c0c9079d",
   "outputs": [
    {
     "data": {
      "text/plain": [
       "\u001B[1mModel: \"CustomizedDeepNeuralNetwork\"\u001B[0m\n"
      ],
      "text/html": [
       "<pre style=\"white-space:pre;overflow-x:auto;line-height:normal;font-family:Menlo,'DejaVu Sans Mono',consolas,'Courier New',monospace\"><span style=\"font-weight: bold\">Model: \"CustomizedDeepNeuralNetwork\"</span>\n",
       "</pre>\n"
      ]
     },
     "metadata": {},
     "output_type": "display_data"
    },
    {
     "data": {
      "text/plain": [
       "┏━━━━━━━━━━━━━━━━━━━━━┳━━━━━━━━━━━━━━━━━━━┳━━━━━━━━━━━━┳━━━━━━━━━━━━━━━━━━━┓\n",
       "┃\u001B[1m \u001B[0m\u001B[1mLayer (type)       \u001B[0m\u001B[1m \u001B[0m┃\u001B[1m \u001B[0m\u001B[1mOutput Shape     \u001B[0m\u001B[1m \u001B[0m┃\u001B[1m \u001B[0m\u001B[1m   Param #\u001B[0m\u001B[1m \u001B[0m┃\u001B[1m \u001B[0m\u001B[1mConnected to     \u001B[0m\u001B[1m \u001B[0m┃\n",
       "┡━━━━━━━━━━━━━━━━━━━━━╇━━━━━━━━━━━━━━━━━━━╇━━━━━━━━━━━━╇━━━━━━━━━━━━━━━━━━━┩\n",
       "│ InputLayer1         │ (\u001B[38;5;45mNone\u001B[0m, \u001B[38;5;34m3\u001B[0m)         │          \u001B[38;5;34m0\u001B[0m │ -                 │\n",
       "│ (\u001B[38;5;33mInputLayer\u001B[0m)        │                   │            │                   │\n",
       "├─────────────────────┼───────────────────┼────────────┼───────────────────┤\n",
       "│ InputLayer2         │ (\u001B[38;5;45mNone\u001B[0m, \u001B[38;5;34m34\u001B[0m)        │          \u001B[38;5;34m0\u001B[0m │ -                 │\n",
       "│ (\u001B[38;5;33mInputLayer\u001B[0m)        │                   │            │                   │\n",
       "├─────────────────────┼───────────────────┼────────────┼───────────────────┤\n",
       "│ DenseOne_Input1     │ (\u001B[38;5;45mNone\u001B[0m, \u001B[38;5;34m256\u001B[0m)       │      \u001B[38;5;34m1,024\u001B[0m │ InputLayer1[\u001B[38;5;34m0\u001B[0m][\u001B[38;5;34m0\u001B[0m] │\n",
       "│ (\u001B[38;5;33mDense\u001B[0m)             │                   │            │                   │\n",
       "├─────────────────────┼───────────────────┼────────────┼───────────────────┤\n",
       "│ DenseOne_Input2     │ (\u001B[38;5;45mNone\u001B[0m, \u001B[38;5;34m256\u001B[0m)       │      \u001B[38;5;34m8,960\u001B[0m │ InputLayer2[\u001B[38;5;34m0\u001B[0m][\u001B[38;5;34m0\u001B[0m] │\n",
       "│ (\u001B[38;5;33mDense\u001B[0m)             │                   │            │                   │\n",
       "├─────────────────────┼───────────────────┼────────────┼───────────────────┤\n",
       "│ DenseTwo_Input1     │ (\u001B[38;5;45mNone\u001B[0m, \u001B[38;5;34m128\u001B[0m)       │     \u001B[38;5;34m32,896\u001B[0m │ DenseOne_Input1[\u001B[38;5;34m…\u001B[0m │\n",
       "│ (\u001B[38;5;33mDense\u001B[0m)             │                   │            │                   │\n",
       "├─────────────────────┼───────────────────┼────────────┼───────────────────┤\n",
       "│ DenseTwo_Input2     │ (\u001B[38;5;45mNone\u001B[0m, \u001B[38;5;34m128\u001B[0m)       │     \u001B[38;5;34m32,896\u001B[0m │ DenseOne_Input2[\u001B[38;5;34m…\u001B[0m │\n",
       "│ (\u001B[38;5;33mDense\u001B[0m)             │                   │            │                   │\n",
       "├─────────────────────┼───────────────────┼────────────┼───────────────────┤\n",
       "│ DenseThree_Input1   │ (\u001B[38;5;45mNone\u001B[0m, \u001B[38;5;34m64\u001B[0m)        │      \u001B[38;5;34m8,256\u001B[0m │ DenseTwo_Input1[\u001B[38;5;34m…\u001B[0m │\n",
       "│ (\u001B[38;5;33mDense\u001B[0m)             │                   │            │                   │\n",
       "├─────────────────────┼───────────────────┼────────────┼───────────────────┤\n",
       "│ DenseThree_Input2   │ (\u001B[38;5;45mNone\u001B[0m, \u001B[38;5;34m64\u001B[0m)        │      \u001B[38;5;34m8,256\u001B[0m │ DenseTwo_Input2[\u001B[38;5;34m…\u001B[0m │\n",
       "│ (\u001B[38;5;33mDense\u001B[0m)             │                   │            │                   │\n",
       "├─────────────────────┼───────────────────┼────────────┼───────────────────┤\n",
       "│ DenseFour_Input1    │ (\u001B[38;5;45mNone\u001B[0m, \u001B[38;5;34m32\u001B[0m)        │      \u001B[38;5;34m2,080\u001B[0m │ DenseThree_Input… │\n",
       "│ (\u001B[38;5;33mDense\u001B[0m)             │                   │            │                   │\n",
       "├─────────────────────┼───────────────────┼────────────┼───────────────────┤\n",
       "│ DenseFour_Input2    │ (\u001B[38;5;45mNone\u001B[0m, \u001B[38;5;34m32\u001B[0m)        │      \u001B[38;5;34m2,080\u001B[0m │ DenseThree_Input… │\n",
       "│ (\u001B[38;5;33mDense\u001B[0m)             │                   │            │                   │\n",
       "├─────────────────────┼───────────────────┼────────────┼───────────────────┤\n",
       "│ DenseFive_Input1    │ (\u001B[38;5;45mNone\u001B[0m, \u001B[38;5;34m16\u001B[0m)        │        \u001B[38;5;34m528\u001B[0m │ DenseFour_Input1… │\n",
       "│ (\u001B[38;5;33mDense\u001B[0m)             │                   │            │                   │\n",
       "├─────────────────────┼───────────────────┼────────────┼───────────────────┤\n",
       "│ DenseFive_Input2    │ (\u001B[38;5;45mNone\u001B[0m, \u001B[38;5;34m16\u001B[0m)        │        \u001B[38;5;34m528\u001B[0m │ DenseFour_Input2… │\n",
       "│ (\u001B[38;5;33mDense\u001B[0m)             │                   │            │                   │\n",
       "├─────────────────────┼───────────────────┼────────────┼───────────────────┤\n",
       "│ ConcatinatedInput   │ (\u001B[38;5;45mNone\u001B[0m, \u001B[38;5;34m32\u001B[0m)        │          \u001B[38;5;34m0\u001B[0m │ DenseFive_Input1… │\n",
       "│ (\u001B[38;5;33mConcatenate\u001B[0m)       │                   │            │ DenseFive_Input2… │\n",
       "├─────────────────────┼───────────────────┼────────────┼───────────────────┤\n",
       "│ S1P1 (\u001B[38;5;33mDense\u001B[0m)        │ (\u001B[38;5;45mNone\u001B[0m, \u001B[38;5;34m3\u001B[0m)         │         \u001B[38;5;34m99\u001B[0m │ ConcatinatedInpu… │\n",
       "├─────────────────────┼───────────────────┼────────────┼───────────────────┤\n",
       "│ S1P2 (\u001B[38;5;33mDense\u001B[0m)        │ (\u001B[38;5;45mNone\u001B[0m, \u001B[38;5;34m3\u001B[0m)         │         \u001B[38;5;34m99\u001B[0m │ ConcatinatedInpu… │\n",
       "├─────────────────────┼───────────────────┼────────────┼───────────────────┤\n",
       "│ S2P1 (\u001B[38;5;33mDense\u001B[0m)        │ (\u001B[38;5;45mNone\u001B[0m, \u001B[38;5;34m3\u001B[0m)         │         \u001B[38;5;34m99\u001B[0m │ ConcatinatedInpu… │\n",
       "├─────────────────────┼───────────────────┼────────────┼───────────────────┤\n",
       "│ S2P2 (\u001B[38;5;33mDense\u001B[0m)        │ (\u001B[38;5;45mNone\u001B[0m, \u001B[38;5;34m3\u001B[0m)         │         \u001B[38;5;34m99\u001B[0m │ ConcatinatedInpu… │\n",
       "├─────────────────────┼───────────────────┼────────────┼───────────────────┤\n",
       "│ S3P1 (\u001B[38;5;33mDense\u001B[0m)        │ (\u001B[38;5;45mNone\u001B[0m, \u001B[38;5;34m3\u001B[0m)         │         \u001B[38;5;34m99\u001B[0m │ ConcatinatedInpu… │\n",
       "├─────────────────────┼───────────────────┼────────────┼───────────────────┤\n",
       "│ S3P2 (\u001B[38;5;33mDense\u001B[0m)        │ (\u001B[38;5;45mNone\u001B[0m, \u001B[38;5;34m3\u001B[0m)         │         \u001B[38;5;34m99\u001B[0m │ ConcatinatedInpu… │\n",
       "├─────────────────────┼───────────────────┼────────────┼───────────────────┤\n",
       "│ S4P1 (\u001B[38;5;33mDense\u001B[0m)        │ (\u001B[38;5;45mNone\u001B[0m, \u001B[38;5;34m3\u001B[0m)         │         \u001B[38;5;34m99\u001B[0m │ ConcatinatedInpu… │\n",
       "├─────────────────────┼───────────────────┼────────────┼───────────────────┤\n",
       "│ S4P2 (\u001B[38;5;33mDense\u001B[0m)        │ (\u001B[38;5;45mNone\u001B[0m, \u001B[38;5;34m3\u001B[0m)         │         \u001B[38;5;34m99\u001B[0m │ ConcatinatedInpu… │\n",
       "├─────────────────────┼───────────────────┼────────────┼───────────────────┤\n",
       "│ S5P1 (\u001B[38;5;33mDense\u001B[0m)        │ (\u001B[38;5;45mNone\u001B[0m, \u001B[38;5;34m3\u001B[0m)         │         \u001B[38;5;34m99\u001B[0m │ ConcatinatedInpu… │\n",
       "├─────────────────────┼───────────────────┼────────────┼───────────────────┤\n",
       "│ S5P2 (\u001B[38;5;33mDense\u001B[0m)        │ (\u001B[38;5;45mNone\u001B[0m, \u001B[38;5;34m3\u001B[0m)         │         \u001B[38;5;34m99\u001B[0m │ ConcatinatedInpu… │\n",
       "└─────────────────────┴───────────────────┴────────────┴───────────────────┘\n"
      ],
      "text/html": [
       "<pre style=\"white-space:pre;overflow-x:auto;line-height:normal;font-family:Menlo,'DejaVu Sans Mono',consolas,'Courier New',monospace\">┏━━━━━━━━━━━━━━━━━━━━━┳━━━━━━━━━━━━━━━━━━━┳━━━━━━━━━━━━┳━━━━━━━━━━━━━━━━━━━┓\n",
       "┃<span style=\"font-weight: bold\"> Layer (type)        </span>┃<span style=\"font-weight: bold\"> Output Shape      </span>┃<span style=\"font-weight: bold\">    Param # </span>┃<span style=\"font-weight: bold\"> Connected to      </span>┃\n",
       "┡━━━━━━━━━━━━━━━━━━━━━╇━━━━━━━━━━━━━━━━━━━╇━━━━━━━━━━━━╇━━━━━━━━━━━━━━━━━━━┩\n",
       "│ InputLayer1         │ (<span style=\"color: #00d7ff; text-decoration-color: #00d7ff\">None</span>, <span style=\"color: #00af00; text-decoration-color: #00af00\">3</span>)         │          <span style=\"color: #00af00; text-decoration-color: #00af00\">0</span> │ -                 │\n",
       "│ (<span style=\"color: #0087ff; text-decoration-color: #0087ff\">InputLayer</span>)        │                   │            │                   │\n",
       "├─────────────────────┼───────────────────┼────────────┼───────────────────┤\n",
       "│ InputLayer2         │ (<span style=\"color: #00d7ff; text-decoration-color: #00d7ff\">None</span>, <span style=\"color: #00af00; text-decoration-color: #00af00\">34</span>)        │          <span style=\"color: #00af00; text-decoration-color: #00af00\">0</span> │ -                 │\n",
       "│ (<span style=\"color: #0087ff; text-decoration-color: #0087ff\">InputLayer</span>)        │                   │            │                   │\n",
       "├─────────────────────┼───────────────────┼────────────┼───────────────────┤\n",
       "│ DenseOne_Input1     │ (<span style=\"color: #00d7ff; text-decoration-color: #00d7ff\">None</span>, <span style=\"color: #00af00; text-decoration-color: #00af00\">256</span>)       │      <span style=\"color: #00af00; text-decoration-color: #00af00\">1,024</span> │ InputLayer1[<span style=\"color: #00af00; text-decoration-color: #00af00\">0</span>][<span style=\"color: #00af00; text-decoration-color: #00af00\">0</span>] │\n",
       "│ (<span style=\"color: #0087ff; text-decoration-color: #0087ff\">Dense</span>)             │                   │            │                   │\n",
       "├─────────────────────┼───────────────────┼────────────┼───────────────────┤\n",
       "│ DenseOne_Input2     │ (<span style=\"color: #00d7ff; text-decoration-color: #00d7ff\">None</span>, <span style=\"color: #00af00; text-decoration-color: #00af00\">256</span>)       │      <span style=\"color: #00af00; text-decoration-color: #00af00\">8,960</span> │ InputLayer2[<span style=\"color: #00af00; text-decoration-color: #00af00\">0</span>][<span style=\"color: #00af00; text-decoration-color: #00af00\">0</span>] │\n",
       "│ (<span style=\"color: #0087ff; text-decoration-color: #0087ff\">Dense</span>)             │                   │            │                   │\n",
       "├─────────────────────┼───────────────────┼────────────┼───────────────────┤\n",
       "│ DenseTwo_Input1     │ (<span style=\"color: #00d7ff; text-decoration-color: #00d7ff\">None</span>, <span style=\"color: #00af00; text-decoration-color: #00af00\">128</span>)       │     <span style=\"color: #00af00; text-decoration-color: #00af00\">32,896</span> │ DenseOne_Input1[<span style=\"color: #00af00; text-decoration-color: #00af00\">…</span> │\n",
       "│ (<span style=\"color: #0087ff; text-decoration-color: #0087ff\">Dense</span>)             │                   │            │                   │\n",
       "├─────────────────────┼───────────────────┼────────────┼───────────────────┤\n",
       "│ DenseTwo_Input2     │ (<span style=\"color: #00d7ff; text-decoration-color: #00d7ff\">None</span>, <span style=\"color: #00af00; text-decoration-color: #00af00\">128</span>)       │     <span style=\"color: #00af00; text-decoration-color: #00af00\">32,896</span> │ DenseOne_Input2[<span style=\"color: #00af00; text-decoration-color: #00af00\">…</span> │\n",
       "│ (<span style=\"color: #0087ff; text-decoration-color: #0087ff\">Dense</span>)             │                   │            │                   │\n",
       "├─────────────────────┼───────────────────┼────────────┼───────────────────┤\n",
       "│ DenseThree_Input1   │ (<span style=\"color: #00d7ff; text-decoration-color: #00d7ff\">None</span>, <span style=\"color: #00af00; text-decoration-color: #00af00\">64</span>)        │      <span style=\"color: #00af00; text-decoration-color: #00af00\">8,256</span> │ DenseTwo_Input1[<span style=\"color: #00af00; text-decoration-color: #00af00\">…</span> │\n",
       "│ (<span style=\"color: #0087ff; text-decoration-color: #0087ff\">Dense</span>)             │                   │            │                   │\n",
       "├─────────────────────┼───────────────────┼────────────┼───────────────────┤\n",
       "│ DenseThree_Input2   │ (<span style=\"color: #00d7ff; text-decoration-color: #00d7ff\">None</span>, <span style=\"color: #00af00; text-decoration-color: #00af00\">64</span>)        │      <span style=\"color: #00af00; text-decoration-color: #00af00\">8,256</span> │ DenseTwo_Input2[<span style=\"color: #00af00; text-decoration-color: #00af00\">…</span> │\n",
       "│ (<span style=\"color: #0087ff; text-decoration-color: #0087ff\">Dense</span>)             │                   │            │                   │\n",
       "├─────────────────────┼───────────────────┼────────────┼───────────────────┤\n",
       "│ DenseFour_Input1    │ (<span style=\"color: #00d7ff; text-decoration-color: #00d7ff\">None</span>, <span style=\"color: #00af00; text-decoration-color: #00af00\">32</span>)        │      <span style=\"color: #00af00; text-decoration-color: #00af00\">2,080</span> │ DenseThree_Input… │\n",
       "│ (<span style=\"color: #0087ff; text-decoration-color: #0087ff\">Dense</span>)             │                   │            │                   │\n",
       "├─────────────────────┼───────────────────┼────────────┼───────────────────┤\n",
       "│ DenseFour_Input2    │ (<span style=\"color: #00d7ff; text-decoration-color: #00d7ff\">None</span>, <span style=\"color: #00af00; text-decoration-color: #00af00\">32</span>)        │      <span style=\"color: #00af00; text-decoration-color: #00af00\">2,080</span> │ DenseThree_Input… │\n",
       "│ (<span style=\"color: #0087ff; text-decoration-color: #0087ff\">Dense</span>)             │                   │            │                   │\n",
       "├─────────────────────┼───────────────────┼────────────┼───────────────────┤\n",
       "│ DenseFive_Input1    │ (<span style=\"color: #00d7ff; text-decoration-color: #00d7ff\">None</span>, <span style=\"color: #00af00; text-decoration-color: #00af00\">16</span>)        │        <span style=\"color: #00af00; text-decoration-color: #00af00\">528</span> │ DenseFour_Input1… │\n",
       "│ (<span style=\"color: #0087ff; text-decoration-color: #0087ff\">Dense</span>)             │                   │            │                   │\n",
       "├─────────────────────┼───────────────────┼────────────┼───────────────────┤\n",
       "│ DenseFive_Input2    │ (<span style=\"color: #00d7ff; text-decoration-color: #00d7ff\">None</span>, <span style=\"color: #00af00; text-decoration-color: #00af00\">16</span>)        │        <span style=\"color: #00af00; text-decoration-color: #00af00\">528</span> │ DenseFour_Input2… │\n",
       "│ (<span style=\"color: #0087ff; text-decoration-color: #0087ff\">Dense</span>)             │                   │            │                   │\n",
       "├─────────────────────┼───────────────────┼────────────┼───────────────────┤\n",
       "│ ConcatinatedInput   │ (<span style=\"color: #00d7ff; text-decoration-color: #00d7ff\">None</span>, <span style=\"color: #00af00; text-decoration-color: #00af00\">32</span>)        │          <span style=\"color: #00af00; text-decoration-color: #00af00\">0</span> │ DenseFive_Input1… │\n",
       "│ (<span style=\"color: #0087ff; text-decoration-color: #0087ff\">Concatenate</span>)       │                   │            │ DenseFive_Input2… │\n",
       "├─────────────────────┼───────────────────┼────────────┼───────────────────┤\n",
       "│ S1P1 (<span style=\"color: #0087ff; text-decoration-color: #0087ff\">Dense</span>)        │ (<span style=\"color: #00d7ff; text-decoration-color: #00d7ff\">None</span>, <span style=\"color: #00af00; text-decoration-color: #00af00\">3</span>)         │         <span style=\"color: #00af00; text-decoration-color: #00af00\">99</span> │ ConcatinatedInpu… │\n",
       "├─────────────────────┼───────────────────┼────────────┼───────────────────┤\n",
       "│ S1P2 (<span style=\"color: #0087ff; text-decoration-color: #0087ff\">Dense</span>)        │ (<span style=\"color: #00d7ff; text-decoration-color: #00d7ff\">None</span>, <span style=\"color: #00af00; text-decoration-color: #00af00\">3</span>)         │         <span style=\"color: #00af00; text-decoration-color: #00af00\">99</span> │ ConcatinatedInpu… │\n",
       "├─────────────────────┼───────────────────┼────────────┼───────────────────┤\n",
       "│ S2P1 (<span style=\"color: #0087ff; text-decoration-color: #0087ff\">Dense</span>)        │ (<span style=\"color: #00d7ff; text-decoration-color: #00d7ff\">None</span>, <span style=\"color: #00af00; text-decoration-color: #00af00\">3</span>)         │         <span style=\"color: #00af00; text-decoration-color: #00af00\">99</span> │ ConcatinatedInpu… │\n",
       "├─────────────────────┼───────────────────┼────────────┼───────────────────┤\n",
       "│ S2P2 (<span style=\"color: #0087ff; text-decoration-color: #0087ff\">Dense</span>)        │ (<span style=\"color: #00d7ff; text-decoration-color: #00d7ff\">None</span>, <span style=\"color: #00af00; text-decoration-color: #00af00\">3</span>)         │         <span style=\"color: #00af00; text-decoration-color: #00af00\">99</span> │ ConcatinatedInpu… │\n",
       "├─────────────────────┼───────────────────┼────────────┼───────────────────┤\n",
       "│ S3P1 (<span style=\"color: #0087ff; text-decoration-color: #0087ff\">Dense</span>)        │ (<span style=\"color: #00d7ff; text-decoration-color: #00d7ff\">None</span>, <span style=\"color: #00af00; text-decoration-color: #00af00\">3</span>)         │         <span style=\"color: #00af00; text-decoration-color: #00af00\">99</span> │ ConcatinatedInpu… │\n",
       "├─────────────────────┼───────────────────┼────────────┼───────────────────┤\n",
       "│ S3P2 (<span style=\"color: #0087ff; text-decoration-color: #0087ff\">Dense</span>)        │ (<span style=\"color: #00d7ff; text-decoration-color: #00d7ff\">None</span>, <span style=\"color: #00af00; text-decoration-color: #00af00\">3</span>)         │         <span style=\"color: #00af00; text-decoration-color: #00af00\">99</span> │ ConcatinatedInpu… │\n",
       "├─────────────────────┼───────────────────┼────────────┼───────────────────┤\n",
       "│ S4P1 (<span style=\"color: #0087ff; text-decoration-color: #0087ff\">Dense</span>)        │ (<span style=\"color: #00d7ff; text-decoration-color: #00d7ff\">None</span>, <span style=\"color: #00af00; text-decoration-color: #00af00\">3</span>)         │         <span style=\"color: #00af00; text-decoration-color: #00af00\">99</span> │ ConcatinatedInpu… │\n",
       "├─────────────────────┼───────────────────┼────────────┼───────────────────┤\n",
       "│ S4P2 (<span style=\"color: #0087ff; text-decoration-color: #0087ff\">Dense</span>)        │ (<span style=\"color: #00d7ff; text-decoration-color: #00d7ff\">None</span>, <span style=\"color: #00af00; text-decoration-color: #00af00\">3</span>)         │         <span style=\"color: #00af00; text-decoration-color: #00af00\">99</span> │ ConcatinatedInpu… │\n",
       "├─────────────────────┼───────────────────┼────────────┼───────────────────┤\n",
       "│ S5P1 (<span style=\"color: #0087ff; text-decoration-color: #0087ff\">Dense</span>)        │ (<span style=\"color: #00d7ff; text-decoration-color: #00d7ff\">None</span>, <span style=\"color: #00af00; text-decoration-color: #00af00\">3</span>)         │         <span style=\"color: #00af00; text-decoration-color: #00af00\">99</span> │ ConcatinatedInpu… │\n",
       "├─────────────────────┼───────────────────┼────────────┼───────────────────┤\n",
       "│ S5P2 (<span style=\"color: #0087ff; text-decoration-color: #0087ff\">Dense</span>)        │ (<span style=\"color: #00d7ff; text-decoration-color: #00d7ff\">None</span>, <span style=\"color: #00af00; text-decoration-color: #00af00\">3</span>)         │         <span style=\"color: #00af00; text-decoration-color: #00af00\">99</span> │ ConcatinatedInpu… │\n",
       "└─────────────────────┴───────────────────┴────────────┴───────────────────┘\n",
       "</pre>\n"
      ]
     },
     "metadata": {},
     "output_type": "display_data"
    },
    {
     "data": {
      "text/plain": [
       "\u001B[1m Total params: \u001B[0m\u001B[38;5;34m98,494\u001B[0m (384.74 KB)\n"
      ],
      "text/html": [
       "<pre style=\"white-space:pre;overflow-x:auto;line-height:normal;font-family:Menlo,'DejaVu Sans Mono',consolas,'Courier New',monospace\"><span style=\"font-weight: bold\"> Total params: </span><span style=\"color: #00af00; text-decoration-color: #00af00\">98,494</span> (384.74 KB)\n",
       "</pre>\n"
      ]
     },
     "metadata": {},
     "output_type": "display_data"
    },
    {
     "data": {
      "text/plain": [
       "\u001B[1m Trainable params: \u001B[0m\u001B[38;5;34m98,494\u001B[0m (384.74 KB)\n"
      ],
      "text/html": [
       "<pre style=\"white-space:pre;overflow-x:auto;line-height:normal;font-family:Menlo,'DejaVu Sans Mono',consolas,'Courier New',monospace\"><span style=\"font-weight: bold\"> Trainable params: </span><span style=\"color: #00af00; text-decoration-color: #00af00\">98,494</span> (384.74 KB)\n",
       "</pre>\n"
      ]
     },
     "metadata": {},
     "output_type": "display_data"
    },
    {
     "data": {
      "text/plain": [
       "\u001B[1m Non-trainable params: \u001B[0m\u001B[38;5;34m0\u001B[0m (0.00 B)\n"
      ],
      "text/html": [
       "<pre style=\"white-space:pre;overflow-x:auto;line-height:normal;font-family:Menlo,'DejaVu Sans Mono',consolas,'Courier New',monospace\"><span style=\"font-weight: bold\"> Non-trainable params: </span><span style=\"color: #00af00; text-decoration-color: #00af00\">0</span> (0.00 B)\n",
       "</pre>\n"
      ]
     },
     "metadata": {},
     "output_type": "display_data"
    },
    {
     "name": "stdout",
     "output_type": "stream",
     "text": [
      "None\n"
     ]
    }
   ],
   "execution_count": 62
  },
  {
   "metadata": {},
   "cell_type": "markdown",
   "source": [
    "### **Training the model:**\n",
    "Now that the model has been built and compiled it is ready for the training data that has been previously prepared. Below is the code for training the model."
   ],
   "id": "befcdba0f1fa299b"
  },
  {
   "metadata": {
    "ExecuteTime": {
     "end_time": "2024-07-02T23:34:03.794877Z",
     "start_time": "2024-07-02T23:33:54.787683Z"
    }
   },
   "cell_type": "code",
   "source": [
    "model.fit([layer1_X_train, layer2_X_train], [S1P1_train, S1P2_train, S2P1_train,\n",
    "                    S2P2_train, S3P1_train, S3P2_train, S4P1_train,\n",
    "                    S4P2_train, S5P1_train, S5P2_train],\n",
    "          epochs=10,\n",
    "          batch_size=32,\n",
    "          validation_data=([layer1_X_val, layer2_X_val], [S1P1_val, S1P2_val, S2P1_val,\n",
    "                                                          S2P2_val, S3P1_val, S3P2_val, S4P1_val,\n",
    "                                                          S4P2_val, S5P1_val, S5P2_val]))"
   ],
   "id": "f0cca0f50fcf7142",
   "outputs": [
    {
     "name": "stdout",
     "output_type": "stream",
     "text": [
      "Epoch 1/10\n",
      "\u001B[1m25/25\u001B[0m \u001B[32m━━━━━━━━━━━━━━━━━━━━\u001B[0m\u001B[37m\u001B[0m \u001B[1m7s\u001B[0m 41ms/step - Scinero1pt1_accuracy: 0.6661 - Scinero1pt2_accuracy: 0.7350 - Scinero2pt1_accuracy: 0.7635 - Scinero2pt2_accuracy: 0.5804 - Scinero3pt1_accuracy: 0.4929 - Scinero3pt2_accuracy: 0.5405 - Scinero4pt1_accuracy: 0.7478 - Scinero4pt2_accuracy: 0.4242 - Scinero5pt1_accuracy: 0.8116 - Scinero5pt2_accuracy: 0.7226 - loss: 15.9669 - val_Scinero1pt1_accuracy: 0.8642 - val_Scinero1pt2_accuracy: 0.7654 - val_Scinero2pt1_accuracy: 0.7901 - val_Scinero2pt2_accuracy: 0.7654 - val_Scinero3pt1_accuracy: 0.7037 - val_Scinero3pt2_accuracy: 0.6914 - val_Scinero4pt1_accuracy: 0.8889 - val_Scinero4pt2_accuracy: 0.8395 - val_Scinero5pt1_accuracy: 0.7654 - val_Scinero5pt2_accuracy: 0.7654 - val_loss: 12.0860\n",
      "Epoch 2/10\n",
      "\u001B[1m25/25\u001B[0m \u001B[32m━━━━━━━━━━━━━━━━━━━━\u001B[0m\u001B[37m\u001B[0m \u001B[1m0s\u001B[0m 5ms/step - Scinero1pt1_accuracy: 0.8455 - Scinero1pt2_accuracy: 0.7559 - Scinero2pt1_accuracy: 0.8218 - Scinero2pt2_accuracy: 0.7014 - Scinero3pt1_accuracy: 0.6855 - Scinero3pt2_accuracy: 0.6583 - Scinero4pt1_accuracy: 0.9039 - Scinero4pt2_accuracy: 0.6398 - Scinero5pt1_accuracy: 0.7777 - Scinero5pt2_accuracy: 0.7258 - loss: 12.0912 - val_Scinero1pt1_accuracy: 0.8642 - val_Scinero1pt2_accuracy: 0.7654 - val_Scinero2pt1_accuracy: 0.7901 - val_Scinero2pt2_accuracy: 0.7654 - val_Scinero3pt1_accuracy: 0.7284 - val_Scinero3pt2_accuracy: 0.7037 - val_Scinero4pt1_accuracy: 0.8889 - val_Scinero4pt2_accuracy: 0.8395 - val_Scinero5pt1_accuracy: 0.7531 - val_Scinero5pt2_accuracy: 0.7654 - val_loss: 10.6855\n",
      "Epoch 3/10\n",
      "\u001B[1m25/25\u001B[0m \u001B[32m━━━━━━━━━━━━━━━━━━━━\u001B[0m\u001B[37m\u001B[0m \u001B[1m0s\u001B[0m 6ms/step - Scinero1pt1_accuracy: 0.8252 - Scinero1pt2_accuracy: 0.7551 - Scinero2pt1_accuracy: 0.7918 - Scinero2pt2_accuracy: 0.6970 - Scinero3pt1_accuracy: 0.6957 - Scinero3pt2_accuracy: 0.6458 - Scinero4pt1_accuracy: 0.8866 - Scinero4pt2_accuracy: 0.6196 - Scinero5pt1_accuracy: 0.7549 - Scinero5pt2_accuracy: 0.7338 - loss: 11.0506 - val_Scinero1pt1_accuracy: 0.8642 - val_Scinero1pt2_accuracy: 0.7654 - val_Scinero2pt1_accuracy: 0.7901 - val_Scinero2pt2_accuracy: 0.7654 - val_Scinero3pt1_accuracy: 0.7284 - val_Scinero3pt2_accuracy: 0.7037 - val_Scinero4pt1_accuracy: 0.8889 - val_Scinero4pt2_accuracy: 0.8395 - val_Scinero5pt1_accuracy: 0.7531 - val_Scinero5pt2_accuracy: 0.7654 - val_loss: 9.6758\n",
      "Epoch 4/10\n",
      "\u001B[1m25/25\u001B[0m \u001B[32m━━━━━━━━━━━━━━━━━━━━\u001B[0m\u001B[37m\u001B[0m \u001B[1m0s\u001B[0m 6ms/step - Scinero1pt1_accuracy: 0.8211 - Scinero1pt2_accuracy: 0.7484 - Scinero2pt1_accuracy: 0.7843 - Scinero2pt2_accuracy: 0.6785 - Scinero3pt1_accuracy: 0.7162 - Scinero3pt2_accuracy: 0.6366 - Scinero4pt1_accuracy: 0.8623 - Scinero4pt2_accuracy: 0.6255 - Scinero5pt1_accuracy: 0.7614 - Scinero5pt2_accuracy: 0.7055 - loss: 10.3657 - val_Scinero1pt1_accuracy: 0.8642 - val_Scinero1pt2_accuracy: 0.7654 - val_Scinero2pt1_accuracy: 0.7901 - val_Scinero2pt2_accuracy: 0.7901 - val_Scinero3pt1_accuracy: 0.7284 - val_Scinero3pt2_accuracy: 0.7037 - val_Scinero4pt1_accuracy: 0.8889 - val_Scinero4pt2_accuracy: 0.8272 - val_Scinero5pt1_accuracy: 0.7531 - val_Scinero5pt2_accuracy: 0.7654 - val_loss: 9.2659\n",
      "Epoch 5/10\n",
      "\u001B[1m25/25\u001B[0m \u001B[32m━━━━━━━━━━━━━━━━━━━━\u001B[0m\u001B[37m\u001B[0m \u001B[1m0s\u001B[0m 6ms/step - Scinero1pt1_accuracy: 0.8311 - Scinero1pt2_accuracy: 0.7580 - Scinero2pt1_accuracy: 0.7952 - Scinero2pt2_accuracy: 0.7055 - Scinero3pt1_accuracy: 0.6921 - Scinero3pt2_accuracy: 0.6167 - Scinero4pt1_accuracy: 0.8955 - Scinero4pt2_accuracy: 0.6436 - Scinero5pt1_accuracy: 0.7879 - Scinero5pt2_accuracy: 0.7311 - loss: 9.6589 - val_Scinero1pt1_accuracy: 0.8642 - val_Scinero1pt2_accuracy: 0.7654 - val_Scinero2pt1_accuracy: 0.7901 - val_Scinero2pt2_accuracy: 0.7778 - val_Scinero3pt1_accuracy: 0.7531 - val_Scinero3pt2_accuracy: 0.7160 - val_Scinero4pt1_accuracy: 0.8889 - val_Scinero4pt2_accuracy: 0.8148 - val_Scinero5pt1_accuracy: 0.7531 - val_Scinero5pt2_accuracy: 0.7654 - val_loss: 8.8132\n",
      "Epoch 6/10\n",
      "\u001B[1m25/25\u001B[0m \u001B[32m━━━━━━━━━━━━━━━━━━━━\u001B[0m\u001B[37m\u001B[0m \u001B[1m0s\u001B[0m 6ms/step - Scinero1pt1_accuracy: 0.8424 - Scinero1pt2_accuracy: 0.7701 - Scinero2pt1_accuracy: 0.8069 - Scinero2pt2_accuracy: 0.7120 - Scinero3pt1_accuracy: 0.7503 - Scinero3pt2_accuracy: 0.6486 - Scinero4pt1_accuracy: 0.8698 - Scinero4pt2_accuracy: 0.6611 - Scinero5pt1_accuracy: 0.7941 - Scinero5pt2_accuracy: 0.7389 - loss: 9.1485 - val_Scinero1pt1_accuracy: 0.8642 - val_Scinero1pt2_accuracy: 0.7654 - val_Scinero2pt1_accuracy: 0.7901 - val_Scinero2pt2_accuracy: 0.7901 - val_Scinero3pt1_accuracy: 0.7531 - val_Scinero3pt2_accuracy: 0.7037 - val_Scinero4pt1_accuracy: 0.8889 - val_Scinero4pt2_accuracy: 0.8272 - val_Scinero5pt1_accuracy: 0.7531 - val_Scinero5pt2_accuracy: 0.7654 - val_loss: 8.4740\n",
      "Epoch 7/10\n",
      "\u001B[1m25/25\u001B[0m \u001B[32m━━━━━━━━━━━━━━━━━━━━\u001B[0m\u001B[37m\u001B[0m \u001B[1m0s\u001B[0m 5ms/step - Scinero1pt1_accuracy: 0.8040 - Scinero1pt2_accuracy: 0.7480 - Scinero2pt1_accuracy: 0.7938 - Scinero2pt2_accuracy: 0.6870 - Scinero3pt1_accuracy: 0.7444 - Scinero3pt2_accuracy: 0.6451 - Scinero4pt1_accuracy: 0.8848 - Scinero4pt2_accuracy: 0.6727 - Scinero5pt1_accuracy: 0.7730 - Scinero5pt2_accuracy: 0.6996 - loss: 9.0969 - val_Scinero1pt1_accuracy: 0.8642 - val_Scinero1pt2_accuracy: 0.7654 - val_Scinero2pt1_accuracy: 0.7901 - val_Scinero2pt2_accuracy: 0.7654 - val_Scinero3pt1_accuracy: 0.6914 - val_Scinero3pt2_accuracy: 0.7160 - val_Scinero4pt1_accuracy: 0.8889 - val_Scinero4pt2_accuracy: 0.8272 - val_Scinero5pt1_accuracy: 0.7531 - val_Scinero5pt2_accuracy: 0.7654 - val_loss: 8.5465\n",
      "Epoch 8/10\n",
      "\u001B[1m25/25\u001B[0m \u001B[32m━━━━━━━━━━━━━━━━━━━━\u001B[0m\u001B[37m\u001B[0m \u001B[1m0s\u001B[0m 6ms/step - Scinero1pt1_accuracy: 0.8488 - Scinero1pt2_accuracy: 0.7551 - Scinero2pt1_accuracy: 0.7871 - Scinero2pt2_accuracy: 0.6889 - Scinero3pt1_accuracy: 0.7405 - Scinero3pt2_accuracy: 0.6661 - Scinero4pt1_accuracy: 0.9056 - Scinero4pt2_accuracy: 0.6538 - Scinero5pt1_accuracy: 0.8146 - Scinero5pt2_accuracy: 0.7227 - loss: 8.6153 - val_Scinero1pt1_accuracy: 0.8642 - val_Scinero1pt2_accuracy: 0.7654 - val_Scinero2pt1_accuracy: 0.7901 - val_Scinero2pt2_accuracy: 0.7654 - val_Scinero3pt1_accuracy: 0.7531 - val_Scinero3pt2_accuracy: 0.7160 - val_Scinero4pt1_accuracy: 0.8889 - val_Scinero4pt2_accuracy: 0.8272 - val_Scinero5pt1_accuracy: 0.7531 - val_Scinero5pt2_accuracy: 0.7654 - val_loss: 8.1053\n",
      "Epoch 9/10\n",
      "\u001B[1m25/25\u001B[0m \u001B[32m━━━━━━━━━━━━━━━━━━━━\u001B[0m\u001B[37m\u001B[0m \u001B[1m0s\u001B[0m 6ms/step - Scinero1pt1_accuracy: 0.8446 - Scinero1pt2_accuracy: 0.7565 - Scinero2pt1_accuracy: 0.8149 - Scinero2pt2_accuracy: 0.7089 - Scinero3pt1_accuracy: 0.7382 - Scinero3pt2_accuracy: 0.6675 - Scinero4pt1_accuracy: 0.9044 - Scinero4pt2_accuracy: 0.6540 - Scinero5pt1_accuracy: 0.7829 - Scinero5pt2_accuracy: 0.7207 - loss: 8.5008 - val_Scinero1pt1_accuracy: 0.8642 - val_Scinero1pt2_accuracy: 0.7654 - val_Scinero2pt1_accuracy: 0.7901 - val_Scinero2pt2_accuracy: 0.7654 - val_Scinero3pt1_accuracy: 0.7407 - val_Scinero3pt2_accuracy: 0.7284 - val_Scinero4pt1_accuracy: 0.8889 - val_Scinero4pt2_accuracy: 0.8148 - val_Scinero5pt1_accuracy: 0.7531 - val_Scinero5pt2_accuracy: 0.7654 - val_loss: 8.0148\n",
      "Epoch 10/10\n",
      "\u001B[1m25/25\u001B[0m \u001B[32m━━━━━━━━━━━━━━━━━━━━\u001B[0m\u001B[37m\u001B[0m \u001B[1m0s\u001B[0m 5ms/step - Scinero1pt1_accuracy: 0.8538 - Scinero1pt2_accuracy: 0.7540 - Scinero2pt1_accuracy: 0.8046 - Scinero2pt2_accuracy: 0.7230 - Scinero3pt1_accuracy: 0.7348 - Scinero3pt2_accuracy: 0.6732 - Scinero4pt1_accuracy: 0.8917 - Scinero4pt2_accuracy: 0.6860 - Scinero5pt1_accuracy: 0.7906 - Scinero5pt2_accuracy: 0.7190 - loss: 8.3336 - val_Scinero1pt1_accuracy: 0.8642 - val_Scinero1pt2_accuracy: 0.7654 - val_Scinero2pt1_accuracy: 0.7901 - val_Scinero2pt2_accuracy: 0.7654 - val_Scinero3pt1_accuracy: 0.7284 - val_Scinero3pt2_accuracy: 0.7284 - val_Scinero4pt1_accuracy: 0.8889 - val_Scinero4pt2_accuracy: 0.8025 - val_Scinero5pt1_accuracy: 0.7531 - val_Scinero5pt2_accuracy: 0.7654 - val_loss: 8.0143\n"
     ]
    },
    {
     "data": {
      "text/plain": [
       "<keras.src.callbacks.history.History at 0x17dc8b54c80>"
      ]
     },
     "execution_count": 30,
     "metadata": {},
     "output_type": "execute_result"
    }
   ],
   "execution_count": 30
  },
  {
   "metadata": {},
   "cell_type": "markdown",
   "source": [
    "### **Attempts made to improve output:**\n",
    "The loss calculation is high as seen in this output. The closer a loss is to 0 the better, but the above calculations are far from 0. Simplifying the model's complexity, adjusting the L2 regularzation penalties, and changing the number of epochs but none seemed to have any effect on the loss of the model.\n"
   ],
   "id": "5f86a2a9523d48b3"
  },
  {
   "metadata": {},
   "cell_type": "markdown",
   "source": [
    "### **Better understanding the data itself:**\n",
    "Having a better understanding of the data itself can often explain what is happening with the model. For example, knowing what percentage of people fell into each catagory for each scinario could potentially add more of an explination to what is seen in the model's output. This could help because in scinerio 1 part 1 the model predicted the correct answer about 85% of the time but if about 85% of people all fell within the same catagory then the high accuracy rate might not be as impressive. Below is the code that calculates the percentage of people that fall into each catagory for each scinario."
   ],
   "id": "27fd437fde152836"
  },
  {
   "metadata": {
    "ExecuteTime": {
     "end_time": "2024-07-03T02:21:49.438072Z",
     "start_time": "2024-07-03T02:21:49.393487Z"
    }
   },
   "cell_type": "code",
   "source": [
    "all_situations = [S1P1, S1P2, S2P1, S2P2, S3P1, S3P2, S4P1, S4P2, S5P1, S5P2]\n",
    "\n",
    "def get_percentages(full_data):\n",
    "    n = len(full_data)\n",
    "    classed_arr = [np.argmax(sample) for sample in full_data]\n",
    "    n0, n1, n2 = classed_arr.count(0), classed_arr.count(1), classed_arr.count(2)\n",
    "    return (f\"Catagory 0: {round((n0-3)/n*100,2)}% Catagory 1: \"\n",
    "            f\"{round((n1-3)/n*100,2)}% Catagory 2: {round((n2-3)/n*100,2)}%\")\n",
    "\n",
    "names = itterate_situations_and_parts()\n",
    "for i in range(10):\n",
    "    print(f\"{names[i]} = {get_percentages(all_situations[i])}\")\n",
    "\n"
   ],
   "id": "958bb486448808f9",
   "outputs": [
    {
     "name": "stdout",
     "output_type": "stream",
     "text": [
      "S1P1 = Catagory 0: 7.38% Catagory 1: 8.85% Catagory 2: 82.75%\n",
      "S1P2 = Catagory 0: 11.46% Catagory 1: 13.05% Catagory 2: 74.46%\n",
      "S2P1 = Catagory 0: 8.29% Catagory 1: 11.46% Catagory 2: 79.23%\n",
      "S2P2 = Catagory 0: 18.16% Catagory 1: 10.78% Catagory 2: 70.03%\n",
      "S3P1 = Catagory 0: 33.48% Catagory 1: 9.53% Catagory 2: 55.96%\n",
      "S3P2 = Catagory 0: 35.07% Catagory 1: 11.12% Catagory 2: 52.78%\n",
      "S4P1 = Catagory 0: 3.18% Catagory 1: 8.06% Catagory 2: 87.74%\n",
      "S4P2 = Catagory 0: 20.32% Catagory 1: 14.76% Catagory 2: 63.9%\n",
      "S5P1 = Catagory 0: 9.88% Catagory 1: 11.35% Catagory 2: 77.75%\n",
      "S5P2 = Catagory 0: 13.28% Catagory 1: 13.73% Catagory 2: 71.96%\n"
     ]
    }
   ],
   "execution_count": 63
  },
  {
   "metadata": {},
   "cell_type": "markdown",
   "source": "### **Next thing here**",
   "id": "cb194f17324f4f6e"
  }
 ],
 "metadata": {
  "kernelspec": {
   "display_name": "Python 3 (ipykernel)",
   "language": "python",
   "name": "python3"
  },
  "language_info": {
   "codemirror_mode": {
    "name": "ipython",
    "version": 3
   },
   "file_extension": ".py",
   "mimetype": "text/x-python",
   "name": "python",
   "nbconvert_exporter": "python",
   "pygments_lexer": "ipython3",
   "version": "3.12.2"
  }
 },
 "nbformat": 4,
 "nbformat_minor": 5
}
